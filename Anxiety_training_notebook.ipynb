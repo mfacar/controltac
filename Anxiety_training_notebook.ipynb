{
  "nbformat": 4,
  "nbformat_minor": 0,
  "metadata": {
    "colab": {
      "name": "Anxiety training notebook.ipynb",
      "version": "0.3.2",
      "provenance": [],
      "collapsed_sections": []
    },
    "kernelspec": {
      "name": "python3",
      "display_name": "Python 3"
    },
    "accelerator": "GPU"
  },
  "cells": [
    {
      "metadata": {
        "id": "KiNCjvbL-ffc",
        "colab_type": "text"
      },
      "cell_type": "markdown",
      "source": [
        "**Desarrollo**"
      ]
    },
    {
      "metadata": {
        "id": "35ZPgQG15vtk",
        "colab_type": "text"
      },
      "cell_type": "markdown",
      "source": [
        "# Predicción del nivel de ansiedad mediante análisis de texto\n",
        "\n",
        "---\n",
        "\n",
        "El presente trabajo pretende entrenar un modelo de clasificación, que a partir de el anásis de texto, determine el nivel de ansiedad de una persona.  \n",
        "\n",
        "Se ha utilizado la base de datos [DAIC-WOZ](http://dcapswoz.ict.usc.edu/wwwutil_files/DAICWOZDepression_Documentation.pdf), de la Universidad del Sur de California, el mismo que fue generado mediante sesiones de una entrevista clínica y el cuestionario PHQ8 con 189 personas.  Las entrevista fue diseñada para el soporte al diagnóstico de condiciones de enfermedades sicológicas como ansiedad, depresión y desordenes de estrés post traumático.\n",
        "\n",
        "Los datos del dataset incluyen grabaciones de audio de las entrevitas con sus correspondientes transcripciones asi como las caracterísicas faciales de los sujetos entrevistados.\n",
        "\n",
        "Esta base de datos es parte de un corpus mas completo, Corpus de Entrevistas para el Análisis de Enfermedades, DAIC por sus siglas en inglés.  "
      ]
    },
    {
      "metadata": {
        "id": "_iw_TiMI-oy0",
        "colab_type": "text"
      },
      "cell_type": "markdown",
      "source": [
        "La base de datos consiste en un comprimido para cada sesión de entrevistas, en la misma constan varios recursos de los cuales en este trabajo de ha hecho uso de la transcripción de la entrevista, como preparación previa se ha cargado todas las entrevistas en un único dataframe de forma local con el siguiente código.  "
      ]
    },
    {
      "metadata": {
        "id": "QBKSNYF3CV24",
        "colab_type": "text"
      },
      "cell_type": "markdown",
      "source": [
        "####Método de carga de transcripts"
      ]
    },
    {
      "metadata": {
        "id": "7OGudeBuDO9w",
        "colab_type": "text"
      },
      "cell_type": "markdown",
      "source": [
        "Al considerar tanto al entrevistador como al participante, el conjunto de datos se reduce a las sesiones de 186 personas, dado que 3 transcripciones no contienen el texto correspondiente a Ellie, la entrevistadora virtual. El csv generado se ha subido a google drive para poder utilizarlo en este lab."
      ]
    },
    {
      "metadata": {
        "id": "mL_14jE8ACCF",
        "colab_type": "code",
        "outputId": "5690b199-c14f-4829-9faa-11f12c2e5558",
        "colab": {
          "base_uri": "https://localhost:8080/",
          "height": 54
        }
      },
      "cell_type": "code",
      "source": [
        "\"\"\"\n",
        "rows_list = []\n",
        "\n",
        "for filename in glob.iglob('/Volumes/Dev/Projects/Psicobotica/**/*TRANSCRIPT.csv', recursive=True):    \n",
        "    transcript = pd.read_csv(filename, sep='\\t')    \n",
        "    m = re.search('^\\/(.+\\/)*(\\d+)_TRANSCRIPT.csv', filename)    \n",
        "    personId = m.group(2)\n",
        "    p = {}\n",
        "    question = \"\"\n",
        "    answer = \"\"\n",
        "    lines = len(transcript)\n",
        "    for i in range(0, lines): \n",
        "        row=transcript.iloc[i]\n",
        "        if (row[\"speaker\"] == \"Ellie\" ) or (i == lines - 1):\n",
        "            p[\"personId\"] = personId\n",
        "            if (\"(\" in str(question)):\n",
        "                question = question[question.index(\"(\")+1:question.index(\")\")]\n",
        "            p[\"question\"] = question\n",
        "            p[\"answer\"] = answer\n",
        "            if (question != \"\"):\n",
        "                rows_list.append(p)\n",
        "            p = {}         \n",
        "            answer = \"\"\n",
        "            question = row[\"value\"]\n",
        "        else:\n",
        "            answer = str(answer) + \" \" + str(row[\"value\"])\n",
        "    \n",
        "allParticipants = pd.DataFrame(rows_list, columns=['personId', 'question', 'answer'])\n",
        "allParticipants.to_csv('/Volumes/Dev/Projects/practicas/all.csv', sep=',')\n",
        "\"\"\""
      ],
      "execution_count": 0,
      "outputs": [
        {
          "output_type": "execute_result",
          "data": {
            "text/plain": [
              "'\\nrows_list = []\\n\\nfor filename in glob.iglob(\\'/Volumes/Dev/Projects/Psicobotica/**/*TRANSCRIPT.csv\\', recursive=True):    \\n    transcript = pd.read_csv(filename, sep=\\'\\t\\')    \\n    m = re.search(\\'^\\\\/(.+\\\\/)*(\\\\d+)_TRANSCRIPT.csv\\', filename)    \\n    personId = m.group(2)\\n    p = {}\\n    question = \"\"\\n    answer = \"\"\\n    lines = len(transcript)\\n    for i in range(0, lines): \\n        row=transcript.iloc[i]\\n        if (row[\"speaker\"] == \"Ellie\" ) or (i == lines - 1):\\n            p[\"personId\"] = personId\\n            if (\"(\" in str(question)):\\n                question = question[question.index(\"(\")+1:question.index(\")\")]\\n            p[\"question\"] = question\\n            p[\"answer\"] = answer\\n            if (question != \"\"):\\n                rows_list.append(p)\\n            p = {}         \\n            answer = \"\"\\n            question = row[\"value\"]\\n        else:\\n            answer = str(answer) + \" \" + str(row[\"value\"])\\n    \\nallParticipants = pd.DataFrame(rows_list, columns=[\\'personId\\', \\'question\\', \\'answer\\'])\\nallParticipants.to_csv(\\'/Volumes/Dev/Projects/practicas/all.csv\\', sep=\\',\\')\\n'"
            ]
          },
          "metadata": {
            "tags": []
          },
          "execution_count": 1
        }
      ]
    },
    {
      "metadata": {
        "id": "A2OedEZoT7v9",
        "colab_type": "text"
      },
      "cell_type": "markdown",
      "source": [
        "####Instalo las librerias utilizadas"
      ]
    },
    {
      "metadata": {
        "id": "mtMIOfjmUDlN",
        "colab_type": "code",
        "outputId": "c4ff3694-08d7-42a0-d83a-ff437527a16e",
        "colab": {
          "base_uri": "https://localhost:8080/",
          "height": 34
        }
      },
      "cell_type": "code",
      "source": [
        "!pip install -q gensim"
      ],
      "execution_count": 0,
      "outputs": [
        {
          "output_type": "stream",
          "text": [
            "Requirement already satisfied: snowballstemmer in /usr/local/lib/python3.6/dist-packages (1.2.1)\n"
          ],
          "name": "stdout"
        }
      ]
    },
    {
      "metadata": {
        "id": "ZB_TLkFX5oXB",
        "colab_type": "text"
      },
      "cell_type": "markdown",
      "source": [
        "####Importo las librerias requeridas para el desarrollo del trabajo"
      ]
    },
    {
      "metadata": {
        "id": "uhPdWaz7h2tx",
        "colab_type": "code",
        "outputId": "1781f37d-d542-4221-8884-5f77f313a6cf",
        "colab": {
          "base_uri": "https://localhost:8080/",
          "height": 34
        }
      },
      "cell_type": "code",
      "source": [
        "import glob\n",
        "import pandas as pd\n",
        "import numpy as np\n",
        "import re\n",
        "import fnmatch\n",
        "import os\n",
        "import keras\n",
        "\n",
        "from keras.datasets import fashion_mnist\n",
        "from keras.models import Sequential, Model\n",
        "from keras.layers import Dense, Dropout, Embedding, LSTM, Input, Activation, GlobalAveragePooling1D, Flatten, Concatenate, Conv1D, MaxPooling1D\n",
        "from keras.layers.normalization import BatchNormalization\n",
        "from keras.layers.merge import concatenate\n",
        "from keras.optimizers import SGD, RMSprop, Adagrad, Adam\n",
        "from keras.preprocessing.text import one_hot, text_to_word_sequence, Tokenizer\n",
        "from keras.preprocessing.sequence import pad_sequences\n",
        "\n",
        "from keras.callbacks import EarlyStopping, ModelCheckpoint\n",
        "from keras.utils.vis_utils import plot_model\n",
        "\n",
        "from nltk.corpus import stopwords\n",
        "from nltk.stem import SnowballStemmer\n",
        "from string import punctuation\n",
        "from scipy import stats\n",
        "\n",
        "from keras.utils.vis_utils import plot_model\n",
        "\n",
        "import matplotlib\n",
        "import matplotlib.pyplot as plt\n",
        "\n",
        "import itertools\n",
        "import gensim\n",
        "import nltk\n",
        "from nltk.stem import WordNetLemmatizer"
      ],
      "execution_count": 0,
      "outputs": [
        {
          "output_type": "stream",
          "text": [
            "Using TensorFlow backend.\n"
          ],
          "name": "stderr"
        }
      ]
    },
    {
      "metadata": {
        "id": "DvGsHRW4kkCp",
        "colab_type": "text"
      },
      "cell_type": "markdown",
      "source": [
        "Descargamos los recursos de nltk, wordnet y stopwords para el procesamiento de lenguaje natural"
      ]
    },
    {
      "metadata": {
        "id": "axhc_8DG05hv",
        "colab_type": "code",
        "outputId": "d68d621b-ff16-4250-f83e-2a49efb7a987",
        "colab": {
          "base_uri": "https://localhost:8080/",
          "height": 85
        }
      },
      "cell_type": "code",
      "source": [
        "nltk.download('wordnet')\n",
        "nltk.download('stopwords')\n",
        "wordnet_lemmatizer = WordNetLemmatizer()"
      ],
      "execution_count": 0,
      "outputs": [
        {
          "output_type": "stream",
          "text": [
            "[nltk_data] Downloading package wordnet to /root/nltk_data...\n",
            "[nltk_data]   Unzipping corpora/wordnet.zip.\n",
            "[nltk_data] Downloading package stopwords to /root/nltk_data...\n",
            "[nltk_data]   Unzipping corpora/stopwords.zip.\n"
          ],
          "name": "stdout"
        }
      ]
    },
    {
      "metadata": {
        "id": "TXW7miNilfVn",
        "colab_type": "text"
      },
      "cell_type": "markdown",
      "source": [
        "Habilito uso de drive para cargar los datasets"
      ]
    },
    {
      "metadata": {
        "id": "Oy6nsx_9kC6K",
        "colab_type": "code",
        "outputId": "9cb26d6b-e85d-4249-acaa-b463398aa34b",
        "colab": {
          "base_uri": "https://localhost:8080/",
          "height": 122
        }
      },
      "cell_type": "code",
      "source": [
        "from google.colab import drive\n",
        "\n",
        "drive.mount('/content/drive')"
      ],
      "execution_count": 0,
      "outputs": [
        {
          "output_type": "stream",
          "text": [
            "Go to this URL in a browser: https://accounts.google.com/o/oauth2/auth?client_id=947318989803-6bn6qk8qdgf4n4g3pfee6491hc0brc4i.apps.googleusercontent.com&redirect_uri=urn%3Aietf%3Awg%3Aoauth%3A2.0%3Aoob&scope=email%20https%3A%2F%2Fwww.googleapis.com%2Fauth%2Fdocs.test%20https%3A%2F%2Fwww.googleapis.com%2Fauth%2Fdrive%20https%3A%2F%2Fwww.googleapis.com%2Fauth%2Fdrive.photos.readonly%20https%3A%2F%2Fwww.googleapis.com%2Fauth%2Fpeopleapi.readonly&response_type=code\n",
            "\n",
            "Enter your authorization code:\n",
            "··········\n",
            "Mounted at /content/drive\n"
          ],
          "name": "stdout"
        }
      ]
    },
    {
      "metadata": {
        "id": "maf7WJu6cJlq",
        "colab_type": "text"
      },
      "cell_type": "markdown",
      "source": [
        "####Variable generales"
      ]
    },
    {
      "metadata": {
        "id": "6f4cF5JGksYR",
        "colab_type": "text"
      },
      "cell_type": "markdown",
      "source": [
        "En base a la clasificación propuesta en https://www.torbayandsouthdevon.nhs.uk/uploads/score-sheet-gad-7-anxiety-and-phq-9-depression.pdf, se definen 5 niveles de ansiedad basados en la puntuación PHQ8"
      ]
    },
    {
      "metadata": {
        "id": "UNTpKYGtcINy",
        "colab_type": "code",
        "colab": {}
      },
      "cell_type": "code",
      "source": [
        "labels=['none','mild','moderate','moderately severe', 'severe']\n",
        "num_classes = len(labels)"
      ],
      "execution_count": 0,
      "outputs": []
    },
    {
      "metadata": {
        "id": "f3lg9jcPbm71",
        "colab_type": "text"
      },
      "cell_type": "markdown",
      "source": [
        "####Funciones para gráficas de modelos"
      ]
    },
    {
      "metadata": {
        "id": "o3Wd1PmgbuJP",
        "colab_type": "text"
      },
      "cell_type": "markdown",
      "source": [
        "Tomadas de la materia Sistemas Cognitivos Artificiales - Alfredo Lainez"
      ]
    },
    {
      "metadata": {
        "id": "LIhakC2Pbr4U",
        "colab_type": "code",
        "colab": {}
      },
      "cell_type": "code",
      "source": [
        "def plot_acc(history, title=\"Model Accuracy\"):\n",
        "    \"\"\"Imprime una gráfica mostrando la accuracy por epoch obtenida en un entrenamiento\"\"\"\n",
        "    plt.plot(history.history['acc'])\n",
        "    plt.plot(history.history['val_acc'])\n",
        "    plt.title(title)\n",
        "    plt.ylabel('Accuracy')\n",
        "    plt.xlabel('Epoch')\n",
        "    plt.legend(['Train', 'Val'], loc='upper left')\n",
        "    plt.show()\n",
        "    \n",
        "def plot_loss(history, title=\"Model Loss\"):\n",
        "    \"\"\"Imprime una gráfica mostrando la pérdida por epoch obtenida en un entrenamiento\"\"\"\n",
        "    plt.plot(history.history['loss'])\n",
        "    plt.plot(history.history['val_loss'])\n",
        "    plt.title(title)\n",
        "    plt.ylabel('Loss')\n",
        "    plt.xlabel('Epoch')\n",
        "    plt.legend(['Train', 'Val'], loc='upper right')\n",
        "    plt.show()\n",
        "    \n",
        "def plot_compare_losses(history1, history2, name1=\"Red 1\",\n",
        "                        name2=\"Red 2\", title=\"Graph title\"):\n",
        "    \"\"\"Compara losses de dos entrenamientos con nombres name1 y name2\"\"\"\n",
        "    plt.plot(history1.history['loss'], color=\"green\")\n",
        "    plt.plot(history1.history['val_loss'], 'r--', color=\"green\")\n",
        "    plt.plot(history2.history['loss'], color=\"blue\")\n",
        "    plt.plot(history2.history['val_loss'], 'r--', color=\"blue\")\n",
        "    plt.title(title)\n",
        "    plt.ylabel('Loss')\n",
        "    plt.xlabel('Epoch')\n",
        "    plt.legend(['Train ' + name1, 'Val ' + name1, \n",
        "                'Train ' + name2, 'Val ' + name2],\n",
        "               loc='upper right')\n",
        "    plt.show()\n",
        "    \n",
        "def plot_compare_accs(history1, history2, name1=\"Red 1\",\n",
        "                      name2=\"Red 2\", title=\"Graph title\"):\n",
        "    \"\"\"Compara accuracies de dos entrenamientos con nombres name1 y name2\"\"\"\n",
        "    plt.plot(history1.history['acc'], color=\"green\")\n",
        "    plt.plot(history1.history['val_acc'], 'r--', color=\"green\")\n",
        "    plt.plot(history2.history['acc'], color=\"blue\")\n",
        "    plt.plot(history2.history['val_acc'], 'r--', color=\"blue\")\n",
        "    plt.title(title)\n",
        "    plt.ylabel('Accuracy')\n",
        "    plt.xlabel('Epoch')\n",
        "    plt.legend(['Train ' + name1, 'Val ' + name1, \n",
        "                'Train ' + name2, 'Val ' + name2], \n",
        "               loc='lower right')\n",
        "    plt.show()\n",
        "\n",
        "def plot_compare_multiple_metrics(history_array, names, colors, title=\"Graph title\", metric='acc'):  \n",
        "    legend = []\n",
        "    for i in range(0, len(history_array)):\n",
        "        plt.plot(history_array[i].history[metric], color=colors[i])\n",
        "        plt.plot(history_array[i].history['val_' + metric], 'r--', color=colors[i])\n",
        "        legend.append('Train ' + names[i])\n",
        "        legend.append('Val ' + names[i])\n",
        "    \n",
        "    plt.title(title)\n",
        "    plt.ylabel('Accuracy')\n",
        "    plt.xlabel('Epoch')   \n",
        "    plt.axis\n",
        "    plt.legend(legend, \n",
        "               loc='lower right')\n",
        "    plt.show()"
      ],
      "execution_count": 0,
      "outputs": []
    },
    {
      "metadata": {
        "id": "rU6ki8KClt-h",
        "colab_type": "text"
      },
      "cell_type": "markdown",
      "source": [
        "## Carga y preprocesamiento de transcripciones"
      ]
    },
    {
      "metadata": {
        "id": "3O1UDoziKxE2",
        "colab_type": "text"
      },
      "cell_type": "markdown",
      "source": [
        "#### Carga de fuentes de datos\n",
        "\n",
        "\n",
        "---\n",
        "\n",
        "Cargo el dataset que contiene solo las respuestas de los participantes"
      ]
    },
    {
      "metadata": {
        "id": "Z57zoWiofioa",
        "colab_type": "text"
      },
      "cell_type": "markdown",
      "source": [
        "Cargo el transcript de la entrevistadora virtual y los participantes"
      ]
    },
    {
      "metadata": {
        "id": "2UchIdRhV_dR",
        "colab_type": "code",
        "colab": {}
      },
      "cell_type": "code",
      "source": [
        "all_participants = pd.read_csv('/content/drive/My Drive/Colab Notebooks/all.csv', sep=',')\n",
        "all_participants.columns =  ['index','personId', 'question', 'answer']\n",
        "all_participants = all_participants.astype({\"index\": float, \"personId\": float, \"question\": str, \"answer\": str })"
      ],
      "execution_count": 0,
      "outputs": []
    },
    {
      "metadata": {
        "id": "fAyRf7zVD3AN",
        "colab_type": "text"
      },
      "cell_type": "markdown",
      "source": [
        "Visualizo los primeros datos de los dataframes cargados."
      ]
    },
    {
      "metadata": {
        "id": "APMmmXa-WtBj",
        "colab_type": "code",
        "outputId": "84ff22a9-2694-4090-bdfb-883c53f3763f",
        "colab": {
          "base_uri": "https://localhost:8080/",
          "height": 204
        }
      },
      "cell_type": "code",
      "source": [
        "all_participants.head()"
      ],
      "execution_count": 0,
      "outputs": [
        {
          "output_type": "execute_result",
          "data": {
            "text/html": [
              "<div>\n",
              "<style scoped>\n",
              "    .dataframe tbody tr th:only-of-type {\n",
              "        vertical-align: middle;\n",
              "    }\n",
              "\n",
              "    .dataframe tbody tr th {\n",
              "        vertical-align: top;\n",
              "    }\n",
              "\n",
              "    .dataframe thead th {\n",
              "        text-align: right;\n",
              "    }\n",
              "</style>\n",
              "<table border=\"1\" class=\"dataframe\">\n",
              "  <thead>\n",
              "    <tr style=\"text-align: right;\">\n",
              "      <th></th>\n",
              "      <th>index</th>\n",
              "      <th>personId</th>\n",
              "      <th>question</th>\n",
              "      <th>answer</th>\n",
              "    </tr>\n",
              "  </thead>\n",
              "  <tbody>\n",
              "    <tr>\n",
              "      <th>0</th>\n",
              "      <td>0.0</td>\n",
              "      <td>475.0</td>\n",
              "      <td>hi i'm ellie thanks for coming in today i was ...</td>\n",
              "      <td>yes</td>\n",
              "    </tr>\n",
              "    <tr>\n",
              "      <th>1</th>\n",
              "      <td>1.0</td>\n",
              "      <td>475.0</td>\n",
              "      <td>okay</td>\n",
              "      <td>nan</td>\n",
              "    </tr>\n",
              "    <tr>\n",
              "      <th>2</th>\n",
              "      <td>2.0</td>\n",
              "      <td>475.0</td>\n",
              "      <td>so how are you doing today</td>\n",
              "      <td>good thank you</td>\n",
              "    </tr>\n",
              "    <tr>\n",
              "      <th>3</th>\n",
              "      <td>3.0</td>\n",
              "      <td>475.0</td>\n",
              "      <td>that's good</td>\n",
              "      <td>nan</td>\n",
              "    </tr>\n",
              "    <tr>\n",
              "      <th>4</th>\n",
              "      <td>4.0</td>\n",
              "      <td>475.0</td>\n",
              "      <td>where are you from originally</td>\n",
              "      <td>el segundo right down the street</td>\n",
              "    </tr>\n",
              "  </tbody>\n",
              "</table>\n",
              "</div>"
            ],
            "text/plain": [
              "   index  personId                                           question  \\\n",
              "0    0.0     475.0  hi i'm ellie thanks for coming in today i was ...   \n",
              "1    1.0     475.0                                               okay   \n",
              "2    2.0     475.0                         so how are you doing today   \n",
              "3    3.0     475.0                                        that's good   \n",
              "4    4.0     475.0                      where are you from originally   \n",
              "\n",
              "                              answer  \n",
              "0                                yes  \n",
              "1                                nan  \n",
              "2                     good thank you  \n",
              "3                                nan  \n",
              "4   el segundo right down the street  "
            ]
          },
          "metadata": {
            "tags": []
          },
          "execution_count": 17
        }
      ]
    },
    {
      "metadata": {
        "id": "RpWRRu9jcm31",
        "colab_type": "text"
      },
      "cell_type": "markdown",
      "source": [
        "####Analisis de datos"
      ]
    },
    {
      "metadata": {
        "id": "s1LGkOSAckLa",
        "colab_type": "code",
        "outputId": "44098279-0ab5-43ca-d72f-1e64ce5e38a1",
        "colab": {
          "base_uri": "https://localhost:8080/",
          "height": 347
        }
      },
      "cell_type": "code",
      "source": [
        "ds_len = len(all_participants)\n",
        "len_answers = [len(v) for v in all_participants['answer']]\n",
        "ds_max = max(len_answers)\n",
        "ds_min = min(len_answers)\n",
        "\n",
        "stats.describe(len_answers)\n",
        "plt.hist(len_answers)\n",
        "plt.show()"
      ],
      "execution_count": 0,
      "outputs": [
        {
          "output_type": "display_data",
          "data": {
            "image/png": "[encoded data removed]",
            "text/plain": [
              "<matplotlib.figure.Figure at 0x7feacf0edd30>"
            ]
          },
          "metadata": {
            "tags": []
          }
        }
      ]
    },
    {
      "metadata": {
        "id": "1dASiIAenIxE",
        "colab_type": "text"
      },
      "cell_type": "markdown",
      "source": [
        "La mayor cantidad de frases tiene una longitud de 50 palabras"
      ]
    },
    {
      "metadata": {
        "id": "_gYd68nzOvaC",
        "colab_type": "text"
      },
      "cell_type": "markdown",
      "source": [
        "####Funciones auxiliares para procesamiento de texto"
      ]
    },
    {
      "metadata": {
        "id": "WjhvDJXdl9Ah",
        "colab_type": "text"
      },
      "cell_type": "markdown",
      "source": [
        "#####Función tomada de kaggle para limpieza de texto"
      ]
    },
    {
      "metadata": {
        "id": "i4pwBVnEkztS",
        "colab_type": "code",
        "colab": {}
      },
      "cell_type": "code",
      "source": [
        "# The function \"text_to_wordlist\" is from\n",
        "# https://www.kaggle.com/currie32/quora-question-pairs/the-importance-of-cleaning-text\n",
        "def text_to_wordlist(text, remove_stopwords=True, stem_words=False):    \n",
        "    # Clean the text, with the option to remove stopwords and to stem words.\n",
        "    \n",
        "    # Convert words to lower case and split them\n",
        "    text = text.lower().split()\n",
        "\n",
        "    # Optionally, remove stop words\n",
        "    if remove_stopwords:\n",
        "        stops = set(stopwords.words(\"english\"))\n",
        "        text = [wordnet_lemmatizer.lemmatize(w) for w in text if not w in stops ]\n",
        "        text = [w for w in text if w != \"nan\" ]\n",
        "    \n",
        "    text = \" \".join(text)\n",
        "\n",
        "    # Clean the text\n",
        "    text = re.sub(r\"[^A-Za-z0-9^,!.\\/'+-=]\", \" \", text)\n",
        "    text = re.sub(r\"what's\", \"what is \", text)\n",
        "    text = re.sub(r\"\\'s\", \" \", text)\n",
        "    text = re.sub(r\"\\'ve\", \" have \", text)\n",
        "    text = re.sub(r\"can't\", \"cannot \", text)\n",
        "    text = re.sub(r\"n't\", \" not \", text)\n",
        "    text = re.sub(r\"i'm\", \"i am \", text)\n",
        "    text = re.sub(r\"\\'re\", \" are \", text)\n",
        "    text = re.sub(r\"\\'d\", \" would \", text)\n",
        "    text = re.sub(r\"\\'ll\", \" will \", text)\n",
        "    text = re.sub(r\",\", \" \", text)\n",
        "    text = re.sub(r\"\\.\", \" \", text)\n",
        "    text = re.sub(r\"!\", \" ! \", text)\n",
        "    text = re.sub(r\"\\/\", \" \", text)\n",
        "    text = re.sub(r\"\\^\", \" ^ \", text)\n",
        "    text = re.sub(r\"\\+\", \" + \", text)\n",
        "    text = re.sub(r\"\\-\", \" - \", text)\n",
        "    text = re.sub(r\"\\=\", \" = \", text)\n",
        "    \n",
        "    text = re.sub(r\"\\<\", \" \", text)\n",
        "    text = re.sub(r\"\\>\", \" \", text)\n",
        "    \n",
        "    text = re.sub(r\"'\", \" \", text)\n",
        "    text = re.sub(r\"(\\d+)(k)\", r\"\\g<1>000\", text)\n",
        "    text = re.sub(r\":\", \" : \", text)\n",
        "    text = re.sub(r\" e g \", \" eg \", text)\n",
        "    text = re.sub(r\" b g \", \" bg \", text)\n",
        "    text = re.sub(r\" u s \", \" american \", text)\n",
        "    text = re.sub(r\"\\0s\", \"0\", text)\n",
        "    text = re.sub(r\" 9 11 \", \"911\", text)\n",
        "    text = re.sub(r\"e - mail\", \"email\", text)\n",
        "    text = re.sub(r\"j k\", \"jk\", text)\n",
        "    text = re.sub(r\"\\s{2,}\", \" \", text)\n",
        "    \n",
        "    # Optionally, shorten words to their stems\n",
        "    if stem_words:\n",
        "        text = text.split()\n",
        "        stemmer = SnowballStemmer('english')\n",
        "        stemmed_words = [stemmer.stem(word) for word in text]\n",
        "        text = \" \".join(stemmed_words)\n",
        "    \n",
        "    # Return a list of words\n",
        "    return(text)"
      ],
      "execution_count": 0,
      "outputs": []
    },
    {
      "metadata": {
        "id": "39fDkysCqpug",
        "colab_type": "text"
      },
      "cell_type": "markdown",
      "source": [
        "Identificamos el número de palabras distintas"
      ]
    },
    {
      "metadata": {
        "id": "2F1WkFZYOGcc",
        "colab_type": "code",
        "outputId": "ee620768-5b81-4321-bc0b-a8c1ed6de56a",
        "colab": {
          "base_uri": "https://localhost:8080/",
          "height": 34
        }
      },
      "cell_type": "code",
      "source": [
        "words = [w for w in all_participants_mix['answer'].tolist()]\n",
        "words = set(itertools.chain(*words))\n",
        "vocab_size = len(words)\n",
        "print(\"El tamaño del vocabulario es de {}\".format(vocab_size))"
      ],
      "execution_count": 0,
      "outputs": [
        {
          "output_type": "stream",
          "text": [
            "El tamaño del vocabulario es de 7373\n"
          ],
          "name": "stdout"
        }
      ]
    },
    {
      "metadata": {
        "id": "N6aaOW8mqxGG",
        "colab_type": "text"
      },
      "cell_type": "markdown",
      "source": [
        "Preprocesamos los datos de entrada:\n",
        "\n",
        "\n",
        "*   Limpieza de texto\n",
        "*   Lematización\n",
        "*   Separación en vectores\n",
        "\n"
      ]
    },
    {
      "metadata": {
        "id": "zJW6YW0WxwRg",
        "colab_type": "code",
        "outputId": "47894f54-9e17-40a4-febc-aee2ff2dc0c1",
        "colab": {
          "base_uri": "https://localhost:8080/",
          "height": 204
        }
      },
      "cell_type": "code",
      "source": [
        "all_participants_mix = all_participants.copy()\n",
        "all_participants_mix['answer'] = all_participants_mix.apply(lambda row: text_to_wordlist(row.answer).split(), axis=1)\n",
        "\n",
        "windows_size = 10\n",
        "tokenizer = Tokenizer(num_words=vocab_size)\n",
        "tokenizer.fit_on_texts(all_participants_mix['answer'])\n",
        "tokenizer.fit_on_sequences(all_participants_mix['answer'])\n",
        "\n",
        "all_participants_mix['t_answer'] = tokenizer.texts_to_sequences(all_participants_mix['answer'])\n",
        "all_participants_mix.head()"
      ],
      "execution_count": 0,
      "outputs": [
        {
          "output_type": "execute_result",
          "data": {
            "text/html": [
              "<div>\n",
              "<style scoped>\n",
              "    .dataframe tbody tr th:only-of-type {\n",
              "        vertical-align: middle;\n",
              "    }\n",
              "\n",
              "    .dataframe tbody tr th {\n",
              "        vertical-align: top;\n",
              "    }\n",
              "\n",
              "    .dataframe thead th {\n",
              "        text-align: right;\n",
              "    }\n",
              "</style>\n",
              "<table border=\"1\" class=\"dataframe\">\n",
              "  <thead>\n",
              "    <tr style=\"text-align: right;\">\n",
              "      <th></th>\n",
              "      <th>index</th>\n",
              "      <th>personId</th>\n",
              "      <th>question</th>\n",
              "      <th>answer</th>\n",
              "      <th>t_answer</th>\n",
              "    </tr>\n",
              "  </thead>\n",
              "  <tbody>\n",
              "    <tr>\n",
              "      <th>0</th>\n",
              "      <td>0.0</td>\n",
              "      <td>475.0</td>\n",
              "      <td>hi i'm ellie thanks for coming in today i was ...</td>\n",
              "      <td>[yes]</td>\n",
              "      <td>[39]</td>\n",
              "    </tr>\n",
              "    <tr>\n",
              "      <th>1</th>\n",
              "      <td>1.0</td>\n",
              "      <td>475.0</td>\n",
              "      <td>okay</td>\n",
              "      <td>[]</td>\n",
              "      <td>[]</td>\n",
              "    </tr>\n",
              "    <tr>\n",
              "      <th>2</th>\n",
              "      <td>2.0</td>\n",
              "      <td>475.0</td>\n",
              "      <td>so how are you doing today</td>\n",
              "      <td>[good, thank]</td>\n",
              "      <td>[16, 173]</td>\n",
              "    </tr>\n",
              "    <tr>\n",
              "      <th>3</th>\n",
              "      <td>3.0</td>\n",
              "      <td>475.0</td>\n",
              "      <td>that's good</td>\n",
              "      <td>[]</td>\n",
              "      <td>[]</td>\n",
              "    </tr>\n",
              "    <tr>\n",
              "      <th>4</th>\n",
              "      <td>4.0</td>\n",
              "      <td>475.0</td>\n",
              "      <td>where are you from originally</td>\n",
              "      <td>[el, segundo, right, street]</td>\n",
              "      <td>[2246, 4302, 47, 827]</td>\n",
              "    </tr>\n",
              "  </tbody>\n",
              "</table>\n",
              "</div>"
            ],
            "text/plain": [
              "   index  personId                                           question  \\\n",
              "0    0.0     475.0  hi i'm ellie thanks for coming in today i was ...   \n",
              "1    1.0     475.0                                               okay   \n",
              "2    2.0     475.0                         so how are you doing today   \n",
              "3    3.0     475.0                                        that's good   \n",
              "4    4.0     475.0                      where are you from originally   \n",
              "\n",
              "                         answer               t_answer  \n",
              "0                         [yes]                   [39]  \n",
              "1                            []                     []  \n",
              "2                 [good, thank]              [16, 173]  \n",
              "3                            []                     []  \n",
              "4  [el, segundo, right, street]  [2246, 4302, 47, 827]  "
            ]
          },
          "metadata": {
            "tags": []
          },
          "execution_count": 70
        }
      ]
    },
    {
      "metadata": {
        "id": "u47-_XmirBQr",
        "colab_type": "text"
      },
      "cell_type": "markdown",
      "source": [
        "Verificamo el diccionario creado por el tokenizer"
      ]
    },
    {
      "metadata": {
        "id": "MWT0xDoA2pYW",
        "colab_type": "code",
        "outputId": "6241f44b-7e86-4b99-e645-ca9d2e411da6",
        "colab": {
          "base_uri": "https://localhost:8080/",
          "height": 34
        }
      },
      "cell_type": "code",
      "source": [
        "word_index = tokenizer.word_index\n",
        "word_size = len(word_index)\n",
        "print(word_index[\"happy\"])"
      ],
      "execution_count": 0,
      "outputs": [
        {
          "output_type": "stream",
          "text": [
            "69\n"
          ],
          "name": "stdout"
        }
      ]
    },
    {
      "metadata": {
        "id": "7b2GriAtrQk4",
        "colab_type": "text"
      },
      "cell_type": "markdown",
      "source": [
        "Generamos un nuevo dataset creando vectores de las palabras tokenizadas con un tamaño de ventana de 10 palabras"
      ]
    },
    {
      "metadata": {
        "id": "ZNDQBi-uxzbG",
        "colab_type": "code",
        "colab": {}
      },
      "cell_type": "code",
      "source": [
        "windows_size = 10\n",
        "cont = 0\n",
        "word_index = tokenizer\n",
        "phrases_lp = pd.DataFrame(columns=['personId','answer', 't_answer'])\n",
        "answers = all_participants_mix.groupby('personId').agg('sum', axis=1)\n",
        "\n",
        "for p in answers.iterrows():      \n",
        "    words = p[1][\"answer\"]\n",
        "    size = len(words)\n",
        "    word_tokens = p[1][\"t_answer\"]\n",
        " \n",
        "    for i in range(size):\n",
        "        sentence = words[i:min(i+windows_size,size)]  \n",
        "        tokens = word_tokens[i:min(i+windows_size,size)]  \n",
        "        phrases_lp.loc[cont] = [p[0], sentence, tokens]\n",
        "        cont = cont + 1"
      ],
      "execution_count": 0,
      "outputs": []
    },
    {
      "metadata": {
        "id": "tOXd7dyvrb9O",
        "colab_type": "text"
      },
      "cell_type": "markdown",
      "source": [
        "Verificamos el contenido del nuevo dataset"
      ]
    },
    {
      "metadata": {
        "id": "Mx5sHZp5yqs2",
        "colab_type": "code",
        "outputId": "caabb39d-f271-4789-a6aa-888f4fcbb1fa",
        "colab": {
          "base_uri": "https://localhost:8080/",
          "height": 204
        }
      },
      "cell_type": "code",
      "source": [
        "phrases_lp.head()"
      ],
      "execution_count": 0,
      "outputs": [
        {
          "output_type": "execute_result",
          "data": {
            "text/html": [
              "<div>\n",
              "<style scoped>\n",
              "    .dataframe tbody tr th:only-of-type {\n",
              "        vertical-align: middle;\n",
              "    }\n",
              "\n",
              "    .dataframe tbody tr th {\n",
              "        vertical-align: top;\n",
              "    }\n",
              "\n",
              "    .dataframe thead th {\n",
              "        text-align: right;\n",
              "    }\n",
              "</style>\n",
              "<table border=\"1\" class=\"dataframe\">\n",
              "  <thead>\n",
              "    <tr style=\"text-align: right;\">\n",
              "      <th></th>\n",
              "      <th>personId</th>\n",
              "      <th>answer</th>\n",
              "      <th>t_answer</th>\n",
              "    </tr>\n",
              "  </thead>\n",
              "  <tbody>\n",
              "    <tr>\n",
              "      <th>0</th>\n",
              "      <td>300.0</td>\n",
              "      <td>[good, atlanta, georgia, um, parent, um, love,...</td>\n",
              "      <td>[16, 1650, 2022, 1, 131, 1, 63, 5, 143, 5]</td>\n",
              "    </tr>\n",
              "    <tr>\n",
              "      <th>1</th>\n",
              "      <td>300.0</td>\n",
              "      <td>[atlanta, georgia, um, parent, um, love, like,...</td>\n",
              "      <td>[1650, 2022, 1, 131, 1, 63, 5, 143, 5, 337]</td>\n",
              "    </tr>\n",
              "    <tr>\n",
              "      <th>2</th>\n",
              "      <td>300.0</td>\n",
              "      <td>[georgia, um, parent, um, love, like, weather,...</td>\n",
              "      <td>[2022, 1, 131, 1, 63, 5, 143, 5, 337, 1]</td>\n",
              "    </tr>\n",
              "    <tr>\n",
              "      <th>3</th>\n",
              "      <td>300.0</td>\n",
              "      <td>[um, parent, um, love, like, weather, like, op...</td>\n",
              "      <td>[1, 131, 1, 63, 5, 143, 5, 337, 1, 39]</td>\n",
              "    </tr>\n",
              "    <tr>\n",
              "      <th>4</th>\n",
              "      <td>300.0</td>\n",
              "      <td>[parent, um, love, like, weather, like, opport...</td>\n",
              "      <td>[131, 1, 63, 5, 143, 5, 337, 1, 39, 1]</td>\n",
              "    </tr>\n",
              "  </tbody>\n",
              "</table>\n",
              "</div>"
            ],
            "text/plain": [
              "   personId                                             answer  \\\n",
              "0     300.0  [good, atlanta, georgia, um, parent, um, love,...   \n",
              "1     300.0  [atlanta, georgia, um, parent, um, love, like,...   \n",
              "2     300.0  [georgia, um, parent, um, love, like, weather,...   \n",
              "3     300.0  [um, parent, um, love, like, weather, like, op...   \n",
              "4     300.0  [parent, um, love, like, weather, like, opport...   \n",
              "\n",
              "                                      t_answer  \n",
              "0   [16, 1650, 2022, 1, 131, 1, 63, 5, 143, 5]  \n",
              "1  [1650, 2022, 1, 131, 1, 63, 5, 143, 5, 337]  \n",
              "2     [2022, 1, 131, 1, 63, 5, 143, 5, 337, 1]  \n",
              "3       [1, 131, 1, 63, 5, 143, 5, 337, 1, 39]  \n",
              "4       [131, 1, 63, 5, 143, 5, 337, 1, 39, 1]  "
            ]
          },
          "metadata": {
            "tags": []
          },
          "execution_count": 73
        }
      ]
    },
    {
      "metadata": {
        "id": "4-sUVdlQrgeZ",
        "colab_type": "text"
      },
      "cell_type": "markdown",
      "source": [
        "En caso de existir frases de dimensión menor aplicamos padding para tener vectores uniformes"
      ]
    },
    {
      "metadata": {
        "id": "D8FZg-N891pg",
        "colab_type": "code",
        "outputId": "9864b03e-cc5b-4ea2-e756-c5bb4ec25308",
        "colab": {
          "base_uri": "https://localhost:8080/",
          "height": 204
        }
      },
      "cell_type": "code",
      "source": [
        "phrases_lp[\"t_answer\"] = pad_sequences(phrases_lp[\"t_answer\"], value=0, padding=\"post\", maxlen=windows_size).tolist()\n",
        "phrases_lp.head()"
      ],
      "execution_count": 0,
      "outputs": [
        {
          "output_type": "execute_result",
          "data": {
            "text/html": [
              "<div>\n",
              "<style scoped>\n",
              "    .dataframe tbody tr th:only-of-type {\n",
              "        vertical-align: middle;\n",
              "    }\n",
              "\n",
              "    .dataframe tbody tr th {\n",
              "        vertical-align: top;\n",
              "    }\n",
              "\n",
              "    .dataframe thead th {\n",
              "        text-align: right;\n",
              "    }\n",
              "</style>\n",
              "<table border=\"1\" class=\"dataframe\">\n",
              "  <thead>\n",
              "    <tr style=\"text-align: right;\">\n",
              "      <th></th>\n",
              "      <th>personId</th>\n",
              "      <th>answer</th>\n",
              "      <th>t_answer</th>\n",
              "    </tr>\n",
              "  </thead>\n",
              "  <tbody>\n",
              "    <tr>\n",
              "      <th>0</th>\n",
              "      <td>300.0</td>\n",
              "      <td>[good, atlanta, georgia, um, parent, um, love,...</td>\n",
              "      <td>[16, 1650, 2022, 1, 131, 1, 63, 5, 143, 5]</td>\n",
              "    </tr>\n",
              "    <tr>\n",
              "      <th>1</th>\n",
              "      <td>300.0</td>\n",
              "      <td>[atlanta, georgia, um, parent, um, love, like,...</td>\n",
              "      <td>[1650, 2022, 1, 131, 1, 63, 5, 143, 5, 337]</td>\n",
              "    </tr>\n",
              "    <tr>\n",
              "      <th>2</th>\n",
              "      <td>300.0</td>\n",
              "      <td>[georgia, um, parent, um, love, like, weather,...</td>\n",
              "      <td>[2022, 1, 131, 1, 63, 5, 143, 5, 337, 1]</td>\n",
              "    </tr>\n",
              "    <tr>\n",
              "      <th>3</th>\n",
              "      <td>300.0</td>\n",
              "      <td>[um, parent, um, love, like, weather, like, op...</td>\n",
              "      <td>[1, 131, 1, 63, 5, 143, 5, 337, 1, 39]</td>\n",
              "    </tr>\n",
              "    <tr>\n",
              "      <th>4</th>\n",
              "      <td>300.0</td>\n",
              "      <td>[parent, um, love, like, weather, like, opport...</td>\n",
              "      <td>[131, 1, 63, 5, 143, 5, 337, 1, 39, 1]</td>\n",
              "    </tr>\n",
              "  </tbody>\n",
              "</table>\n",
              "</div>"
            ],
            "text/plain": [
              "   personId                                             answer  \\\n",
              "0     300.0  [good, atlanta, georgia, um, parent, um, love,...   \n",
              "1     300.0  [atlanta, georgia, um, parent, um, love, like,...   \n",
              "2     300.0  [georgia, um, parent, um, love, like, weather,...   \n",
              "3     300.0  [um, parent, um, love, like, weather, like, op...   \n",
              "4     300.0  [parent, um, love, like, weather, like, opport...   \n",
              "\n",
              "                                      t_answer  \n",
              "0   [16, 1650, 2022, 1, 131, 1, 63, 5, 143, 5]  \n",
              "1  [1650, 2022, 1, 131, 1, 63, 5, 143, 5, 337]  \n",
              "2     [2022, 1, 131, 1, 63, 5, 143, 5, 337, 1]  \n",
              "3       [1, 131, 1, 63, 5, 143, 5, 337, 1, 39]  \n",
              "4       [131, 1, 63, 5, 143, 5, 337, 1, 39, 1]  "
            ]
          },
          "metadata": {
            "tags": []
          },
          "execution_count": 74
        }
      ]
    },
    {
      "metadata": {
        "colab_type": "text",
        "id": "Ao0X5PZrysKO"
      },
      "cell_type": "markdown",
      "source": [
        "##Carga de resultados del cuestionario PHQ8 de los participantes"
      ]
    },
    {
      "metadata": {
        "id": "b-LGdAn1EFJg",
        "colab_type": "text"
      },
      "cell_type": "markdown",
      "source": [
        "Preparo una función para cargar los archivos correspondientes a las puntuaciones de cada persona respecto al questionario PHQ8, este método categoriza la variable Score, en 5 niveles de acuerdo al rango especificado en el trabajo [Validity of a Brief Depression Severity Measure](https://www.ncbi.nlm.nih.gov/pmc/articles/PMC1495268/)"
      ]
    },
    {
      "metadata": {
        "id": "kaDz89vRqkCv",
        "colab_type": "code",
        "colab": {}
      },
      "cell_type": "code",
      "source": [
        "def load_avec_dataset_file(path, score_column):\n",
        "  ds = pd.read_csv(path, sep=',')\n",
        "  ds['level'] = pd.cut(ds[score_column], bins=[-1,0,5,10,15,25], labels=[0,1,2,3,4])\n",
        "  ds['PHQ8_Score'] = ds[score_column]\n",
        "  ds['cat_level'] = keras.utils.to_categorical(ds['level'], num_classes).tolist()\n",
        "  ds = ds[['Participant_ID', 'level', 'cat_level', 'PHQ8_Score']]\n",
        "  ds = ds.astype({\"Participant_ID\": float, \"level\": int, 'PHQ8_Score': int})\n",
        "  return ds"
      ],
      "execution_count": 0,
      "outputs": []
    },
    {
      "metadata": {
        "id": "beflqiqnl0y4",
        "colab_type": "text"
      },
      "cell_type": "markdown",
      "source": [
        "Cargo el dataset que contiene los resultados PHQ8 de todos los participantes, los datos han sido separados en archivos correspondientes a Train, Dev y Test."
      ]
    },
    {
      "metadata": {
        "id": "ZECsDuehlUnt",
        "colab_type": "code",
        "outputId": "42e3a01c-790f-487c-8668-fd78e7944aa6",
        "colab": {
          "base_uri": "https://localhost:8080/",
          "height": 221
        }
      },
      "cell_type": "code",
      "source": [
        "train = load_avec_dataset_file('/content/drive/My Drive/Colab Notebooks/train_split_Depression_AVEC2017.csv', 'PHQ8_Score')\n",
        "dev = load_avec_dataset_file('/content/drive/My Drive/Colab Notebooks/dev_split_Depression_AVEC2017.csv', 'PHQ8_Score')\n",
        "test = load_avec_dataset_file('/content/drive/My Drive/Colab Notebooks/full_test_split.csv', 'PHQ_Score')\n",
        "print(\"Longitud: entrenamiento= {}, validacion= {}, test= {}\".format(len(train), len(dev), len(test)))\n",
        "train.head()"
      ],
      "execution_count": 0,
      "outputs": [
        {
          "output_type": "stream",
          "text": [
            "Longitud: entrenamiento= 107, validacion= 35, test= 47\n"
          ],
          "name": "stdout"
        },
        {
          "output_type": "execute_result",
          "data": {
            "text/html": [
              "<div>\n",
              "<style scoped>\n",
              "    .dataframe tbody tr th:only-of-type {\n",
              "        vertical-align: middle;\n",
              "    }\n",
              "\n",
              "    .dataframe tbody tr th {\n",
              "        vertical-align: top;\n",
              "    }\n",
              "\n",
              "    .dataframe thead th {\n",
              "        text-align: right;\n",
              "    }\n",
              "</style>\n",
              "<table border=\"1\" class=\"dataframe\">\n",
              "  <thead>\n",
              "    <tr style=\"text-align: right;\">\n",
              "      <th></th>\n",
              "      <th>Participant_ID</th>\n",
              "      <th>level</th>\n",
              "      <th>cat_level</th>\n",
              "      <th>PHQ8_Score</th>\n",
              "    </tr>\n",
              "  </thead>\n",
              "  <tbody>\n",
              "    <tr>\n",
              "      <th>0</th>\n",
              "      <td>303.0</td>\n",
              "      <td>0</td>\n",
              "      <td>[1.0, 0.0, 0.0, 0.0, 0.0]</td>\n",
              "      <td>0</td>\n",
              "    </tr>\n",
              "    <tr>\n",
              "      <th>1</th>\n",
              "      <td>304.0</td>\n",
              "      <td>2</td>\n",
              "      <td>[0.0, 0.0, 1.0, 0.0, 0.0]</td>\n",
              "      <td>6</td>\n",
              "    </tr>\n",
              "    <tr>\n",
              "      <th>2</th>\n",
              "      <td>305.0</td>\n",
              "      <td>2</td>\n",
              "      <td>[0.0, 0.0, 1.0, 0.0, 0.0]</td>\n",
              "      <td>7</td>\n",
              "    </tr>\n",
              "    <tr>\n",
              "      <th>3</th>\n",
              "      <td>310.0</td>\n",
              "      <td>1</td>\n",
              "      <td>[0.0, 1.0, 0.0, 0.0, 0.0]</td>\n",
              "      <td>4</td>\n",
              "    </tr>\n",
              "    <tr>\n",
              "      <th>4</th>\n",
              "      <td>312.0</td>\n",
              "      <td>1</td>\n",
              "      <td>[0.0, 1.0, 0.0, 0.0, 0.0]</td>\n",
              "      <td>2</td>\n",
              "    </tr>\n",
              "  </tbody>\n",
              "</table>\n",
              "</div>"
            ],
            "text/plain": [
              "   Participant_ID  level                  cat_level  PHQ8_Score\n",
              "0           303.0      0  [1.0, 0.0, 0.0, 0.0, 0.0]           0\n",
              "1           304.0      2  [0.0, 0.0, 1.0, 0.0, 0.0]           6\n",
              "2           305.0      2  [0.0, 0.0, 1.0, 0.0, 0.0]           7\n",
              "3           310.0      1  [0.0, 1.0, 0.0, 0.0, 0.0]           4\n",
              "4           312.0      1  [0.0, 1.0, 0.0, 0.0, 0.0]           2"
            ]
          },
          "metadata": {
            "tags": []
          },
          "execution_count": 76
        }
      ]
    },
    {
      "metadata": {
        "id": "sQlFLh-2GNUO",
        "colab_type": "text"
      },
      "cell_type": "markdown",
      "source": [
        "Fusiono los datasets en uno solo"
      ]
    },
    {
      "metadata": {
        "id": "Z66uyop8sQTI",
        "colab_type": "code",
        "outputId": "816842ba-9c46-4888-a6f9-1e90218262d9",
        "colab": {
          "base_uri": "https://localhost:8080/",
          "height": 34
        }
      },
      "cell_type": "code",
      "source": [
        "ds_total = pd.concat([train,dev,test])\n",
        "total_phq8 = len(ds_total)\n",
        "print(\"Longitud total = {}\".format(total_phq8))"
      ],
      "execution_count": 0,
      "outputs": [
        {
          "output_type": "stream",
          "text": [
            "Longitud total = 189\n"
          ],
          "name": "stdout"
        }
      ]
    },
    {
      "metadata": {
        "id": "xGmRLdzTP8wp",
        "colab_type": "text"
      },
      "cell_type": "markdown",
      "source": [
        "##Preparación de datos para el entrenamiento"
      ]
    },
    {
      "metadata": {
        "id": "_AIyzl0dJ7NS",
        "colab_type": "code",
        "outputId": "cb78a9be-7060-4d7e-ce84-7af113196bf4",
        "colab": {
          "base_uri": "https://localhost:8080/",
          "height": 347
        }
      },
      "cell_type": "code",
      "source": [
        " # Generamos una gráfica con las distribuciones del conjunto de entrenamiento\n",
        "bins=[-1,0,5,10,15,25]\n",
        "plt.hist(ds_total[\"PHQ8_Score\"], rwidth=0.6, bins=5)\n",
        "plt.show()\n"
      ],
      "execution_count": 0,
      "outputs": [
        {
          "output_type": "display_data",
          "data": {
            "image/png": "[encoded data removed]",
            "text/plain": [
              "<matplotlib.figure.Figure at 0x7fea3b8b2908>"
            ]
          },
          "metadata": {
            "tags": []
          }
        }
      ]
    },
    {
      "metadata": {
        "id": "vuna6ftMN00q",
        "colab_type": "text"
      },
      "cell_type": "markdown",
      "source": [
        "En la gráfica se visualiza una clara mayoria en la categoria mild cuya puntuación PHQ8 es mayor que 0 y menor que 5"
      ]
    },
    {
      "metadata": {
        "id": "AP_MEn_eOLa6",
        "colab_type": "text"
      },
      "cell_type": "markdown",
      "source": [
        "\n",
        "####separación de datasets por puntaje PHQ8"
      ]
    },
    {
      "metadata": {
        "id": "spbabvn7r7zg",
        "colab_type": "text"
      },
      "cell_type": "markdown",
      "source": [
        "Función que separa los registros del dataset acorde el nivel de ansiedad"
      ]
    },
    {
      "metadata": {
        "id": "sFz6a306o1L5",
        "colab_type": "code",
        "colab": {}
      },
      "cell_type": "code",
      "source": [
        "def split_by_phq_level(ds):\n",
        "  none_ds = ds[ds['level']==0]\n",
        "  mild_ds = ds[ds['level']==1]\n",
        "  moderate_ds = ds[ds['level']==2]\n",
        "  moderate_severe_ds = ds[ds['level']==3]\n",
        "  severe_ds = ds[ds['level']==4]\n",
        "  return (none_ds, mild_ds, moderate_ds, moderate_severe_ds, severe_ds)\n"
      ],
      "execution_count": 0,
      "outputs": []
    },
    {
      "metadata": {
        "id": "PteK8Eu7suPm",
        "colab_type": "code",
        "outputId": "df7b9a9e-017b-4ce7-e3e2-5ab0c3ababc7",
        "colab": {
          "base_uri": "https://localhost:8080/",
          "height": 34
        }
      },
      "cell_type": "code",
      "source": [
        "none_ds, mild_ds, moderate_ds, moderate_severe_ds, severe_ds = split_by_phq_level(ds_total)\n",
        "print(\"Cantidad por none_ds: {}, mild_ds: {}, moderate_ds {}, moderate_severe_ds: {}, severe_ds {}\".format(len(none_ds), len(mild_ds), len(moderate_ds), len(moderate_severe_ds), len(severe_ds)))"
      ],
      "execution_count": 0,
      "outputs": [
        {
          "output_type": "stream",
          "text": [
            "Cantidad por none_ds: 26, mild_ds: 70, moderate_ds 47, moderate_severe_ds: 24, severe_ds 22\n"
          ],
          "name": "stdout"
        }
      ]
    },
    {
      "metadata": {
        "id": "BJI2UalYOcrj",
        "colab_type": "text"
      },
      "cell_type": "markdown",
      "source": [
        "####Distribución balanceada de los datos del conjunto de prueba"
      ]
    },
    {
      "metadata": {
        "id": "2xhRr5etsE2H",
        "colab_type": "text"
      },
      "cell_type": "markdown",
      "source": [
        "Generamos un dataset con un número de registros balanceado entre todos los niveles de ansiedad"
      ]
    },
    {
      "metadata": {
        "id": "qNQgeF7jbebW",
        "colab_type": "code",
        "colab": {}
      },
      "cell_type": "code",
      "source": [
        "b_none_ds = ds_total[ds_total['level']==0]\n",
        "b_mild_ds = ds_total[ds_total['level']==1].sample(26)\n",
        "b_moderate_ds = ds_total[ds_total['level']==2].sample(26)\n",
        "b_moderate_severe_ds = ds_total[ds_total['level']==3]\n",
        "b_severe_ds = ds_total[ds_total['level']==4]\n",
        "\n",
        "ds_total_b = pd.concat([b_none_ds, b_mild_ds, b_moderate_ds, b_moderate_severe_ds, b_severe_ds])"
      ],
      "execution_count": 0,
      "outputs": []
    },
    {
      "metadata": {
        "id": "FE09DzKksRhR",
        "colab_type": "text"
      },
      "cell_type": "markdown",
      "source": [
        "Fusionamos el dataset de transcripciones con los resultados del test PHQ8"
      ]
    },
    {
      "metadata": {
        "id": "8KzwrRZd1SyX",
        "colab_type": "code",
        "colab": {}
      },
      "cell_type": "code",
      "source": [
        "ds_lp = pd.merge(ds_total, phrases_lp,left_on='Participant_ID', right_on='personId')\n",
        "ds_lp_b = pd.merge(ds_total_b, phrases_lp,left_on='Participant_ID', right_on='personId')"
      ],
      "execution_count": 0,
      "outputs": []
    },
    {
      "metadata": {
        "id": "ifgL5JxdOlTK",
        "colab_type": "text"
      },
      "cell_type": "markdown",
      "source": [
        "####método para separar unificar los data sets por niveles, y distribuirlos en conjunto de entrenamiento, validación y pruebas"
      ]
    },
    {
      "metadata": {
        "id": "v6i6kE4jumbS",
        "colab_type": "code",
        "colab": {}
      },
      "cell_type": "code",
      "source": [
        "def distribute_instances(ds):\n",
        "    ds_shuffled = ds.sample(frac=1)\n",
        "    none_ds, mild_ds, moderate_ds, moderate_severe_ds, severe_ds = split_by_phq_level(ds_shuffled)\n",
        "    split = [70,14,16]\n",
        "    eq_ds = {}\n",
        "    prev_none = prev_mild = prev_moderate = prev_moderate_severe = prev_severe = 0\n",
        "\n",
        "    for p in split:\n",
        "      last_none = min(len(none_ds), prev_none + round(len(none_ds) * p/100))\n",
        "      last_mild = min(len(mild_ds), prev_mild + round(len(mild_ds) * p/100))\n",
        "      last_moderate = min(len(moderate_ds), prev_moderate + round(len(moderate_ds) * p/100))\n",
        "      last_moderate_severe = min(len(moderate_severe_ds), prev_moderate_severe + round(len(moderate_severe_ds) * p/100))\n",
        "      last_severe = min(len(severe_ds), prev_severe + round(len(severe_ds) * p/100))  \n",
        "      eq_ds[\"d\"+str(p)] = pd.concat([none_ds[prev_none: last_none], mild_ds[prev_mild: last_mild], moderate_ds[prev_moderate: last_moderate], moderate_severe_ds[prev_moderate_severe: last_moderate_severe], severe_ds[prev_severe: last_severe]])\n",
        "      prev_none = last_none\n",
        "      prev_mild = last_mild\n",
        "      prev_moderate = last_moderate\n",
        "      prev_moderate_severe = last_moderate_severe\n",
        "      prev_severe = last_severe  \n",
        "    return (eq_ds[\"d70\"], eq_ds[\"d14\"], eq_ds[\"d16\"])"
      ],
      "execution_count": 0,
      "outputs": []
    },
    {
      "metadata": {
        "id": "OkIcB-zSsfXQ",
        "colab_type": "text"
      },
      "cell_type": "markdown",
      "source": [
        "Generación de conjuntos de entrenamiento, validación y prueba"
      ]
    },
    {
      "metadata": {
        "id": "BrlTUKFk1YjW",
        "colab_type": "code",
        "colab": {}
      },
      "cell_type": "code",
      "source": [
        "train_lp, dev_lp, test_lp = distribute_instances(ds_lp)\n",
        "train_lp_b, dev_lp_b, test_lp_b = distribute_instances(ds_lp_b)"
      ],
      "execution_count": 0,
      "outputs": []
    },
    {
      "metadata": {
        "id": "_DRL2akPmynC",
        "colab_type": "text"
      },
      "cell_type": "markdown",
      "source": [
        "##Entrenamiento"
      ]
    },
    {
      "metadata": {
        "id": "u-n0fZGCskqO",
        "colab_type": "text"
      },
      "cell_type": "markdown",
      "source": [
        "Función auxiliar para la generación de la matriz de confusión"
      ]
    },
    {
      "metadata": {
        "id": "V7msqzlwujrc",
        "colab_type": "code",
        "colab": {}
      },
      "cell_type": "code",
      "source": [
        "def test_model(text, model):\n",
        "  print(text)\n",
        "  word_list = text_to_wordlist(text)\n",
        "  sequences = tokenizer.texts_to_sequences([word_list])\n",
        "  sequentes_input = list(itertools.chain(*sequences))\n",
        "  sequentes_input =  pad_sequences([sequentes_input], value=0, padding=\"post\", maxlen=windows_size).tolist()\n",
        "  input_a = np.asarray(sequentes_input)\n",
        "  pred = model.predict(input_a, batch_size=None, verbose=0, steps=None)\n",
        "  print(pred)\n",
        "  predicted_class = np.argmax(pred)\n",
        "  print(labels[predicted_class])"
      ],
      "execution_count": 0,
      "outputs": []
    },
    {
      "metadata": {
        "id": "PJB1rHgttfnM",
        "colab_type": "code",
        "colab": {}
      },
      "cell_type": "code",
      "source": [
        "def confusion_matrix(model, x, y):\n",
        "  prediction = model.predict(x, batch_size=None, verbose=0, steps=None)\n",
        "  labels=['none','mild','moderate','moderately severe', 'severe']\n",
        "\n",
        "  max_prediction = np.argmax(prediction, axis=1)\n",
        "  max_actual = np.argmax(y, axis=1)\n",
        "\n",
        "  y_pred = pd.Categorical.from_codes(max_prediction, labels)\n",
        "  y_actu = pd.Categorical.from_codes(max_actual, labels)\n",
        "\n",
        "  return pd.crosstab(y_actu, y_pred)\n",
        "  "
      ],
      "execution_count": 0,
      "outputs": []
    },
    {
      "metadata": {
        "id": "fEabb04LPU5K",
        "colab_type": "text"
      },
      "cell_type": "markdown",
      "source": [
        "####Modelo 1"
      ]
    },
    {
      "metadata": {
        "id": "vpOJgqqyHbIq",
        "colab_type": "text"
      },
      "cell_type": "markdown",
      "source": [
        "El primer modelo utiliza el modelo pre entrenado GLObalVEctor que consiste en vectores de 100 elementos que caracterizan para palabra del modelo"
      ]
    },
    {
      "metadata": {
        "id": "UCEs0ofss7LE",
        "colab_type": "text"
      },
      "cell_type": "markdown",
      "source": [
        "Cargamos los embeddings del modelo glove"
      ]
    },
    {
      "metadata": {
        "id": "8ghzHW1-BerH",
        "colab_type": "code",
        "colab": {}
      },
      "cell_type": "code",
      "source": [
        "embeddings_index = dict()\n",
        "f = open('/content/drive/My Drive/Colab Notebooks/glove.6B.100d.txt')\n",
        "for line in f:\n",
        "\tvalues = line.split()\n",
        "\tword = values[0]\n",
        "\tcoefs = np.asarray(values[1:], dtype='float32')\n",
        "\tembeddings_index[word] = coefs\n",
        "f.close()"
      ],
      "execution_count": 0,
      "outputs": []
    },
    {
      "metadata": {
        "id": "mInBpIv8tNcy",
        "colab_type": "text"
      },
      "cell_type": "markdown",
      "source": [
        "Función que genera la matriz de embedding que se utilizará en el entrenamiento del modelo"
      ]
    },
    {
      "metadata": {
        "id": "4S1m8ubOBmQn",
        "colab_type": "code",
        "colab": {}
      },
      "cell_type": "code",
      "source": [
        "def fill_embedding_matrix(tokenizer):\n",
        "  vocab_size = len(tokenizer.word_index)\n",
        "  embedding_matrix = np.zeros((vocab_size+1, 100))\n",
        "  for word, i in tokenizer.word_index.items():\n",
        "    embedding_vector = embeddings_index.get(word)\n",
        "    if embedding_vector is not None:        \n",
        "      embedding_matrix[i] = embedding_vector\n",
        "  return embedding_matrix"
      ],
      "execution_count": 0,
      "outputs": []
    },
    {
      "metadata": {
        "id": "pFVzrJXvtW3e",
        "colab_type": "text"
      },
      "cell_type": "markdown",
      "source": [
        "Generamos la matriz para el tokenizer utilizado para generar el dataset de entrenamiento"
      ]
    },
    {
      "metadata": {
        "id": "sfVGBc3qo3kj",
        "colab_type": "code",
        "colab": {}
      },
      "cell_type": "code",
      "source": [
        "vocab_size = len(tokenizer.word_index)\n",
        "embedding_matrix_lp = fill_embedding_matrix(tokenizer)"
      ],
      "execution_count": 0,
      "outputs": []
    },
    {
      "metadata": {
        "id": "TaihTt1Ati7Q",
        "colab_type": "text"
      },
      "cell_type": "markdown",
      "source": [
        "Preparamos los arrays de entrada al modelo"
      ]
    },
    {
      "metadata": {
        "id": "I1vrHZcx9Su4",
        "colab_type": "code",
        "colab": {}
      },
      "cell_type": "code",
      "source": [
        "early_stopping = EarlyStopping(monitor='val_loss', patience=3)\n",
        "train_a = np.stack(train_lp['t_answer'], axis=0)\n",
        "dev_a = np.stack(dev_lp['t_answer'], axis=0)\n",
        "train_y = np.stack(train_lp['cat_level'], axis=0)\n",
        "dev_y = np.stack(dev_lp['cat_level'], axis=0)"
      ],
      "execution_count": 0,
      "outputs": []
    },
    {
      "metadata": {
        "id": "o9_t5O-vtpgU",
        "colab_type": "text"
      },
      "cell_type": "markdown",
      "source": [
        "Verificamos las dimensiones de las entradas del modelo"
      ]
    },
    {
      "metadata": {
        "id": "IgEMjMqasT61",
        "colab_type": "code",
        "outputId": "384c9dc3-c036-4494-eb71-0c2588a541bd",
        "colab": {
          "base_uri": "https://localhost:8080/",
          "height": 68
        }
      },
      "cell_type": "code",
      "source": [
        "print(embedding_matrix_lp.shape)\n",
        "print(vocab_size)\n",
        "print(windows_size)"
      ],
      "execution_count": 0,
      "outputs": [
        {
          "output_type": "stream",
          "text": [
            "(7374, 100)\n",
            "7373\n",
            "10\n"
          ],
          "name": "stdout"
        }
      ]
    },
    {
      "metadata": {
        "id": "mKKJvSqltvrG",
        "colab_type": "text"
      },
      "cell_type": "markdown",
      "source": [
        "### Definición del modelo"
      ]
    },
    {
      "metadata": {
        "id": "dx4I9Ti7t2Ru",
        "colab_type": "text"
      },
      "cell_type": "markdown",
      "source": [
        "Generamos un modelo de embedding con LSTM, dos capas densas intermedias y una capa de salida softmax"
      ]
    },
    {
      "metadata": {
        "id": "A7JoZ_JurmNT",
        "colab_type": "code",
        "outputId": "0194e7b5-e922-4e7f-960d-1ebfc74d6c2e",
        "colab": {
          "base_uri": "https://localhost:8080/",
          "height": 408
        }
      },
      "cell_type": "code",
      "source": [
        "answer_inp = Input(shape=(windows_size, ))\n",
        "embedding_size_glove = 100\n",
        "answer_emb1 = Embedding(vocab_size+1, embedding_size_glove, weights=[embedding_matrix_lp], input_length=windows_size, trainable=False)(answer_inp)\n",
        "\n",
        "bt = BatchNormalization()(answer_emb1)\n",
        "lstm = LSTM(embedding_size_glove, return_sequences=True, dropout=0.2, recurrent_dropout=0.2)(bt)\n",
        "\n",
        "dense1 = Dense(units=256, activation=\"relu\")(lstm)\n",
        "dense2 = Dense(units=256, activation=\"relu\")(dense1)\n",
        "\n",
        "flatten = Flatten()(dense2)\n",
        "\n",
        "out = Dense(5,  activation='softmax')(flatten)\n",
        "\n",
        "model = Model(inputs=[answer_inp], outputs=[out])\n",
        "model.compile(optimizer=\"adam\", loss='categorical_crossentropy', metrics=['accuracy'])\n",
        "model.summary()"
      ],
      "execution_count": 0,
      "outputs": [
        {
          "output_type": "stream",
          "text": [
            "_________________________________________________________________\n",
            "Layer (type)                 Output Shape              Param #   \n",
            "=================================================================\n",
            "input_3 (InputLayer)         (None, 10)                0         \n",
            "_________________________________________________________________\n",
            "embedding_2 (Embedding)      (None, 10, 100)           737400    \n",
            "_________________________________________________________________\n",
            "batch_normalization_2 (Batch (None, 10, 100)           400       \n",
            "_________________________________________________________________\n",
            "lstm_2 (LSTM)                (None, 10, 100)           80400     \n",
            "_________________________________________________________________\n",
            "dense_4 (Dense)              (None, 10, 256)           25856     \n",
            "_________________________________________________________________\n",
            "dense_5 (Dense)              (None, 10, 256)           65792     \n",
            "_________________________________________________________________\n",
            "flatten_2 (Flatten)          (None, 2560)              0         \n",
            "_________________________________________________________________\n",
            "dense_6 (Dense)              (None, 5)                 12805     \n",
            "=================================================================\n",
            "Total params: 922,653\n",
            "Trainable params: 185,053\n",
            "Non-trainable params: 737,600\n",
            "_________________________________________________________________\n"
          ],
          "name": "stdout"
        }
      ]
    },
    {
      "metadata": {
        "id": "-SXB8trcuJqO",
        "colab_type": "text"
      },
      "cell_type": "markdown",
      "source": [
        "Entrenamiento del modelo"
      ]
    },
    {
      "metadata": {
        "id": "sgLgIZBDrkJu",
        "colab_type": "code",
        "outputId": "7fbb4be5-22a8-4f32-e53b-6938e75343f7",
        "colab": {
          "base_uri": "https://localhost:8080/",
          "height": 1054
        }
      },
      "cell_type": "code",
      "source": [
        "model_glove_hist = model.fit([train_a], train_y, \\\n",
        "        validation_data=([dev_a], dev_y), \\\n",
        "        epochs=30, batch_size=64, shuffle=True, \\\n",
        "         callbacks=[early_stopping])"
      ],
      "execution_count": 0,
      "outputs": [
        {
          "output_type": "stream",
          "text": [
            "Train on 99969 samples, validate on 19993 samples\n",
            "Epoch 1/30\n",
            "99969/99969 [==============================] - 72s 717us/step - loss: 1.4449 - acc: 0.3791 - val_loss: 1.3283 - val_acc: 0.4466\n",
            "Epoch 2/30\n",
            "99969/99969 [==============================] - 71s 708us/step - loss: 1.2631 - acc: 0.4750 - val_loss: 1.0937 - val_acc: 0.5620\n",
            "Epoch 3/30\n",
            "99969/99969 [==============================] - 70s 704us/step - loss: 1.0998 - acc: 0.5540 - val_loss: 0.9363 - val_acc: 0.6356\n",
            "Epoch 4/30\n",
            "99969/99969 [==============================] - 71s 708us/step - loss: 0.9932 - acc: 0.6039 - val_loss: 0.8077 - val_acc: 0.6895\n",
            "Epoch 5/30\n",
            "99969/99969 [==============================] - 70s 704us/step - loss: 0.9195 - acc: 0.6365 - val_loss: 0.7255 - val_acc: 0.7274\n",
            "Epoch 6/30\n",
            "99969/99969 [==============================] - 70s 704us/step - loss: 0.8524 - acc: 0.6660 - val_loss: 0.6700 - val_acc: 0.7505\n",
            "Epoch 7/30\n",
            "99969/99969 [==============================] - 70s 703us/step - loss: 0.8001 - acc: 0.6879 - val_loss: 0.5919 - val_acc: 0.7814\n",
            "Epoch 8/30\n",
            "99969/99969 [==============================] - 70s 703us/step - loss: 0.7542 - acc: 0.7083 - val_loss: 0.5528 - val_acc: 0.8014\n",
            "Epoch 9/30\n",
            "99969/99969 [==============================] - 70s 702us/step - loss: 0.7262 - acc: 0.7198 - val_loss: 0.5035 - val_acc: 0.8187\n",
            "Epoch 10/30\n",
            "99969/99969 [==============================] - 71s 706us/step - loss: 0.6885 - acc: 0.7357 - val_loss: 0.4687 - val_acc: 0.8346\n",
            "Epoch 11/30\n",
            "99969/99969 [==============================] - 71s 705us/step - loss: 0.6583 - acc: 0.7482 - val_loss: 0.4488 - val_acc: 0.8425\n",
            "Epoch 12/30\n",
            "99969/99969 [==============================] - 70s 703us/step - loss: 0.6273 - acc: 0.7601 - val_loss: 0.4140 - val_acc: 0.8561\n",
            "Epoch 13/30\n",
            "99969/99969 [==============================] - 70s 701us/step - loss: 0.6139 - acc: 0.7669 - val_loss: 0.3900 - val_acc: 0.8630\n",
            "Epoch 14/30\n",
            "99969/99969 [==============================] - 70s 701us/step - loss: 0.5933 - acc: 0.7743 - val_loss: 0.3713 - val_acc: 0.8722\n",
            "Epoch 15/30\n",
            "99969/99969 [==============================] - 70s 705us/step - loss: 0.5763 - acc: 0.7815 - val_loss: 0.3413 - val_acc: 0.8834\n",
            "Epoch 16/30\n",
            "99969/99969 [==============================] - 70s 702us/step - loss: 0.5476 - acc: 0.7937 - val_loss: 0.3252 - val_acc: 0.8910\n",
            "Epoch 17/30\n",
            "99969/99969 [==============================] - 70s 703us/step - loss: 0.5315 - acc: 0.8002 - val_loss: 0.3110 - val_acc: 0.8925\n",
            "Epoch 18/30\n",
            "99969/99969 [==============================] - 70s 702us/step - loss: 0.5198 - acc: 0.8059 - val_loss: 0.2913 - val_acc: 0.9006\n",
            "Epoch 19/30\n",
            "99969/99969 [==============================] - 70s 704us/step - loss: 0.5036 - acc: 0.8118 - val_loss: 0.2784 - val_acc: 0.9073\n",
            "Epoch 20/30\n",
            "99969/99969 [==============================] - 70s 704us/step - loss: 0.4944 - acc: 0.8165 - val_loss: 0.2779 - val_acc: 0.9055\n",
            "Epoch 21/30\n",
            "99969/99969 [==============================] - 70s 705us/step - loss: 0.4791 - acc: 0.8208 - val_loss: 0.2706 - val_acc: 0.9099\n",
            "Epoch 22/30\n",
            "99969/99969 [==============================] - 70s 702us/step - loss: 0.4703 - acc: 0.8245 - val_loss: 0.2493 - val_acc: 0.9153\n",
            "Epoch 23/30\n",
            "99969/99969 [==============================] - 70s 700us/step - loss: 0.4600 - acc: 0.8295 - val_loss: 0.2344 - val_acc: 0.9217\n",
            "Epoch 24/30\n",
            "99969/99969 [==============================] - 70s 705us/step - loss: 0.4452 - acc: 0.8351 - val_loss: 0.2208 - val_acc: 0.9279\n",
            "Epoch 25/30\n",
            "99969/99969 [==============================] - 70s 702us/step - loss: 0.4341 - acc: 0.8392 - val_loss: 0.2139 - val_acc: 0.9310\n",
            "Epoch 26/30\n",
            "99969/99969 [==============================] - 70s 704us/step - loss: 0.4232 - acc: 0.8441 - val_loss: 0.2038 - val_acc: 0.9317\n",
            "Epoch 27/30\n",
            "99969/99969 [==============================] - 70s 701us/step - loss: 0.4169 - acc: 0.8454 - val_loss: 0.2006 - val_acc: 0.9325\n",
            "Epoch 28/30\n",
            "99969/99969 [==============================] - 70s 703us/step - loss: 0.4057 - acc: 0.8496 - val_loss: 0.2018 - val_acc: 0.9317\n",
            "Epoch 29/30\n",
            "99969/99969 [==============================] - 70s 700us/step - loss: 0.4001 - acc: 0.8524 - val_loss: 0.2044 - val_acc: 0.9317\n",
            "Epoch 30/30\n",
            "99969/99969 [==============================] - 70s 700us/step - loss: 0.3961 - acc: 0.8542 - val_loss: 0.1844 - val_acc: 0.9390\n"
          ],
          "name": "stdout"
        }
      ]
    },
    {
      "metadata": {
        "id": "mtQWmuojuS1l",
        "colab_type": "text"
      },
      "cell_type": "markdown",
      "source": [
        "Revisión de la evolución de las funciones de pérdida y la precisión del modelo"
      ]
    },
    {
      "metadata": {
        "id": "I7PAI9VOuaXW",
        "colab_type": "code",
        "outputId": "c9cbbb33-706b-41b4-e51e-bd8e79532e84",
        "colab": {
          "base_uri": "https://localhost:8080/",
          "height": 735
        }
      },
      "cell_type": "code",
      "source": [
        "plot_loss(model_glove_hist)\n",
        "plot_acc(model_glove_hist)"
      ],
      "execution_count": 0,
      "outputs": [
        {
          "output_type": "display_data",
          "data": {
            "image/png": "[encoded data removed]",
            "text/plain": [
              "<matplotlib.figure.Figure at 0x7fea5343c358>"
            ]
          },
          "metadata": {
            "tags": []
          }
        },
        {
          "output_type": "display_data",
          "data": {
            "image/png": "[encoded data removed]",
            "text/plain": [
              "<matplotlib.figure.Figure at 0x7fea33ade160>"
            ]
          },
          "metadata": {
            "tags": []
          }
        }
      ]
    },
    {
      "metadata": {
        "id": "wi8aWyeuuPHO",
        "colab_type": "text"
      },
      "cell_type": "markdown",
      "source": [
        "Generación de la matriz de confusión para los datos de prueba"
      ]
    },
    {
      "metadata": {
        "id": "bX8NnL6xuPtf",
        "colab_type": "code",
        "outputId": "21f2892e-598b-40b4-8159-2f2d5959d576",
        "colab": {
          "base_uri": "https://localhost:8080/",
          "height": 235
        }
      },
      "cell_type": "code",
      "source": [
        "test_a = np.stack(test_lp['t_answer'], axis=0)\n",
        "test_y = np.stack(test_lp['cat_level'], axis=0)\n",
        "df_confusion = confusion_matrix(model, test_a, test_y)\n",
        "df_confusion"
      ],
      "execution_count": 0,
      "outputs": [
        {
          "output_type": "execute_result",
          "data": {
            "text/html": [
              "<div>\n",
              "<style scoped>\n",
              "    .dataframe tbody tr th:only-of-type {\n",
              "        vertical-align: middle;\n",
              "    }\n",
              "\n",
              "    .dataframe tbody tr th {\n",
              "        vertical-align: top;\n",
              "    }\n",
              "\n",
              "    .dataframe thead th {\n",
              "        text-align: right;\n",
              "    }\n",
              "</style>\n",
              "<table border=\"1\" class=\"dataframe\">\n",
              "  <thead>\n",
              "    <tr style=\"text-align: right;\">\n",
              "      <th>col_0</th>\n",
              "      <th>none</th>\n",
              "      <th>mild</th>\n",
              "      <th>moderate</th>\n",
              "      <th>moderately severe</th>\n",
              "      <th>severe</th>\n",
              "    </tr>\n",
              "    <tr>\n",
              "      <th>row_0</th>\n",
              "      <th></th>\n",
              "      <th></th>\n",
              "      <th></th>\n",
              "      <th></th>\n",
              "      <th></th>\n",
              "    </tr>\n",
              "  </thead>\n",
              "  <tbody>\n",
              "    <tr>\n",
              "      <th>none</th>\n",
              "      <td>3261</td>\n",
              "      <td>149</td>\n",
              "      <td>118</td>\n",
              "      <td>38</td>\n",
              "      <td>27</td>\n",
              "    </tr>\n",
              "    <tr>\n",
              "      <th>mild</th>\n",
              "      <td>70</td>\n",
              "      <td>7424</td>\n",
              "      <td>199</td>\n",
              "      <td>79</td>\n",
              "      <td>60</td>\n",
              "    </tr>\n",
              "    <tr>\n",
              "      <th>moderate</th>\n",
              "      <td>43</td>\n",
              "      <td>120</td>\n",
              "      <td>5912</td>\n",
              "      <td>56</td>\n",
              "      <td>29</td>\n",
              "    </tr>\n",
              "    <tr>\n",
              "      <th>moderately severe</th>\n",
              "      <td>23</td>\n",
              "      <td>55</td>\n",
              "      <td>86</td>\n",
              "      <td>2665</td>\n",
              "      <td>14</td>\n",
              "    </tr>\n",
              "    <tr>\n",
              "      <th>severe</th>\n",
              "      <td>21</td>\n",
              "      <td>61</td>\n",
              "      <td>61</td>\n",
              "      <td>35</td>\n",
              "      <td>2243</td>\n",
              "    </tr>\n",
              "  </tbody>\n",
              "</table>\n",
              "</div>"
            ],
            "text/plain": [
              "col_0              none  mild  moderate  moderately severe  severe\n",
              "row_0                                                             \n",
              "none               3261   149       118                 38      27\n",
              "mild                 70  7424       199                 79      60\n",
              "moderate             43   120      5912                 56      29\n",
              "moderately severe    23    55        86               2665      14\n",
              "severe               21    61        61                 35    2243"
            ]
          },
          "metadata": {
            "tags": []
          },
          "execution_count": 94
        }
      ]
    },
    {
      "metadata": {
        "id": "6xt7iRZ2O7g8",
        "colab_type": "code",
        "outputId": "f29fb9b9-5801-441a-fb0b-830147061c00",
        "colab": {
          "base_uri": "https://localhost:8080/",
          "height": 51
        }
      },
      "cell_type": "code",
      "source": [
        "score = model.evaluate(test_a, test_y, verbose=0)\n",
        "print('Test loss:', score[0])\n",
        "print('Test accuracy:', score[1])"
      ],
      "execution_count": 0,
      "outputs": [
        {
          "output_type": "stream",
          "text": [
            "Test loss: 0.18223804577849545\n",
            "Test accuracy: 0.9411790450347937\n"
          ],
          "name": "stdout"
        }
      ]
    },
    {
      "metadata": {
        "id": "4Ft_-EDBRrfO",
        "colab_type": "code",
        "outputId": "e9e03ad5-c672-44b4-d490-58588e869358",
        "colab": {
          "base_uri": "https://localhost:8080/",
          "height": 51
        }
      },
      "cell_type": "code",
      "source": [
        "sen = \"All is going right with the party, I'm happy to know new people\"\n",
        "test_model(sen, model)\n",
        "sen = \"I want an ice cream and have some fries for lunch\"\n",
        "test_model(sen, model)\n",
        "sen = \"I'm afraid of lose my work, I don't have any money\"\n",
        "test_model(sen, model)\n",
        "sen = \"I'm worried about my future, I'm afroid of it\"\n",
        "test_model(sen, model)"
      ],
      "execution_count": 0,
      "outputs": [
        {
          "output_type": "stream",
          "text": [
            "[[0.00161312 0.00390227 0.9809186  0.00412826 0.00943785]]\n",
            "moderate\n"
          ],
          "name": "stdout"
        }
      ]
    },
    {
      "metadata": {
        "id": "qwgfCRtpQBXY",
        "colab_type": "code",
        "colab": {}
      },
      "cell_type": "code",
      "source": [
        "early_stopping = EarlyStopping(monitor='val_loss', patience=3)\n",
        "train_b_a = np.stack(train_lp_b['t_answer'], axis=0)\n",
        "dev_b_a = np.stack(dev_lp_b['t_answer'], axis=0)\n",
        "train_b_y = np.stack(train_lp_b['cat_level'], axis=0)\n",
        "dev_b_y = np.stack(dev_lp_b['cat_level'], axis=0)\n"
      ],
      "execution_count": 0,
      "outputs": []
    },
    {
      "metadata": {
        "id": "pa-Vng-IQScA",
        "colab_type": "code",
        "outputId": "e553f85f-4d5f-447e-e4e7-c4ff18a31304",
        "colab": {
          "base_uri": "https://localhost:8080/",
          "height": 442
        }
      },
      "cell_type": "code",
      "source": [
        "model_glove_hist = model.fit([train_b_a], train_b_y, \\\n",
        "        validation_data=([dev_b_a], dev_y), \\\n",
        "        epochs=30, batch_size=64, shuffle=True, \\\n",
        "         callbacks=[early_stopping])"
      ],
      "execution_count": 0,
      "outputs": [
        {
          "output_type": "stream",
          "text": [
            "Train on 66771 samples, validate on 13354 samples\n",
            "Epoch 1/30\n",
            "66771/66771 [==============================] - 48s 725us/step - loss: 0.3815 - acc: 0.8598 - val_loss: 0.0857 - val_acc: 0.9747\n",
            "Epoch 2/30\n",
            "66771/66771 [==============================] - 48s 714us/step - loss: 0.3396 - acc: 0.8775 - val_loss: 0.0764 - val_acc: 0.9778\n",
            "Epoch 3/30\n",
            "66771/66771 [==============================] - 47s 711us/step - loss: 0.3232 - acc: 0.8826 - val_loss: 0.0788 - val_acc: 0.9778\n",
            "Epoch 4/30\n",
            "66771/66771 [==============================] - 47s 709us/step - loss: 0.3041 - acc: 0.8911 - val_loss: 0.0714 - val_acc: 0.9798\n",
            "Epoch 5/30\n",
            "66771/66771 [==============================] - 47s 708us/step - loss: 0.2924 - acc: 0.8937 - val_loss: 0.0711 - val_acc: 0.9793\n",
            "Epoch 6/30\n",
            "66771/66771 [==============================] - 48s 713us/step - loss: 0.2803 - acc: 0.8997 - val_loss: 0.0675 - val_acc: 0.9802\n",
            "Epoch 7/30\n",
            "66771/66771 [==============================] - 48s 714us/step - loss: 0.2699 - acc: 0.9033 - val_loss: 0.0649 - val_acc: 0.9798\n",
            "Epoch 8/30\n",
            "66771/66771 [==============================] - 47s 705us/step - loss: 0.2629 - acc: 0.9041 - val_loss: 0.0661 - val_acc: 0.9803\n",
            "Epoch 9/30\n",
            "66771/66771 [==============================] - 47s 703us/step - loss: 0.2525 - acc: 0.9106 - val_loss: 0.0593 - val_acc: 0.9823\n",
            "Epoch 10/30\n",
            "66771/66771 [==============================] - 47s 702us/step - loss: 0.2488 - acc: 0.9101 - val_loss: 0.0625 - val_acc: 0.9811\n",
            "Epoch 11/30\n",
            "66771/66771 [==============================] - 47s 702us/step - loss: 0.2401 - acc: 0.9135 - val_loss: 0.0629 - val_acc: 0.9805\n",
            "Epoch 12/30\n",
            "66771/66771 [==============================] - 47s 705us/step - loss: 0.2341 - acc: 0.9156 - val_loss: 0.0623 - val_acc: 0.9792\n"
          ],
          "name": "stdout"
        }
      ]
    },
    {
      "metadata": {
        "id": "a4XJnc8eVTzh",
        "colab_type": "code",
        "colab": {}
      },
      "cell_type": "code",
      "source": [
        "plot_loss(model_glove_hist)\n",
        "plot_acc(model_glove_hist)"
      ],
      "execution_count": 0,
      "outputs": []
    },
    {
      "metadata": {
        "id": "wcYl9fPiS1EE",
        "colab_type": "code",
        "outputId": "68a031d9-2535-4aac-bd14-003496d0b41d",
        "colab": {
          "base_uri": "https://localhost:8080/",
          "height": 235
        }
      },
      "cell_type": "code",
      "source": [
        "test_a = np.stack(test_lp_b['t_answer'], axis=0)\n",
        "test_y = np.stack(test_lp_b['cat_level'], axis=0)\n",
        "df_confusion = confusion_matrix(model, test_a, test_y)\n",
        "df_confusion"
      ],
      "execution_count": 0,
      "outputs": [
        {
          "output_type": "execute_result",
          "data": {
            "text/html": [
              "<div>\n",
              "<style scoped>\n",
              "    .dataframe tbody tr th:only-of-type {\n",
              "        vertical-align: middle;\n",
              "    }\n",
              "\n",
              "    .dataframe tbody tr th {\n",
              "        vertical-align: top;\n",
              "    }\n",
              "\n",
              "    .dataframe thead th {\n",
              "        text-align: right;\n",
              "    }\n",
              "</style>\n",
              "<table border=\"1\" class=\"dataframe\">\n",
              "  <thead>\n",
              "    <tr style=\"text-align: right;\">\n",
              "      <th>col_0</th>\n",
              "      <th>none</th>\n",
              "      <th>mild</th>\n",
              "      <th>moderate</th>\n",
              "      <th>moderately severe</th>\n",
              "      <th>severe</th>\n",
              "    </tr>\n",
              "    <tr>\n",
              "      <th>row_0</th>\n",
              "      <th></th>\n",
              "      <th></th>\n",
              "      <th></th>\n",
              "      <th></th>\n",
              "      <th></th>\n",
              "    </tr>\n",
              "  </thead>\n",
              "  <tbody>\n",
              "    <tr>\n",
              "      <th>none</th>\n",
              "      <td>3506</td>\n",
              "      <td>29</td>\n",
              "      <td>23</td>\n",
              "      <td>13</td>\n",
              "      <td>22</td>\n",
              "    </tr>\n",
              "    <tr>\n",
              "      <th>mild</th>\n",
              "      <td>6</td>\n",
              "      <td>2851</td>\n",
              "      <td>19</td>\n",
              "      <td>11</td>\n",
              "      <td>15</td>\n",
              "    </tr>\n",
              "    <tr>\n",
              "      <th>moderate</th>\n",
              "      <td>11</td>\n",
              "      <td>14</td>\n",
              "      <td>3452</td>\n",
              "      <td>6</td>\n",
              "      <td>19</td>\n",
              "    </tr>\n",
              "    <tr>\n",
              "      <th>moderately severe</th>\n",
              "      <td>5</td>\n",
              "      <td>17</td>\n",
              "      <td>20</td>\n",
              "      <td>2789</td>\n",
              "      <td>12</td>\n",
              "    </tr>\n",
              "    <tr>\n",
              "      <th>severe</th>\n",
              "      <td>7</td>\n",
              "      <td>10</td>\n",
              "      <td>10</td>\n",
              "      <td>8</td>\n",
              "      <td>2386</td>\n",
              "    </tr>\n",
              "  </tbody>\n",
              "</table>\n",
              "</div>"
            ],
            "text/plain": [
              "col_0              none  mild  moderate  moderately severe  severe\n",
              "row_0                                                             \n",
              "none               3506    29        23                 13      22\n",
              "mild                  6  2851        19                 11      15\n",
              "moderate             11    14      3452                  6      19\n",
              "moderately severe     5    17        20               2789      12\n",
              "severe                7    10        10                  8    2386"
            ]
          },
          "metadata": {
            "tags": []
          },
          "execution_count": 107
        }
      ]
    },
    {
      "metadata": {
        "id": "aV48sjrVohcM",
        "colab_type": "text"
      },
      "cell_type": "markdown",
      "source": [
        "Probamos el modelo con frases de diferente contenido"
      ]
    },
    {
      "metadata": {
        "id": "Hw8JQFxeTB5Z",
        "colab_type": "code",
        "outputId": "37b05a2b-bb0a-4961-b3b3-27e62891efdc",
        "colab": {
          "base_uri": "https://localhost:8080/",
          "height": 221
        }
      },
      "cell_type": "code",
      "source": [
        "sen = \"All is going right with the party, I'm happy to know new people\"\n",
        "test_model(sen, model)\n",
        "sen = \"I want an ice cream and have some fries for lunch\"\n",
        "test_model(sen, model)\n",
        "sen = \"I'm afraid of lose my work, I don't have any money\"\n",
        "test_model(sen, model)\n",
        "sen = \"I'm worried about my future, I'm afroid of it\"\n",
        "test_model(sen, model)"
      ],
      "execution_count": 0,
      "outputs": [
        {
          "output_type": "stream",
          "text": [
            "All is going right with the party, I'm happy to know new people\n",
            "[[0.96018696 0.02134508 0.01124112 0.00294606 0.0042808 ]]\n",
            "none\n",
            "I want an ice cream and have some fries for lunch\n",
            "[[3.2319360e-08 9.9986196e-01 1.3795303e-04 6.5695623e-08 1.6800131e-08]]\n",
            "mild\n",
            "I'm afraid of lose my work, I don't have any money\n",
            "[[2.4046434e-05 4.6233938e-05 9.9924493e-01 4.6035606e-05 6.3879456e-04]]\n",
            "moderate\n",
            "I'm worried about my future, I'm afroid of it\n",
            "[[0.00102986 0.01314219 0.07584719 0.00878967 0.90119106]]\n",
            "severe\n"
          ],
          "name": "stdout"
        }
      ]
    },
    {
      "metadata": {
        "colab_type": "text",
        "id": "ODtz8kfszH-z"
      },
      "cell_type": "markdown",
      "source": [
        "####Modelo 2"
      ]
    },
    {
      "metadata": {
        "id": "xLsebIKdvhwT",
        "colab_type": "text"
      },
      "cell_type": "markdown",
      "source": [
        "El primer modelo utiliza el modelo pre entrenado GLObalVEctor que consiste en vectores de 100 elementos que caracterizan para palabra del modelo"
      ]
    },
    {
      "metadata": {
        "id": "yajMCYKFvqoR",
        "colab_type": "text"
      },
      "cell_type": "markdown",
      "source": [
        "Cargamos el modelo de google news vectors negative mediante el uso de la libreria gensim"
      ]
    },
    {
      "metadata": {
        "id": "IUUw9Xw4tkha",
        "colab_type": "code",
        "colab": {}
      },
      "cell_type": "code",
      "source": [
        "word2vec = gensim.models.KeyedVectors.load_word2vec_format('/content/drive/My Drive/Colab Notebooks/GoogleNews-vectors-negative300.bin', binary=True)  "
      ],
      "execution_count": 0,
      "outputs": []
    },
    {
      "metadata": {
        "id": "cr3LwpZTvps8",
        "colab_type": "text"
      },
      "cell_type": "markdown",
      "source": [
        "Función que genera la matriz de embedding con el tokenizer utilizado para generar el dataset de entrenamiento"
      ]
    },
    {
      "metadata": {
        "id": "JTqHtDfj5YDE",
        "colab_type": "code",
        "colab": {}
      },
      "cell_type": "code",
      "source": [
        "def fill_embedding_matrix_google(vocab_size, tokenizer):  \n",
        "  embedding_matrix = np.zeros((vocab_size+1, 300))  \n",
        "  for word, i in tokenizer.word_index.items():\n",
        "      if word in word2vec.vocab:        \n",
        "          embedding_matrix[i] = word2vec.word_vec(word)        \n",
        "  return embedding_matrix"
      ],
      "execution_count": 0,
      "outputs": []
    },
    {
      "metadata": {
        "id": "4sdWyRGF1xJ-",
        "colab_type": "code",
        "colab": {}
      },
      "cell_type": "code",
      "source": [
        "embedding_matrix_gg = fill_embedding_matrix_google(vocab_size, tokenizer)"
      ],
      "execution_count": 0,
      "outputs": []
    },
    {
      "metadata": {
        "id": "M27NTIVQv4DB",
        "colab_type": "text"
      },
      "cell_type": "markdown",
      "source": [
        ""
      ]
    },
    {
      "metadata": {
        "id": "sFIpGo1s6uc_",
        "colab_type": "code",
        "colab": {}
      },
      "cell_type": "code",
      "source": [
        "EMBEDDING_DIM = 300\n",
        "MAX_SEQUENCE_LENGTH = windows_size\n",
        "num_lstm = np.random.randint(175, 275)\n",
        "num_dense = np.random.randint(100, 150)\n",
        "rate_drop_lstm = 0.15 + np.random.rand() * 0.25\n",
        "rate_drop_dense = 0.15 + np.random.rand() * 0.25\n",
        "\n",
        "act = 'relu'\n",
        "\n",
        "STAMP = 'lstm_%d_%d_%.2f_%.2f'%(num_lstm, num_dense, rate_drop_lstm, \\\n",
        "        rate_drop_dense)\n",
        "\n",
        "embedding_layer = Embedding(vocab_size+1,\n",
        "        EMBEDDING_DIM,\n",
        "        weights=[embedding_matrix_gg],\n",
        "        input_length=MAX_SEQUENCE_LENGTH,\n",
        "        trainable=False)\n",
        "\n",
        "lstm_layer = LSTM(num_lstm, dropout=rate_drop_lstm, recurrent_dropout=rate_drop_lstm)\n",
        "\n",
        "answer_inp = Input(shape=(MAX_SEQUENCE_LENGTH,), dtype='int32')\n",
        "embedded_sequences_1 = embedding_layer(answer_inp)\n",
        "x1 = lstm_layer(embedded_sequences_1)\n",
        "\n",
        "merged = x1\n",
        "merged = Dropout(rate_drop_dense)(merged)\n",
        "merged = BatchNormalization()(merged)\n",
        "\n",
        "merged = Dense(num_dense, activation=act)(merged)\n",
        "merged = Dropout(rate_drop_dense)(merged)\n",
        "merged = BatchNormalization()(merged)\n",
        "\n",
        "out = Dense(5, activation='softmax')(merged)\n",
        "\n",
        "model_gg_1 = Model(inputs=[answer_inp], outputs=[out])\n",
        "model_gg_1.compile(optimizer=\"adam\", loss='categorical_crossentropy', metrics=['accuracy'])"
      ],
      "execution_count": 0,
      "outputs": []
    },
    {
      "metadata": {
        "id": "fhEze8_Q7as2",
        "colab_type": "code",
        "outputId": "24b51eb7-a942-41e1-8ff4-c620d8ce1341",
        "colab": {
          "base_uri": "https://localhost:8080/",
          "height": 1054
        }
      },
      "cell_type": "code",
      "source": [
        "early_stopping = EarlyStopping(monitor='val_loss', patience=10)\n",
        "bst_model_path = STAMP + '.google.h5'\n",
        "model_checkpoint = ModelCheckpoint(bst_model_path, save_best_only=True, save_weights_only=True)\n",
        "\n",
        "model_google_hist = model_gg_1.fit([train_b_a], train_b_y, \\\n",
        "        validation_data=([dev_b_a], dev_b_y), \\\n",
        "        epochs=30, batch_size=64, shuffle=True, \\\n",
        "         callbacks=[early_stopping, model_checkpoint])"
      ],
      "execution_count": 0,
      "outputs": [
        {
          "output_type": "stream",
          "text": [
            "Train on 66771 samples, validate on 13354 samples\n",
            "Epoch 1/30\n",
            "66771/66771 [==============================] - 47s 701us/step - loss: 0.8070 - acc: 0.6917 - val_loss: 0.6042 - val_acc: 0.7878\n",
            "Epoch 2/30\n",
            "66771/66771 [==============================] - 47s 701us/step - loss: 0.7566 - acc: 0.7145 - val_loss: 0.5508 - val_acc: 0.8140\n",
            "Epoch 3/30\n",
            "66771/66771 [==============================] - 47s 702us/step - loss: 0.7063 - acc: 0.7341 - val_loss: 0.5038 - val_acc: 0.8268\n",
            "Epoch 4/30\n",
            "66771/66771 [==============================] - 47s 701us/step - loss: 0.6659 - acc: 0.7521 - val_loss: 0.4763 - val_acc: 0.8374\n",
            "Epoch 5/30\n",
            "66771/66771 [==============================] - 47s 701us/step - loss: 0.6281 - acc: 0.7680 - val_loss: 0.4172 - val_acc: 0.8606\n",
            "Epoch 6/30\n",
            "66771/66771 [==============================] - 47s 702us/step - loss: 0.5933 - acc: 0.7810 - val_loss: 0.3659 - val_acc: 0.8750\n",
            "Epoch 7/30\n",
            "66771/66771 [==============================] - 47s 699us/step - loss: 0.5652 - acc: 0.7910 - val_loss: 0.3493 - val_acc: 0.8916\n",
            "Epoch 8/30\n",
            "66771/66771 [==============================] - 47s 696us/step - loss: 0.5384 - acc: 0.8024 - val_loss: 0.3172 - val_acc: 0.8955\n",
            "Epoch 9/30\n",
            "66771/66771 [==============================] - 47s 708us/step - loss: 0.5161 - acc: 0.8110 - val_loss: 0.2955 - val_acc: 0.9037\n",
            "Epoch 10/30\n",
            "66771/66771 [==============================] - 47s 704us/step - loss: 0.4933 - acc: 0.8213 - val_loss: 0.2772 - val_acc: 0.9088\n",
            "Epoch 11/30\n",
            "66771/66771 [==============================] - 47s 697us/step - loss: 0.4757 - acc: 0.8266 - val_loss: 0.2538 - val_acc: 0.9179\n",
            "Epoch 12/30\n",
            "66771/66771 [==============================] - 47s 700us/step - loss: 0.4580 - acc: 0.8364 - val_loss: 0.2367 - val_acc: 0.9235\n",
            "Epoch 13/30\n",
            "66771/66771 [==============================] - 47s 697us/step - loss: 0.4399 - acc: 0.8416 - val_loss: 0.2166 - val_acc: 0.9334\n",
            "Epoch 14/30\n",
            "66771/66771 [==============================] - 47s 699us/step - loss: 0.4244 - acc: 0.8482 - val_loss: 0.2113 - val_acc: 0.9317\n",
            "Epoch 15/30\n",
            "66771/66771 [==============================] - 46s 696us/step - loss: 0.4128 - acc: 0.8516 - val_loss: 0.2082 - val_acc: 0.9315\n",
            "Epoch 16/30\n",
            "66771/66771 [==============================] - 47s 698us/step - loss: 0.3955 - acc: 0.8583 - val_loss: 0.1866 - val_acc: 0.9402\n",
            "Epoch 17/30\n",
            "66771/66771 [==============================] - 47s 697us/step - loss: 0.3897 - acc: 0.8621 - val_loss: 0.1859 - val_acc: 0.9392\n",
            "Epoch 18/30\n",
            "66771/66771 [==============================] - 46s 694us/step - loss: 0.3799 - acc: 0.8637 - val_loss: 0.1756 - val_acc: 0.9452\n",
            "Epoch 19/30\n",
            "66771/66771 [==============================] - 46s 696us/step - loss: 0.3704 - acc: 0.8680 - val_loss: 0.1720 - val_acc: 0.9447\n",
            "Epoch 20/30\n",
            "66771/66771 [==============================] - 46s 696us/step - loss: 0.3607 - acc: 0.8718 - val_loss: 0.1540 - val_acc: 0.9526\n",
            "Epoch 21/30\n",
            "66771/66771 [==============================] - 46s 693us/step - loss: 0.3539 - acc: 0.8747 - val_loss: 0.1485 - val_acc: 0.9542\n",
            "Epoch 22/30\n",
            "66771/66771 [==============================] - 46s 696us/step - loss: 0.3470 - acc: 0.8773 - val_loss: 0.1413 - val_acc: 0.9559\n",
            "Epoch 23/30\n",
            "66771/66771 [==============================] - 47s 698us/step - loss: 0.3404 - acc: 0.8799 - val_loss: 0.1341 - val_acc: 0.9572\n",
            "Epoch 24/30\n",
            "66771/66771 [==============================] - 46s 696us/step - loss: 0.3336 - acc: 0.8822 - val_loss: 0.1297 - val_acc: 0.9600\n",
            "Epoch 25/30\n",
            "66771/66771 [==============================] - 46s 695us/step - loss: 0.3240 - acc: 0.8864 - val_loss: 0.1303 - val_acc: 0.9585\n",
            "Epoch 26/30\n",
            "66771/66771 [==============================] - 46s 694us/step - loss: 0.3165 - acc: 0.8885 - val_loss: 0.1183 - val_acc: 0.9636\n",
            "Epoch 27/30\n",
            "66771/66771 [==============================] - 46s 695us/step - loss: 0.3121 - acc: 0.8911 - val_loss: 0.1159 - val_acc: 0.9628\n",
            "Epoch 28/30\n",
            "66771/66771 [==============================] - 47s 698us/step - loss: 0.3097 - acc: 0.8919 - val_loss: 0.1125 - val_acc: 0.9641\n",
            "Epoch 29/30\n",
            "66771/66771 [==============================] - 47s 700us/step - loss: 0.3028 - acc: 0.8935 - val_loss: 0.1089 - val_acc: 0.9653\n",
            "Epoch 30/30\n",
            "66771/66771 [==============================] - 47s 698us/step - loss: 0.2990 - acc: 0.8960 - val_loss: 0.1094 - val_acc: 0.9669\n"
          ],
          "name": "stdout"
        }
      ]
    },
    {
      "metadata": {
        "id": "EgK6JcQIvw5Z",
        "colab_type": "code",
        "outputId": "fa0b8cc1-e9cf-4261-e2fc-49693790f49d",
        "colab": {
          "base_uri": "https://localhost:8080/",
          "height": 238
        }
      },
      "cell_type": "code",
      "source": [
        "sen = \"All is going right with the party, I'm happy to know new people\"\n",
        "test_model(sen, model_gg_1)\n",
        "sen = \"I want an ice cream and have some fries for lunch\"\n",
        "test_model(sen, model_gg_1)\n",
        "sen = \"I'm afraid of lose my work, I don't have any money\"\n",
        "test_model(sen, model_gg_1)\n",
        "sen = \"I'm worried about my future, I'm afroid of it\"\n",
        "test_model(sen, model_gg_1)"
      ],
      "execution_count": 0,
      "outputs": [
        {
          "output_type": "stream",
          "text": [
            "All is going right with the party, I'm happy to know new people\n",
            "[[9.8742074e-01 1.1647036e-02 5.2166346e-04 3.8331844e-05 3.7235199e-04]]\n",
            "none\n",
            "I want an ice cream and have some fries for lunch\n",
            "[[1.14469542e-04 9.86975670e-01 4.57844348e-04 4.68699545e-05\n",
            "  1.24051515e-02]]\n",
            "mild\n",
            "I'm afraid of lose my work, I don't have any money\n",
            "[[1.2398426e-06 8.8048782e-06 3.1105026e-06 1.8488665e-05 9.9996841e-01]]\n",
            "severe\n",
            "I'm worried about my future, I'm afroid of it\n",
            "[[0.0033872  0.01970866 0.01164115 0.16561747 0.79964554]]\n",
            "severe\n"
          ],
          "name": "stdout"
        }
      ]
    },
    {
      "metadata": {
        "id": "wDYXdwFDwMpn",
        "colab_type": "text"
      },
      "cell_type": "markdown",
      "source": [
        "### Modelo 3"
      ]
    },
    {
      "metadata": {
        "id": "7S9RYBzc8iva",
        "colab_type": "code",
        "colab": {}
      },
      "cell_type": "code",
      "source": [
        "EMBEDDING_DIM = 100\n",
        "MAX_SEQUENCE_LENGTH = windows_size\n",
        "\n",
        "num_lstm = np.random.randint(175, 275)\n",
        "num_dense = np.random.randint(100, 150)\n",
        "rate_drop_lstm = 0.15 + np.random.rand() * 0.25\n",
        "rate_drop_dense = 0.15 + np.random.rand() * 0.25\n",
        "\n",
        "act = 'relu'\n",
        "\n",
        "STAMP = 'lstm_%d_%d_%.2f_%.2f'%(num_lstm, num_dense, rate_drop_lstm, \\\n",
        "        rate_drop_dense)\n",
        "\n",
        "embedding_layer = Embedding(vocab_size+1,\n",
        "        EMBEDDING_DIM,\n",
        "        weights=[embedding_matrix_lp],\n",
        "        input_length=MAX_SEQUENCE_LENGTH,\n",
        "        trainable=False)\n",
        "\n",
        "lstm_layer1 = LSTM(num_lstm, return_sequences= True, dropout=rate_drop_lstm, recurrent_dropout=rate_drop_lstm) \n",
        "lstm_layer2 = LSTM(num_lstm, dropout=rate_drop_lstm, recurrent_dropout=rate_drop_lstm)\n",
        "\n",
        "sequence_1_input = Input(shape=(MAX_SEQUENCE_LENGTH,), dtype='int32')\n",
        "embedded_sequences_1 = embedding_layer(sequence_1_input)\n",
        "x1 = lstm_layer1(embedded_sequences_1)\n",
        "merged = lstm_layer2(x1)\n",
        "\n",
        "merged = Dropout(rate_drop_dense)(merged)\n",
        "merged = BatchNormalization()(merged)\n",
        "\n",
        "preds = Dense(5, activation='softmax')(merged)\n",
        "\n",
        "model_gg_2 = Model(inputs=[sequence_1_input], \\\n",
        "        outputs=preds)\n",
        "\n",
        "model_gg_2.compile(loss='categorical_crossentropy',\n",
        "        optimizer='nadam',\n",
        "        metrics=['acc'])  "
      ],
      "execution_count": 0,
      "outputs": []
    },
    {
      "metadata": {
        "id": "Xm0kuf9kHC95",
        "colab_type": "code",
        "outputId": "247fcef5-80af-4a37-dfc3-77bc41e32f9b",
        "colab": {
          "base_uri": "https://localhost:8080/",
          "height": 1054
        }
      },
      "cell_type": "code",
      "source": [
        "early_stopping = EarlyStopping(monitor='val_loss', patience=10)\n",
        "bst_model_path = STAMP + '.google2.h5'\n",
        "model_checkpoint = ModelCheckpoint(bst_model_path, save_best_only=True, save_weights_only=True)\n",
        "\n",
        "model_google_hist = model_gg_2.fit([train_b_a], train_b_y, \\\n",
        "        validation_data=([dev_b_a], dev_b_y), \\\n",
        "        epochs=30, batch_size=64, shuffle=True, \\\n",
        "         callbacks=[early_stopping, model_checkpoint])"
      ],
      "execution_count": 0,
      "outputs": [
        {
          "output_type": "stream",
          "text": [
            "Train on 66771 samples, validate on 13354 samples\n",
            "Epoch 1/30\n",
            "66771/66771 [==============================] - 85s 1ms/step - loss: 1.6396 - acc: 0.2600 - val_loss: 1.6054 - val_acc: 0.2750\n",
            "Epoch 2/30\n",
            "66771/66771 [==============================] - 81s 1ms/step - loss: 1.5317 - acc: 0.3198 - val_loss: 1.4543 - val_acc: 0.3713\n",
            "Epoch 3/30\n",
            "66771/66771 [==============================] - 82s 1ms/step - loss: 1.4272 - acc: 0.3909 - val_loss: 1.3158 - val_acc: 0.4516\n",
            "Epoch 4/30\n",
            "66771/66771 [==============================] - 81s 1ms/step - loss: 1.2821 - acc: 0.4732 - val_loss: 1.1156 - val_acc: 0.5545\n",
            "Epoch 5/30\n",
            "66771/66771 [==============================] - 81s 1ms/step - loss: 1.1300 - acc: 0.5519 - val_loss: 0.9170 - val_acc: 0.6629\n",
            "Epoch 6/30\n",
            "66771/66771 [==============================] - 81s 1ms/step - loss: 1.0146 - acc: 0.6033 - val_loss: 0.7782 - val_acc: 0.7045\n",
            "Epoch 7/30\n",
            "66771/66771 [==============================] - 81s 1ms/step - loss: 0.9181 - acc: 0.6448 - val_loss: 0.6718 - val_acc: 0.7569\n",
            "Epoch 8/30\n",
            "66771/66771 [==============================] - 80s 1ms/step - loss: 0.8489 - acc: 0.6757 - val_loss: 0.5811 - val_acc: 0.7956\n",
            "Epoch 9/30\n",
            "66771/66771 [==============================] - 80s 1ms/step - loss: 0.7973 - acc: 0.6987 - val_loss: 0.5156 - val_acc: 0.8135\n",
            "Epoch 10/30\n",
            "66771/66771 [==============================] - 79s 1ms/step - loss: 0.7515 - acc: 0.7173 - val_loss: 0.4731 - val_acc: 0.8321\n",
            "Epoch 11/30\n",
            "66771/66771 [==============================] - 80s 1ms/step - loss: 0.7189 - acc: 0.7307 - val_loss: 0.4481 - val_acc: 0.8408\n",
            "Epoch 12/30\n",
            "66771/66771 [==============================] - 80s 1ms/step - loss: 0.6834 - acc: 0.7452 - val_loss: 0.4000 - val_acc: 0.8631\n",
            "Epoch 13/30\n",
            "66771/66771 [==============================] - 79s 1ms/step - loss: 0.6622 - acc: 0.7509 - val_loss: 0.3787 - val_acc: 0.8752\n",
            "Epoch 14/30\n",
            "66771/66771 [==============================] - 79s 1ms/step - loss: 0.6351 - acc: 0.7654 - val_loss: 0.3386 - val_acc: 0.8833\n",
            "Epoch 15/30\n",
            "66771/66771 [==============================] - 80s 1ms/step - loss: 0.6150 - acc: 0.7739 - val_loss: 0.3299 - val_acc: 0.8911\n",
            "Epoch 16/30\n",
            "66771/66771 [==============================] - 79s 1ms/step - loss: 0.5974 - acc: 0.7807 - val_loss: 0.3028 - val_acc: 0.8982\n",
            "Epoch 17/30\n",
            "66771/66771 [==============================] - 79s 1ms/step - loss: 0.5856 - acc: 0.7852 - val_loss: 0.2879 - val_acc: 0.9049\n",
            "Epoch 18/30\n",
            "66771/66771 [==============================] - 79s 1ms/step - loss: 0.5735 - acc: 0.7904 - val_loss: 0.2693 - val_acc: 0.9150\n",
            "Epoch 19/30\n",
            "66771/66771 [==============================] - 79s 1ms/step - loss: 0.5566 - acc: 0.7974 - val_loss: 0.2602 - val_acc: 0.9161\n",
            "Epoch 20/30\n",
            "66771/66771 [==============================] - 78s 1ms/step - loss: 0.5469 - acc: 0.8000 - val_loss: 0.2403 - val_acc: 0.9245\n",
            "Epoch 21/30\n",
            "66771/66771 [==============================] - 78s 1ms/step - loss: 0.5335 - acc: 0.8054 - val_loss: 0.2425 - val_acc: 0.9226\n",
            "Epoch 22/30\n",
            "66771/66771 [==============================] - 77s 1ms/step - loss: 0.5234 - acc: 0.8087 - val_loss: 0.2161 - val_acc: 0.9322\n",
            "Epoch 23/30\n",
            "66771/66771 [==============================] - 78s 1ms/step - loss: 0.5194 - acc: 0.8113 - val_loss: 0.2132 - val_acc: 0.9322\n",
            "Epoch 24/30\n",
            "66771/66771 [==============================] - 78s 1ms/step - loss: 0.5084 - acc: 0.8167 - val_loss: 0.2046 - val_acc: 0.9316\n",
            "Epoch 25/30\n",
            "66771/66771 [==============================] - 77s 1ms/step - loss: 0.5067 - acc: 0.8179 - val_loss: 0.1929 - val_acc: 0.9410\n",
            "Epoch 26/30\n",
            "66771/66771 [==============================] - 76s 1ms/step - loss: 0.4970 - acc: 0.8210 - val_loss: 0.2055 - val_acc: 0.9340\n",
            "Epoch 27/30\n",
            "66771/66771 [==============================] - 78s 1ms/step - loss: 0.4879 - acc: 0.8242 - val_loss: 0.1849 - val_acc: 0.9421\n",
            "Epoch 28/30\n",
            "66771/66771 [==============================] - 77s 1ms/step - loss: 0.4815 - acc: 0.8288 - val_loss: 0.1824 - val_acc: 0.9448\n",
            "Epoch 29/30\n",
            "66771/66771 [==============================] - 77s 1ms/step - loss: 0.4727 - acc: 0.8315 - val_loss: 0.1738 - val_acc: 0.9458\n",
            "Epoch 30/30\n",
            "66771/66771 [==============================] - 77s 1ms/step - loss: 0.4681 - acc: 0.8323 - val_loss: 0.1670 - val_acc: 0.9506\n"
          ],
          "name": "stdout"
        }
      ]
    },
    {
      "metadata": {
        "id": "qemogdk_PjGG",
        "colab_type": "code",
        "outputId": "ff87aa26-f2bd-4e5d-93c5-d8fe2a4b44ff",
        "colab": {
          "base_uri": "https://localhost:8080/",
          "height": 221
        }
      },
      "cell_type": "code",
      "source": [
        "sen = \"All is going right with the party, I'm happy to know new people\"\n",
        "test_model(sen, model_gg_2)\n",
        "sen = \"I want an ice cream and have some fries for lunch\"\n",
        "test_model(sen, model_gg_2)\n",
        "sen = \"I'm afraid of lose my work, I don't have any money\"\n",
        "test_model(sen, model_gg_2)\n",
        "sen = \"I'm worried about my future, I'm afroid of it\"\n",
        "test_model(sen, model_gg_2)"
      ],
      "execution_count": 0,
      "outputs": [
        {
          "output_type": "stream",
          "text": [
            "All is going right with the party, I'm happy to know new people\n",
            "[[0.6963605  0.2039925  0.03281944 0.04269654 0.02413098]]\n",
            "none\n",
            "I want an ice cream and have some fries for lunch\n",
            "[[1.0345574e-03 9.2524663e-03 9.8935169e-01 1.8656383e-04 1.7471997e-04]]\n",
            "moderate\n",
            "I'm afraid of lose my work, I don't have any money\n",
            "[[0.30783388 0.00278217 0.01279544 0.01762625 0.65896225]]\n",
            "severe\n",
            "I'm worried about my future, I'm afroid of it\n",
            "[[0.08877082 0.6027601  0.16042632 0.01096619 0.13707654]]\n",
            "mild\n"
          ],
          "name": "stdout"
        }
      ]
    },
    {
      "metadata": {
        "id": "PDGhSyASwS0T",
        "colab_type": "text"
      },
      "cell_type": "markdown",
      "source": [
        "### Modelo 4"
      ]
    },
    {
      "metadata": {
        "id": "xWMTIwJwA1x5",
        "colab_type": "code",
        "outputId": "37bdd55f-3a23-470b-be7e-0db32d784269",
        "colab": {
          "base_uri": "https://localhost:8080/",
          "height": 476
        }
      },
      "cell_type": "code",
      "source": [
        "num_lstm = np.random.randint(175, 275)\n",
        "num_dense = np.random.randint(100, 150)\n",
        "rate_drop_lstm = 0.15 + np.random.rand() * 0.25\n",
        "rate_drop_dense = 0.15 + np.random.rand() * 0.25\n",
        "act = 'relu'\n",
        "\n",
        "embedding_layer = Embedding(vocab_size+1,\n",
        "        EMBEDDING_DIM,\n",
        "        weights=[embedding_matrix_lp],\n",
        "        input_length=MAX_SEQUENCE_LENGTH,\n",
        "        trainable=False)\n",
        "lstm_layer = LSTM(num_lstm, dropout=rate_drop_lstm, recurrent_dropout=rate_drop_lstm)\n",
        "\n",
        "sequence_1_input = Input(shape=(MAX_SEQUENCE_LENGTH,), dtype='int32')\n",
        "embedded_sequences_1 = embedding_layer(sequence_1_input)\n",
        "x1 = lstm_layer(embedded_sequences_1)\n",
        "\n",
        "merged = Dropout(rate_drop_dense)(x1)\n",
        "merged = BatchNormalization()(merged)\n",
        "\n",
        "merged = Dense(num_dense, activation=act)(merged)\n",
        "merged = Dropout(rate_drop_dense)(merged)\n",
        "merged = BatchNormalization()(merged)\n",
        "\n",
        "preds_1 = Dense(5, activation='softmax')(merged)\n",
        "preds_2 = Dense(1, activation='sigmoid')(merged)\n",
        "\n",
        "model = Model(inputs=[sequence_1_input], \\\n",
        "        outputs=[preds_1, preds_2])\n",
        "\n",
        "model.compile(loss=['categorical_crossentropy', 'mean_squared_error'],\n",
        "        optimizer='nadam', loss_weights=[1., 0.2],\n",
        "        metrics=['acc'])\n",
        "\n",
        "model.summary()"
      ],
      "execution_count": 0,
      "outputs": [
        {
          "output_type": "stream",
          "text": [
            "__________________________________________________________________________________________________\n",
            "Layer (type)                    Output Shape         Param #     Connected to                     \n",
            "==================================================================================================\n",
            "input_13 (InputLayer)           (None, 10)           0                                            \n",
            "__________________________________________________________________________________________________\n",
            "embedding_11 (Embedding)        (None, 10, 100)      737400      input_13[0][0]                   \n",
            "__________________________________________________________________________________________________\n",
            "lstm_17 (LSTM)                  (None, 265)          387960      embedding_11[0][0]               \n",
            "__________________________________________________________________________________________________\n",
            "dropout_8 (Dropout)             (None, 265)          0           lstm_17[0][0]                    \n",
            "__________________________________________________________________________________________________\n",
            "batch_normalization_10 (BatchNo (None, 265)          1060        dropout_8[0][0]                  \n",
            "__________________________________________________________________________________________________\n",
            "dense_15 (Dense)                (None, 141)          37506       batch_normalization_10[0][0]     \n",
            "__________________________________________________________________________________________________\n",
            "dropout_9 (Dropout)             (None, 141)          0           dense_15[0][0]                   \n",
            "__________________________________________________________________________________________________\n",
            "batch_normalization_11 (BatchNo (None, 141)          564         dropout_9[0][0]                  \n",
            "__________________________________________________________________________________________________\n",
            "dense_16 (Dense)                (None, 5)            710         batch_normalization_11[0][0]     \n",
            "__________________________________________________________________________________________________\n",
            "dense_17 (Dense)                (None, 1)            142         batch_normalization_11[0][0]     \n",
            "==================================================================================================\n",
            "Total params: 1,165,342\n",
            "Trainable params: 427,130\n",
            "Non-trainable params: 738,212\n",
            "__________________________________________________________________________________________________\n"
          ],
          "name": "stdout"
        }
      ]
    },
    {
      "metadata": {
        "id": "kwjW1D6WRGHE",
        "colab_type": "code",
        "colab": {}
      },
      "cell_type": "code",
      "source": [
        "train_phq_score = train_lp_b['PHQ8_Score'] \n",
        "dev_phq_score = dev_lp_b['PHQ8_Score'] \n",
        "test_phq_score = test_lp_b['PHQ8_Score'] "
      ],
      "execution_count": 0,
      "outputs": []
    },
    {
      "metadata": {
        "id": "jmAwkB1oBgHt",
        "colab_type": "code",
        "outputId": "c904c10b-f8a2-44d2-d14f-8ca86ae96778",
        "colab": {
          "base_uri": "https://localhost:8080/",
          "height": 1074
        }
      },
      "cell_type": "code",
      "source": [
        "early_stopping =EarlyStopping(monitor='val_loss', patience=3)\n",
        "bst_model_path = STAMP + '.twolosses.h5'\n",
        "model_checkpoint = ModelCheckpoint(bst_model_path, save_best_only=True, save_weights_only=True)\n",
        "\n",
        "hist = model.fit([train_b_a], [train_b_y, train_phq_score], \\\n",
        "        validation_data=([dev_b_a], [dev_b_y, dev_phq_score]), \\\n",
        "        epochs=30, batch_size=64, shuffle=True, callbacks=[early_stopping])"
      ],
      "execution_count": 0,
      "outputs": [
        {
          "output_type": "stream",
          "text": [
            "Train on 66771 samples, validate on 13354 samples\n",
            "Epoch 1/30\n",
            "66771/66771 [==============================] - 51s 767us/step - loss: 19.1457 - dense_16_loss: 1.6423 - dense_17_loss: 87.5170 - dense_16_acc: 0.2572 - dense_17_acc: 0.0237 - val_loss: 19.0494 - val_dense_16_loss: 1.5619 - val_dense_17_loss: 87.4372 - val_dense_16_acc: 0.2885 - val_dense_17_acc: 0.0207\n",
            "Epoch 2/30\n",
            "66771/66771 [==============================] - 49s 729us/step - loss: 18.9756 - dense_16_loss: 1.5501 - dense_17_loss: 87.1278 - dense_16_acc: 0.3012 - dense_17_acc: 0.0198 - val_loss: 18.9897 - val_dense_16_loss: 1.5024 - val_dense_17_loss: 87.4365 - val_dense_16_acc: 0.3388 - val_dense_17_acc: 0.0207\n",
            "Epoch 3/30\n",
            "66771/66771 [==============================] - 48s 718us/step - loss: 18.9106 - dense_16_loss: 1.4853 - dense_17_loss: 87.1265 - dense_16_acc: 0.3526 - dense_17_acc: 0.0198 - val_loss: 18.8752 - val_dense_16_loss: 1.3879 - val_dense_17_loss: 87.4364 - val_dense_16_acc: 0.4206 - val_dense_17_acc: 0.0207\n",
            "Epoch 4/30\n",
            "66771/66771 [==============================] - 49s 734us/step - loss: 18.8163 - dense_16_loss: 1.3910 - dense_17_loss: 87.1262 - dense_16_acc: 0.4130 - dense_17_acc: 0.0198 - val_loss: 18.7390 - val_dense_16_loss: 1.2517 - val_dense_17_loss: 87.4364 - val_dense_16_acc: 0.4955 - val_dense_17_acc: 0.0207\n",
            "Epoch 5/30\n",
            "66771/66771 [==============================] - 48s 713us/step - loss: 18.6947 - dense_16_loss: 1.2695 - dense_17_loss: 87.1261 - dense_16_acc: 0.4819 - dense_17_acc: 0.0198 - val_loss: 18.5712 - val_dense_16_loss: 1.0839 - val_dense_17_loss: 87.4363 - val_dense_16_acc: 0.5788 - val_dense_17_acc: 0.0207\n",
            "Epoch 6/30\n",
            "66771/66771 [==============================] - 47s 703us/step - loss: 18.5704 - dense_16_loss: 1.1452 - dense_17_loss: 87.1260 - dense_16_acc: 0.5461 - dense_17_acc: 0.0198 - val_loss: 18.3976 - val_dense_16_loss: 0.9103 - val_dense_17_loss: 87.4362 - val_dense_16_acc: 0.6551 - val_dense_17_acc: 0.0207\n",
            "Epoch 7/30\n",
            "66771/66771 [==============================] - 48s 715us/step - loss: 18.4619 - dense_16_loss: 1.0368 - dense_17_loss: 87.1259 - dense_16_acc: 0.5970 - dense_17_acc: 0.0198 - val_loss: 18.2712 - val_dense_16_loss: 0.7840 - val_dense_17_loss: 87.4362 - val_dense_16_acc: 0.7187 - val_dense_17_acc: 0.0207\n",
            "Epoch 8/30\n",
            "66771/66771 [==============================] - 47s 703us/step - loss: 18.3752 - dense_16_loss: 0.9500 - dense_17_loss: 87.1258 - dense_16_acc: 0.6366 - dense_17_acc: 0.0198 - val_loss: 18.1574 - val_dense_16_loss: 0.6702 - val_dense_17_loss: 87.4361 - val_dense_16_acc: 0.7619 - val_dense_17_acc: 0.0207\n",
            "Epoch 9/30\n",
            "66771/66771 [==============================] - 47s 702us/step - loss: 18.3050 - dense_16_loss: 0.8798 - dense_17_loss: 87.1258 - dense_16_acc: 0.6682 - dense_17_acc: 0.0198 - val_loss: 18.0858 - val_dense_16_loss: 0.5986 - val_dense_17_loss: 87.4361 - val_dense_16_acc: 0.7882 - val_dense_17_acc: 0.0207\n",
            "Epoch 10/30\n",
            "66771/66771 [==============================] - 47s 702us/step - loss: 18.2494 - dense_16_loss: 0.8243 - dense_17_loss: 87.1257 - dense_16_acc: 0.6921 - dense_17_acc: 0.0198 - val_loss: 18.0270 - val_dense_16_loss: 0.5398 - val_dense_17_loss: 87.4361 - val_dense_16_acc: 0.8150 - val_dense_17_acc: 0.0207\n",
            "Epoch 11/30\n",
            "66771/66771 [==============================] - 48s 715us/step - loss: 18.2060 - dense_16_loss: 0.7808 - dense_17_loss: 87.1256 - dense_16_acc: 0.7087 - dense_17_acc: 0.0198 - val_loss: 17.9639 - val_dense_16_loss: 0.4766 - val_dense_17_loss: 87.4361 - val_dense_16_acc: 0.8341 - val_dense_17_acc: 0.0207\n",
            "Epoch 12/30\n",
            "66771/66771 [==============================] - 47s 699us/step - loss: 18.1796 - dense_16_loss: 0.7545 - dense_17_loss: 87.1256 - dense_16_acc: 0.7218 - dense_17_acc: 0.0198 - val_loss: 17.9436 - val_dense_16_loss: 0.4564 - val_dense_17_loss: 87.4361 - val_dense_16_acc: 0.8430 - val_dense_17_acc: 0.0207\n",
            "Epoch 13/30\n",
            "66771/66771 [==============================] - 48s 712us/step - loss: 18.1474 - dense_16_loss: 0.7223 - dense_17_loss: 87.1254 - dense_16_acc: 0.7336 - dense_17_acc: 0.0199 - val_loss: 17.9107 - val_dense_16_loss: 0.4239 - val_dense_17_loss: 87.4337 - val_dense_16_acc: 0.8548 - val_dense_17_acc: 0.0208\n",
            "Epoch 14/30\n",
            "66771/66771 [==============================] - 46s 690us/step - loss: 18.1191 - dense_16_loss: 0.6981 - dense_17_loss: 87.1049 - dense_16_acc: 0.7435 - dense_17_acc: 0.0573 - val_loss: 17.8781 - val_dense_16_loss: 0.4070 - val_dense_17_loss: 87.3554 - val_dense_16_acc: 0.8633 - val_dense_17_acc: 0.0944\n",
            "Epoch 15/30\n",
            "66771/66771 [==============================] - 47s 697us/step - loss: 18.1052 - dense_16_loss: 0.6859 - dense_17_loss: 87.0962 - dense_16_acc: 0.7494 - dense_17_acc: 0.0659 - val_loss: 17.8534 - val_dense_16_loss: 0.3810 - val_dense_17_loss: 87.3622 - val_dense_16_acc: 0.8735 - val_dense_17_acc: 0.0872\n",
            "Epoch 16/30\n",
            "66771/66771 [==============================] - 47s 703us/step - loss: 18.0874 - dense_16_loss: 0.6687 - dense_17_loss: 87.0934 - dense_16_acc: 0.7569 - dense_17_acc: 0.0679 - val_loss: 17.8474 - val_dense_16_loss: 0.3739 - val_dense_17_loss: 87.3674 - val_dense_16_acc: 0.8780 - val_dense_17_acc: 0.0814\n",
            "Epoch 17/30\n",
            "66771/66771 [==============================] - 48s 713us/step - loss: 18.0711 - dense_16_loss: 0.6533 - dense_17_loss: 87.0887 - dense_16_acc: 0.7627 - dense_17_acc: 0.0760 - val_loss: 17.8170 - val_dense_16_loss: 0.3528 - val_dense_17_loss: 87.3214 - val_dense_16_acc: 0.8816 - val_dense_17_acc: 0.1323\n",
            "Epoch 18/30\n",
            "66771/66771 [==============================] - 47s 702us/step - loss: 18.0549 - dense_16_loss: 0.6370 - dense_17_loss: 87.0894 - dense_16_acc: 0.7696 - dense_17_acc: 0.0713 - val_loss: 17.7948 - val_dense_16_loss: 0.3288 - val_dense_17_loss: 87.3297 - val_dense_16_acc: 0.8976 - val_dense_17_acc: 0.1234\n",
            "Epoch 19/30\n",
            "66771/66771 [==============================] - 47s 702us/step - loss: 18.0407 - dense_16_loss: 0.6244 - dense_17_loss: 87.0813 - dense_16_acc: 0.7743 - dense_17_acc: 0.0840 - val_loss: 17.7784 - val_dense_16_loss: 0.3170 - val_dense_17_loss: 87.3074 - val_dense_16_acc: 0.8965 - val_dense_17_acc: 0.1459\n",
            "Epoch 20/30\n",
            "66771/66771 [==============================] - 47s 705us/step - loss: 18.0408 - dense_16_loss: 0.6244 - dense_17_loss: 87.0817 - dense_16_acc: 0.7770 - dense_17_acc: 0.0830 - val_loss: 17.7916 - val_dense_16_loss: 0.3257 - val_dense_17_loss: 87.3294 - val_dense_16_acc: 0.8933 - val_dense_17_acc: 0.1209\n",
            "Epoch 21/30\n",
            "66771/66771 [==============================] - 46s 696us/step - loss: 18.0264 - dense_16_loss: 0.6102 - dense_17_loss: 87.0810 - dense_16_acc: 0.7819 - dense_17_acc: 0.0843 - val_loss: 17.7823 - val_dense_16_loss: 0.3173 - val_dense_17_loss: 87.3250 - val_dense_16_acc: 0.8980 - val_dense_17_acc: 0.1251\n",
            "Epoch 22/30\n",
            "66771/66771 [==============================] - 46s 694us/step - loss: 18.0282 - dense_16_loss: 0.6121 - dense_17_loss: 87.0806 - dense_16_acc: 0.7809 - dense_17_acc: 0.0860 - val_loss: 17.7565 - val_dense_16_loss: 0.2942 - val_dense_17_loss: 87.3115 - val_dense_16_acc: 0.9032 - val_dense_17_acc: 0.1495\n",
            "Epoch 23/30\n",
            "66771/66771 [==============================] - 47s 698us/step - loss: 18.0135 - dense_16_loss: 0.5983 - dense_17_loss: 87.0759 - dense_16_acc: 0.7861 - dense_17_acc: 0.0905 - val_loss: 17.7536 - val_dense_16_loss: 0.2888 - val_dense_17_loss: 87.3238 - val_dense_16_acc: 0.9090 - val_dense_17_acc: 0.1248\n",
            "Epoch 24/30\n",
            "66771/66771 [==============================] - 48s 714us/step - loss: 18.0108 - dense_16_loss: 0.5962 - dense_17_loss: 87.0727 - dense_16_acc: 0.7890 - dense_17_acc: 0.0932 - val_loss: 17.7428 - val_dense_16_loss: 0.2819 - val_dense_17_loss: 87.3044 - val_dense_16_acc: 0.9098 - val_dense_17_acc: 0.1506\n",
            "Epoch 25/30\n",
            "66771/66771 [==============================] - 46s 693us/step - loss: 18.0002 - dense_16_loss: 0.5861 - dense_17_loss: 87.0703 - dense_16_acc: 0.7903 - dense_17_acc: 0.0975 - val_loss: 17.7262 - val_dense_16_loss: 0.2641 - val_dense_17_loss: 87.3106 - val_dense_16_acc: 0.9148 - val_dense_17_acc: 0.1408\n",
            "Epoch 26/30\n",
            "66771/66771 [==============================] - 47s 702us/step - loss: 17.9947 - dense_16_loss: 0.5805 - dense_17_loss: 87.0709 - dense_16_acc: 0.7921 - dense_17_acc: 0.0922 - val_loss: 17.7262 - val_dense_16_loss: 0.2640 - val_dense_17_loss: 87.3111 - val_dense_16_acc: 0.9148 - val_dense_17_acc: 0.1397\n",
            "Epoch 27/30\n",
            "66771/66771 [==============================] - 47s 697us/step - loss: 17.9927 - dense_16_loss: 0.5784 - dense_17_loss: 87.0717 - dense_16_acc: 0.7945 - dense_17_acc: 0.0946 - val_loss: 17.7102 - val_dense_16_loss: 0.2518 - val_dense_17_loss: 87.2922 - val_dense_16_acc: 0.9231 - val_dense_17_acc: 0.1626\n",
            "Epoch 28/30\n",
            "66771/66771 [==============================] - 46s 687us/step - loss: 17.9923 - dense_16_loss: 0.5782 - dense_17_loss: 87.0703 - dense_16_acc: 0.7950 - dense_17_acc: 0.0964 - val_loss: 17.7335 - val_dense_16_loss: 0.2748 - val_dense_17_loss: 87.2935 - val_dense_16_acc: 0.9096 - val_dense_17_acc: 0.1653\n",
            "Epoch 29/30\n",
            "66771/66771 [==============================] - 46s 685us/step - loss: 17.9787 - dense_16_loss: 0.5653 - dense_17_loss: 87.0671 - dense_16_acc: 0.7981 - dense_17_acc: 0.0997 - val_loss: 17.7230 - val_dense_16_loss: 0.2619 - val_dense_17_loss: 87.3056 - val_dense_16_acc: 0.9164 - val_dense_17_acc: 0.1516\n",
            "Epoch 30/30\n",
            "66771/66771 [==============================] - 46s 695us/step - loss: 17.9736 - dense_16_loss: 0.5605 - dense_17_loss: 87.0658 - dense_16_acc: 0.8023 - dense_17_acc: 0.1001 - val_loss: 17.6953 - val_dense_16_loss: 0.2344 - val_dense_17_loss: 87.3045 - val_dense_16_acc: 0.9281 - val_dense_17_acc: 0.1493\n"
          ],
          "name": "stdout"
        }
      ]
    },
    {
      "metadata": {
        "id": "gycwvZgLX4HP",
        "colab_type": "code",
        "colab": {}
      },
      "cell_type": "code",
      "source": [
        "def test_model_1(text, model):\n",
        "  print(text)\n",
        "  word_list = text_to_wordlist(text)\n",
        "  sequences = tokenizer.texts_to_sequences([word_list])\n",
        "  sequentes_input = list(itertools.chain(*sequences))\n",
        "  sequentes_input =  pad_sequences([sequentes_input], value=0, padding=\"post\", maxlen=windows_size).tolist()\n",
        "  input_a = np.asarray(sequentes_input)\n",
        "  pred = model.predict(input_a, batch_size=None, verbose=0, steps=None)\n",
        "  print(pred)\n",
        "  predicted_class = np.argmax(pred[0])\n",
        "  print(labels[predicted_class])"
      ],
      "execution_count": 0,
      "outputs": []
    },
    {
      "metadata": {
        "id": "6dKARjI8XrPh",
        "colab_type": "code",
        "outputId": "6b0491a2-5c82-455c-885b-c21a99b2b64e",
        "colab": {
          "base_uri": "https://localhost:8080/",
          "height": 289
        }
      },
      "cell_type": "code",
      "source": [
        "sen = \"All is going right with the party, I'm happy to know new people\"\n",
        "test_model_1(sen, model)\n",
        "sen = \"I want an ice cream and have some fries for lunch\"\n",
        "test_model_1(sen, model)\n",
        "sen = \"I'm afraid of lose my work, I don't have any money\"\n",
        "test_model_1(sen, model)\n",
        "sen = \"I'm worried about my future, I'm afroid of it\"\n",
        "test_model_1(sen, model)"
      ],
      "execution_count": 0,
      "outputs": [
        {
          "output_type": "stream",
          "text": [
            "All is going right with the party, I'm happy to know new people\n",
            "[array([[0.69848865, 0.18393715, 0.09027162, 0.00608941, 0.02121312]],\n",
            "      dtype=float32), array([[0.9996779]], dtype=float32)]\n",
            "none\n",
            "I want an ice cream and have some fries for lunch\n",
            "[array([[0.09171404, 0.79242975, 0.10352303, 0.00707409, 0.00525908]],\n",
            "      dtype=float32), array([[0.9999982]], dtype=float32)]\n",
            "mild\n",
            "I'm afraid of lose my work, I don't have any money\n",
            "[array([[0.02358736, 0.00128106, 0.07346388, 0.8327862 , 0.06888146]],\n",
            "      dtype=float32), array([[0.9999999]], dtype=float32)]\n",
            "moderately severe\n",
            "I'm worried about my future, I'm afroid of it\n",
            "[array([[0.04125358, 0.00309274, 0.59854066, 0.01094239, 0.3461706 ]],\n",
            "      dtype=float32), array([[1.]], dtype=float32)]\n",
            "moderate\n"
          ],
          "name": "stdout"
        }
      ]
    }
  ]
}