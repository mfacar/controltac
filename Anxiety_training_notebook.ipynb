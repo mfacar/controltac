{
 "cells": [
  {
   "cell_type": "markdown",
   "metadata": {
    "id": "KiNCjvbL-ffc",
    "colab_type": "text"
   },
   "source": [
    "**Desarrollo**"
   ]
  },
  {
   "cell_type": "markdown",
   "metadata": {
    "id": "35ZPgQG15vtk",
    "colab_type": "text"
   },
   "source": [
    "# Predicción del nivel de ansiedad mediante análisis de texto\n",
    "\n",
    "---\n",
    "\n",
    "El presente trabajo pretende entrenar un modelo de clasificación, que a partir de el anásis de texto, determine el nivel de ansiedad de una persona.  \n",
    "\n",
    "Se ha utilizado la base de datos [DAIC-WOZ](http://dcapswoz.ict.usc.edu/wwwutil_files/DAICWOZDepression_Documentation.pdf), de la Universidad del Sur de California, el mismo que fue generado mediante sesiones de una entrevista clínica y el cuestionario PHQ8 con 189 personas.  Las entrevista fue diseñada para el soporte al diagnóstico de condiciones de enfermedades sicológicas como ansiedad, depresión y desordenes de estrés post traumático.\n",
    "\n",
    "Los datos del dataset incluyen grabaciones de audio de las entrevitas con sus correspondientes transcripciones asi como las caracterísicas faciales de los sujetos entrevistados.\n",
    "\n",
    "Esta base de datos es parte de un corpus mas completo, Corpus de Entrevistas para el Análisis de Enfermedades, DAIC por sus siglas en inglés.  "
   ]
  },
  {
   "cell_type": "markdown",
   "metadata": {
    "id": "_iw_TiMI-oy0",
    "colab_type": "text"
   },
   "source": [
    "La base de datos consiste en un comprimido para cada sesión de entrevistas, en la misma constan varios recursos de los cuales en este trabajo de ha hecho uso de la transcripción de la entrevista, como preparación previa se ha cargado todas las entrevistas en un único dataframe de forma local con el siguiente código.  "
   ]
  },
  {
   "cell_type": "markdown",
   "metadata": {
    "id": "QBKSNYF3CV24",
    "colab_type": "text"
   },
   "source": [
    "####Método de carga de transcripts"
   ]
  },
  {
   "cell_type": "markdown",
   "metadata": {
    "id": "7OGudeBuDO9w",
    "colab_type": "text"
   },
   "source": [
    "Al considerar tanto al entrevistador como al participante, el conjunto de datos se reduce a las sesiones de 186 personas, dado que 3 transcripciones no contienen el texto correspondiente a Ellie, la entrevistadora virtual. El csv generado se ha subido a google drive para poder utilizarlo en este lab."
   ]
  },
  {
   "cell_type": "code",
   "execution_count": 0,
   "metadata": {
    "id": "mL_14jE8ACCF",
    "colab_type": "code",
    "outputId": "f3b6ceea-1b54-4e64-e2c2-3c2290e900dd",
    "colab": {
     "base_uri": "https://localhost:8080/",
     "height": 54.0
    }
   },
   "outputs": [
    {
     "data": {
      "text/plain": [
       "'\\nrows_list = []\\n\\nfor filename in glob.iglob(\\'/Volumes/Dev/Projects/Psicobotica/**/*TRANSCRIPT.csv\\', recursive=True):    \\n    transcript = pd.read_csv(filename, sep=\\'\\t\\')    \\n    m = re.search(\\'^\\\\/(.+\\\\/)*(\\\\d+)_TRANSCRIPT.csv\\', filename)    \\n    personId = m.group(2)\\n    p = {}\\n    question = \"\"\\n    answer = \"\"\\n    lines = len(transcript)\\n    for i in range(0, lines): \\n        row=transcript.iloc[i]\\n        if (row[\"speaker\"] == \"Ellie\" ) or (i == lines - 1):\\n            p[\"personId\"] = personId\\n            if (\"(\" in str(question)):\\n                question = question[question.index(\"(\")+1:question.index(\")\")]\\n            p[\"question\"] = question\\n            p[\"answer\"] = answer\\n            if (question != \"\"):\\n                rows_list.append(p)\\n            p = {}         \\n            answer = \"\"\\n            question = row[\"value\"]\\n        else:\\n            answer = str(answer) + \" \" + str(row[\"value\"])\\n    \\nallParticipants = pd.DataFrame(rows_list, columns=[\\'personId\\', \\'question\\', \\'answer\\'])\\nallParticipants.to_csv(\\'/Volumes/Dev/Projects/practicas/all.csv\\', sep=\\',\\')\\n'"
      ]
     },
     "execution_count": 2,
     "metadata": {
      "tags": []
     },
     "output_type": "execute_result"
    }
   ],
   "source": [
    "\"\"\"\n",
    "rows_list = []\n",
    "\n",
    "for filename in glob.iglob('/Volumes/Dev/Projects/Psicobotica/**/*TRANSCRIPT.csv', recursive=True):    \n",
    "    transcript = pd.read_csv(filename, sep='\\t')    \n",
    "    m = re.search('^\\/(.+\\/)*(\\d+)_TRANSCRIPT.csv', filename)    \n",
    "    personId = m.group(2)\n",
    "    p = {}\n",
    "    question = \"\"\n",
    "    answer = \"\"\n",
    "    lines = len(transcript)\n",
    "    for i in range(0, lines): \n",
    "        row=transcript.iloc[i]\n",
    "        if (row[\"speaker\"] == \"Ellie\" ) or (i == lines - 1):\n",
    "            p[\"personId\"] = personId\n",
    "            if (\"(\" in str(question)):\n",
    "                question = question[question.index(\"(\")+1:question.index(\")\")]\n",
    "            p[\"question\"] = question\n",
    "            p[\"answer\"] = answer\n",
    "            if (question != \"\"):\n",
    "                rows_list.append(p)\n",
    "            p = {}         \n",
    "            answer = \"\"\n",
    "            question = row[\"value\"]\n",
    "        else:\n",
    "            answer = str(answer) + \" \" + str(row[\"value\"])\n",
    "    \n",
    "allParticipants = pd.DataFrame(rows_list, columns=['personId', 'question', 'answer'])\n",
    "allParticipants.to_csv('/Volumes/Dev/Projects/practicas/all.csv', sep=',')\n",
    "\"\"\""
   ]
  },
  {
   "cell_type": "markdown",
   "metadata": {
    "id": "A2OedEZoT7v9",
    "colab_type": "text"
   },
   "source": [
    "####Instalo las librerias utilizadas"
   ]
  },
  {
   "cell_type": "code",
   "execution_count": 0,
   "metadata": {
    "id": "mtMIOfjmUDlN",
    "colab_type": "code",
    "colab": {}
   },
   "outputs": [],
   "source": [
    "!pip install -q gensim"
   ]
  },
  {
   "cell_type": "markdown",
   "metadata": {
    "id": "ZB_TLkFX5oXB",
    "colab_type": "text"
   },
   "source": [
    "####Importo las librerias requeridas para el desarrollo del trabajo"
   ]
  },
  {
   "cell_type": "code",
   "execution_count": 0,
   "metadata": {
    "id": "uhPdWaz7h2tx",
    "colab_type": "code",
    "outputId": "4f1cfb6b-11fd-4245-b5c3-c078ac8edebf",
    "colab": {
     "base_uri": "https://localhost:8080/",
     "height": 34.0
    }
   },
   "outputs": [
    {
     "name": "stderr",
     "output_type": "stream",
     "text": [
      "Using TensorFlow backend.\n"
     ]
    }
   ],
   "source": [
    "import glob\n",
    "import pandas as pd\n",
    "import numpy as np\n",
    "import re\n",
    "import fnmatch\n",
    "import os\n",
    "import keras\n",
    "\n",
    "from keras.datasets import fashion_mnist\n",
    "from keras.models import Sequential, Model\n",
    "from keras.layers import Dense, Dropout, Embedding, LSTM, Input, Activation, GlobalAveragePooling1D, Flatten, Concatenate, Conv1D, MaxPooling1D\n",
    "from keras.layers.normalization import BatchNormalization\n",
    "from keras.layers.merge import concatenate\n",
    "from keras.optimizers import SGD, RMSprop, Adagrad, Adam\n",
    "from keras.preprocessing.text import one_hot, text_to_word_sequence, Tokenizer\n",
    "from keras.preprocessing.sequence import pad_sequences\n",
    "\n",
    "from keras.callbacks import EarlyStopping, ModelCheckpoint\n",
    "from keras.utils.vis_utils import plot_model\n",
    "\n",
    "from nltk.corpus import stopwords\n",
    "from nltk.stem import SnowballStemmer\n",
    "from string import punctuation\n",
    "from scipy import stats\n",
    "\n",
    "from keras.utils.vis_utils import plot_model\n",
    "\n",
    "import matplotlib\n",
    "import matplotlib.pyplot as plt\n",
    "\n",
    "import itertools\n",
    "import gensim\n",
    "import nltk\n",
    "from nltk.stem import WordNetLemmatizer"
   ]
  },
  {
   "cell_type": "markdown",
   "metadata": {
    "id": "DvGsHRW4kkCp",
    "colab_type": "text"
   },
   "source": [
    "Descargamos los recursos de nltk, wordnet y stopwords para el procesamiento de lenguaje natural"
   ]
  },
  {
   "cell_type": "code",
   "execution_count": 0,
   "metadata": {
    "id": "axhc_8DG05hv",
    "colab_type": "code",
    "outputId": "ea6b618b-52cb-40cd-da7c-b25509f7c3d6",
    "colab": {
     "base_uri": "https://localhost:8080/",
     "height": 85.0
    }
   },
   "outputs": [
    {
     "name": "stdout",
     "output_type": "stream",
     "text": [
      "[nltk_data] Downloading package wordnet to /root/nltk_data...\n",
      "[nltk_data]   Unzipping corpora/wordnet.zip.\n",
      "[nltk_data] Downloading package stopwords to /root/nltk_data...\n",
      "[nltk_data]   Unzipping corpora/stopwords.zip.\n"
     ]
    }
   ],
   "source": [
    "nltk.download('wordnet')\n",
    "nltk.download('stopwords')\n",
    "wordnet_lemmatizer = WordNetLemmatizer()"
   ]
  },
  {
   "cell_type": "markdown",
   "metadata": {
    "id": "TXW7miNilfVn",
    "colab_type": "text"
   },
   "source": [
    "Habilito uso de drive para cargar los datasets"
   ]
  },
  {
   "cell_type": "code",
   "execution_count": 0,
   "metadata": {
    "id": "Oy6nsx_9kC6K",
    "colab_type": "code",
    "outputId": "df3f0333-b520-46cb-f159-494062dc93bc",
    "colab": {
     "base_uri": "https://localhost:8080/",
     "height": 122.0
    }
   },
   "outputs": [
    {
     "name": "stdout",
     "output_type": "stream",
     "text": [
      "Go to this URL in a browser: https://accounts.google.com/o/oauth2/auth?client_id=947318989803-6bn6qk8qdgf4n4g3pfee6491hc0brc4i.apps.googleusercontent.com&redirect_uri=urn%3Aietf%3Awg%3Aoauth%3A2.0%3Aoob&scope=email%20https%3A%2F%2Fwww.googleapis.com%2Fauth%2Fdocs.test%20https%3A%2F%2Fwww.googleapis.com%2Fauth%2Fdrive%20https%3A%2F%2Fwww.googleapis.com%2Fauth%2Fdrive.photos.readonly%20https%3A%2F%2Fwww.googleapis.com%2Fauth%2Fpeopleapi.readonly&response_type=code\n",
      "\n",
      "Enter your authorization code:\n",
      "··········\n",
      "Mounted at /content/drive\n"
     ]
    }
   ],
   "source": [
    "from google.colab import drive\n",
    "\n",
    "drive.mount('/content/drive')"
   ]
  },
  {
   "cell_type": "markdown",
   "metadata": {
    "id": "maf7WJu6cJlq",
    "colab_type": "text"
   },
   "source": [
    "####Variable generales"
   ]
  },
  {
   "cell_type": "markdown",
   "metadata": {
    "id": "6f4cF5JGksYR",
    "colab_type": "text"
   },
   "source": [
    "En base a la clasificación propuesta en https://www.torbayandsouthdevon.nhs.uk/uploads/score-sheet-gad-7-anxiety-and-phq-9-depression.pdf, se definen 5 niveles de ansiedad basados en la puntuación PHQ8"
   ]
  },
  {
   "cell_type": "code",
   "execution_count": 0,
   "metadata": {
    "id": "UNTpKYGtcINy",
    "colab_type": "code",
    "colab": {}
   },
   "outputs": [],
   "source": [
    "labels=['none','mild','moderate','moderately severe', 'severe']\n",
    "num_classes = len(labels)"
   ]
  },
  {
   "cell_type": "markdown",
   "metadata": {
    "id": "f3lg9jcPbm71",
    "colab_type": "text"
   },
   "source": [
    "####Funciones para gráficas de modelos"
   ]
  },
  {
   "cell_type": "markdown",
   "metadata": {
    "id": "o3Wd1PmgbuJP",
    "colab_type": "text"
   },
   "source": [
    "Tomadas de la materia Sistemas Cognitivos Artificiales - Alfredo Lainez"
   ]
  },
  {
   "cell_type": "code",
   "execution_count": 0,
   "metadata": {
    "id": "LIhakC2Pbr4U",
    "colab_type": "code",
    "colab": {}
   },
   "outputs": [],
   "source": [
    "def plot_acc(history, title=\"Model Accuracy\"):\n",
    "    \"\"\"Imprime una gráfica mostrando la accuracy por epoch obtenida en un entrenamiento\"\"\"\n",
    "    plt.plot(history.history['acc'])\n",
    "    plt.plot(history.history['val_acc'])\n",
    "    plt.title(title)\n",
    "    plt.ylabel('Accuracy')\n",
    "    plt.xlabel('Epoch')\n",
    "    plt.legend(['Train', 'Val'], loc='upper left')\n",
    "    plt.show()\n",
    "    \n",
    "def plot_loss(history, title=\"Model Loss\"):\n",
    "    \"\"\"Imprime una gráfica mostrando la pérdida por epoch obtenida en un entrenamiento\"\"\"\n",
    "    plt.plot(history.history['loss'])\n",
    "    plt.plot(history.history['val_loss'])\n",
    "    plt.title(title)\n",
    "    plt.ylabel('Loss')\n",
    "    plt.xlabel('Epoch')\n",
    "    plt.legend(['Train', 'Val'], loc='upper right')\n",
    "    plt.show()\n",
    "    \n",
    "def plot_compare_losses(history1, history2, name1=\"Red 1\",\n",
    "                        name2=\"Red 2\", title=\"Graph title\"):\n",
    "    \"\"\"Compara losses de dos entrenamientos con nombres name1 y name2\"\"\"\n",
    "    plt.plot(history1.history['loss'], color=\"green\")\n",
    "    plt.plot(history1.history['val_loss'], 'r--', color=\"green\")\n",
    "    plt.plot(history2.history['loss'], color=\"blue\")\n",
    "    plt.plot(history2.history['val_loss'], 'r--', color=\"blue\")\n",
    "    plt.title(title)\n",
    "    plt.ylabel('Loss')\n",
    "    plt.xlabel('Epoch')\n",
    "    plt.legend(['Train ' + name1, 'Val ' + name1, \n",
    "                'Train ' + name2, 'Val ' + name2],\n",
    "               loc='upper right')\n",
    "    plt.show()\n",
    "    \n",
    "def plot_compare_accs(history1, history2, name1=\"Red 1\",\n",
    "                      name2=\"Red 2\", title=\"Graph title\"):\n",
    "    \"\"\"Compara accuracies de dos entrenamientos con nombres name1 y name2\"\"\"\n",
    "    plt.plot(history1.history['acc'], color=\"green\")\n",
    "    plt.plot(history1.history['val_acc'], 'r--', color=\"green\")\n",
    "    plt.plot(history2.history['acc'], color=\"blue\")\n",
    "    plt.plot(history2.history['val_acc'], 'r--', color=\"blue\")\n",
    "    plt.title(title)\n",
    "    plt.ylabel('Accuracy')\n",
    "    plt.xlabel('Epoch')\n",
    "    plt.legend(['Train ' + name1, 'Val ' + name1, \n",
    "                'Train ' + name2, 'Val ' + name2], \n",
    "               loc='lower right')\n",
    "    plt.show()\n",
    "\n",
    "def plot_compare_multiple_metrics(history_array, names, colors, title=\"Graph title\", metric='acc'):  \n",
    "    legend = []\n",
    "    for i in range(0, len(history_array)):\n",
    "        plt.plot(history_array[i].history[metric], color=colors[i])\n",
    "        plt.plot(history_array[i].history['val_' + metric], 'r--', color=colors[i])\n",
    "        legend.append('Train ' + names[i])\n",
    "        legend.append('Val ' + names[i])\n",
    "    \n",
    "    plt.title(title)\n",
    "    plt.ylabel('Accuracy')\n",
    "    plt.xlabel('Epoch')   \n",
    "    plt.axis\n",
    "    plt.legend(legend, \n",
    "               loc='lower right')\n",
    "    plt.show()"
   ]
  },
  {
   "cell_type": "markdown",
   "metadata": {
    "id": "rU6ki8KClt-h",
    "colab_type": "text"
   },
   "source": [
    "## Carga y preprocesamiento de transcripciones"
   ]
  },
  {
   "cell_type": "markdown",
   "metadata": {
    "id": "3O1UDoziKxE2",
    "colab_type": "text"
   },
   "source": [
    "#### Carga de fuentes de datos\n",
    "\n",
    "\n",
    "---\n",
    "\n",
    "Cargo el dataset que contiene solo las respuestas de los participantes"
   ]
  },
  {
   "cell_type": "markdown",
   "metadata": {
    "id": "Z57zoWiofioa",
    "colab_type": "text"
   },
   "source": [
    "Cargo el transcript de la entrevistadora virtual y los participantes"
   ]
  },
  {
   "cell_type": "code",
   "execution_count": 0,
   "metadata": {
    "id": "2UchIdRhV_dR",
    "colab_type": "code",
    "colab": {}
   },
   "outputs": [],
   "source": [
    "all_participants = pd.read_csv('/content/drive/My Drive/Colab Notebooks/all.csv', sep=',')\n",
    "all_participants.columns =  ['index','personId', 'question', 'answer']\n",
    "all_participants = all_participants.astype({\"index\": float, \"personId\": float, \"question\": str, \"answer\": str })"
   ]
  },
  {
   "cell_type": "markdown",
   "metadata": {
    "id": "fAyRf7zVD3AN",
    "colab_type": "text"
   },
   "source": [
    "Visualizo los primeros datos de los dataframes cargados."
   ]
  },
  {
   "cell_type": "code",
   "execution_count": 0,
   "metadata": {
    "id": "APMmmXa-WtBj",
    "colab_type": "code",
    "outputId": "02f01103-381f-4d5a-cce0-dec040d3b43b",
    "colab": {
     "base_uri": "https://localhost:8080/",
     "height": 204.0
    }
   },
   "outputs": [
    {
     "data": {
      "text/html": [
       "<div>\n",
       "<style scoped>\n",
       "    .dataframe tbody tr th:only-of-type {\n",
       "        vertical-align: middle;\n",
       "    }\n",
       "\n",
       "    .dataframe tbody tr th {\n",
       "        vertical-align: top;\n",
       "    }\n",
       "\n",
       "    .dataframe thead th {\n",
       "        text-align: right;\n",
       "    }\n",
       "</style>\n",
       "<table border=\"1\" class=\"dataframe\">\n",
       "  <thead>\n",
       "    <tr style=\"text-align: right;\">\n",
       "      <th></th>\n",
       "      <th>index</th>\n",
       "      <th>personId</th>\n",
       "      <th>question</th>\n",
       "      <th>answer</th>\n",
       "    </tr>\n",
       "  </thead>\n",
       "  <tbody>\n",
       "    <tr>\n",
       "      <th>0</th>\n",
       "      <td>0.0</td>\n",
       "      <td>475.0</td>\n",
       "      <td>hi i'm ellie thanks for coming in today i was ...</td>\n",
       "      <td>yes</td>\n",
       "    </tr>\n",
       "    <tr>\n",
       "      <th>1</th>\n",
       "      <td>1.0</td>\n",
       "      <td>475.0</td>\n",
       "      <td>okay</td>\n",
       "      <td>nan</td>\n",
       "    </tr>\n",
       "    <tr>\n",
       "      <th>2</th>\n",
       "      <td>2.0</td>\n",
       "      <td>475.0</td>\n",
       "      <td>so how are you doing today</td>\n",
       "      <td>good thank you</td>\n",
       "    </tr>\n",
       "    <tr>\n",
       "      <th>3</th>\n",
       "      <td>3.0</td>\n",
       "      <td>475.0</td>\n",
       "      <td>that's good</td>\n",
       "      <td>nan</td>\n",
       "    </tr>\n",
       "    <tr>\n",
       "      <th>4</th>\n",
       "      <td>4.0</td>\n",
       "      <td>475.0</td>\n",
       "      <td>where are you from originally</td>\n",
       "      <td>el segundo right down the street</td>\n",
       "    </tr>\n",
       "  </tbody>\n",
       "</table>\n",
       "</div>"
      ],
      "text/plain": [
       "   index  personId                                           question  \\\n",
       "0    0.0     475.0  hi i'm ellie thanks for coming in today i was ...   \n",
       "1    1.0     475.0                                               okay   \n",
       "2    2.0     475.0                         so how are you doing today   \n",
       "3    3.0     475.0                                        that's good   \n",
       "4    4.0     475.0                      where are you from originally   \n",
       "\n",
       "                              answer  \n",
       "0                                yes  \n",
       "1                                nan  \n",
       "2                     good thank you  \n",
       "3                                nan  \n",
       "4   el segundo right down the street  "
      ]
     },
     "execution_count": 10,
     "metadata": {
      "tags": []
     },
     "output_type": "execute_result"
    }
   ],
   "source": [
    "all_participants.head()"
   ]
  },
  {
   "cell_type": "markdown",
   "metadata": {
    "id": "RpWRRu9jcm31",
    "colab_type": "text"
   },
   "source": [
    "####Analisis de datos"
   ]
  },
  {
   "cell_type": "code",
   "execution_count": 0,
   "metadata": {
    "id": "s1LGkOSAckLa",
    "colab_type": "code",
    "outputId": "28b431f2-f478-4cb8-dfc0-223d801d9ce2",
    "colab": {
     "base_uri": "https://localhost:8080/",
     "height": 347.0
    }
   },
   "outputs": [
    {
     "data": {
      "image/png": "[encoded data removed]",
      "text/plain": [
       "<matplotlib.figure.Figure at 0x7fb3b8631c18>"
      ]
     },
     "metadata": {
      "tags": []
     },
     "output_type": "display_data"
    }
   ],
   "source": [
    "ds_len = len(all_participants)\n",
    "len_answers = [len(v) for v in all_participants['answer']]\n",
    "ds_max = max(len_answers)\n",
    "ds_min = min(len_answers)\n",
    "\n",
    "stats.describe(len_answers)\n",
    "plt.hist(len_answers)\n",
    "plt.show()"
   ]
  },
  {
   "cell_type": "markdown",
   "metadata": {
    "id": "1dASiIAenIxE",
    "colab_type": "text"
   },
   "source": [
    "La mayor cantidad de frases tiene una longitud de 50 palabras"
   ]
  },
  {
   "cell_type": "markdown",
   "metadata": {
    "id": "_gYd68nzOvaC",
    "colab_type": "text"
   },
   "source": [
    "####Funciones auxiliares para procesamiento de texto"
   ]
  },
  {
   "cell_type": "markdown",
   "metadata": {
    "id": "WjhvDJXdl9Ah",
    "colab_type": "text"
   },
   "source": [
    "#####Función tomada de kaggle para limpieza de texto"
   ]
  },
  {
   "cell_type": "code",
   "execution_count": 0,
   "metadata": {
    "id": "i4pwBVnEkztS",
    "colab_type": "code",
    "colab": {}
   },
   "outputs": [],
   "source": [
    "# The function \"text_to_wordlist\" is from\n",
    "# https://www.kaggle.com/currie32/quora-question-pairs/the-importance-of-cleaning-text\n",
    "def text_to_wordlist(text, remove_stopwords=True, stem_words=False):    \n",
    "    # Clean the text, with the option to remove stopwords and to stem words.\n",
    "    \n",
    "    # Convert words to lower case and split them\n",
    "    text = text.lower().split()\n",
    "\n",
    "    # Optionally, remove stop words\n",
    "    if remove_stopwords:\n",
    "        stops = set(stopwords.words(\"english\"))\n",
    "        text = [wordnet_lemmatizer.lemmatize(w) for w in text if not w in stops ]\n",
    "        text = [w for w in text if w != \"nan\" ]\n",
    "    \n",
    "    text = \" \".join(text)\n",
    "\n",
    "    # Clean the text\n",
    "    text = re.sub(r\"[^A-Za-z0-9^,!.\\/'+-=]\", \" \", text)\n",
    "    text = re.sub(r\"what's\", \"what is \", text)\n",
    "    text = re.sub(r\"\\'s\", \" \", text)\n",
    "    text = re.sub(r\"\\'ve\", \" have \", text)\n",
    "    text = re.sub(r\"can't\", \"cannot \", text)\n",
    "    text = re.sub(r\"n't\", \" not \", text)\n",
    "    text = re.sub(r\"i'm\", \"i am \", text)\n",
    "    text = re.sub(r\"\\'re\", \" are \", text)\n",
    "    text = re.sub(r\"\\'d\", \" would \", text)\n",
    "    text = re.sub(r\"\\'ll\", \" will \", text)\n",
    "    text = re.sub(r\",\", \" \", text)\n",
    "    text = re.sub(r\"\\.\", \" \", text)\n",
    "    text = re.sub(r\"!\", \" ! \", text)\n",
    "    text = re.sub(r\"\\/\", \" \", text)\n",
    "    text = re.sub(r\"\\^\", \" ^ \", text)\n",
    "    text = re.sub(r\"\\+\", \" + \", text)\n",
    "    text = re.sub(r\"\\-\", \" - \", text)\n",
    "    text = re.sub(r\"\\=\", \" = \", text)\n",
    "    \n",
    "    text = re.sub(r\"\\<\", \" \", text)\n",
    "    text = re.sub(r\"\\>\", \" \", text)\n",
    "    \n",
    "    text = re.sub(r\"'\", \" \", text)\n",
    "    text = re.sub(r\"(\\d+)(k)\", r\"\\g<1>000\", text)\n",
    "    text = re.sub(r\":\", \" : \", text)\n",
    "    text = re.sub(r\" e g \", \" eg \", text)\n",
    "    text = re.sub(r\" b g \", \" bg \", text)\n",
    "    text = re.sub(r\" u s \", \" american \", text)\n",
    "    text = re.sub(r\"\\0s\", \"0\", text)\n",
    "    text = re.sub(r\" 9 11 \", \"911\", text)\n",
    "    text = re.sub(r\"e - mail\", \"email\", text)\n",
    "    text = re.sub(r\"j k\", \"jk\", text)\n",
    "    text = re.sub(r\"\\s{2,}\", \" \", text)\n",
    "    \n",
    "    # Optionally, shorten words to their stems\n",
    "    if stem_words:\n",
    "        text = text.split()\n",
    "        stemmer = SnowballStemmer('english')\n",
    "        stemmed_words = [stemmer.stem(word) for word in text]\n",
    "        text = \" \".join(stemmed_words)\n",
    "    \n",
    "    # Return a list of words\n",
    "    return(text)"
   ]
  },
  {
   "cell_type": "markdown",
   "metadata": {
    "id": "39fDkysCqpug",
    "colab_type": "text"
   },
   "source": [
    "Identificamos el número de palabras distintas"
   ]
  },
  {
   "cell_type": "code",
   "execution_count": 0,
   "metadata": {
    "id": "XFObPN0126sL",
    "colab_type": "code",
    "colab": {}
   },
   "outputs": [],
   "source": [
    "all_participants_mix = all_participants.copy()\n",
    "all_participants_mix['answer'] = all_participants_mix.apply(lambda row: text_to_wordlist(row.answer).split(), axis=1)"
   ]
  },
  {
   "cell_type": "code",
   "execution_count": 0,
   "metadata": {
    "id": "2F1WkFZYOGcc",
    "colab_type": "code",
    "colab": {}
   },
   "outputs": [],
   "source": [
    "words = [w for w in all_participants_mix['answer'].tolist()]\n",
    "words = set(itertools.chain(*words))\n",
    "vocab_size = len(words)"
   ]
  },
  {
   "cell_type": "markdown",
   "metadata": {
    "id": "N6aaOW8mqxGG",
    "colab_type": "text"
   },
   "source": [
    "Preprocesamos los datos de entrada:\n",
    "\n",
    "\n",
    "*   Limpieza de texto\n",
    "*   Lematización\n",
    "*   Separación en vectores\n",
    "\n"
   ]
  },
  {
   "cell_type": "code",
   "execution_count": 0,
   "metadata": {
    "id": "zJW6YW0WxwRg",
    "colab_type": "code",
    "outputId": "4514fa37-5930-47ec-c87d-68a9193ce978",
    "colab": {
     "base_uri": "https://localhost:8080/",
     "height": 204.0
    }
   },
   "outputs": [
    {
     "data": {
      "text/html": [
       "<div>\n",
       "<style scoped>\n",
       "    .dataframe tbody tr th:only-of-type {\n",
       "        vertical-align: middle;\n",
       "    }\n",
       "\n",
       "    .dataframe tbody tr th {\n",
       "        vertical-align: top;\n",
       "    }\n",
       "\n",
       "    .dataframe thead th {\n",
       "        text-align: right;\n",
       "    }\n",
       "</style>\n",
       "<table border=\"1\" class=\"dataframe\">\n",
       "  <thead>\n",
       "    <tr style=\"text-align: right;\">\n",
       "      <th></th>\n",
       "      <th>index</th>\n",
       "      <th>personId</th>\n",
       "      <th>question</th>\n",
       "      <th>answer</th>\n",
       "      <th>t_answer</th>\n",
       "    </tr>\n",
       "  </thead>\n",
       "  <tbody>\n",
       "    <tr>\n",
       "      <th>0</th>\n",
       "      <td>0.0</td>\n",
       "      <td>475.0</td>\n",
       "      <td>hi i'm ellie thanks for coming in today i was ...</td>\n",
       "      <td>[yes]</td>\n",
       "      <td>[39]</td>\n",
       "    </tr>\n",
       "    <tr>\n",
       "      <th>1</th>\n",
       "      <td>1.0</td>\n",
       "      <td>475.0</td>\n",
       "      <td>okay</td>\n",
       "      <td>[]</td>\n",
       "      <td>[]</td>\n",
       "    </tr>\n",
       "    <tr>\n",
       "      <th>2</th>\n",
       "      <td>2.0</td>\n",
       "      <td>475.0</td>\n",
       "      <td>so how are you doing today</td>\n",
       "      <td>[good, thank]</td>\n",
       "      <td>[16, 173]</td>\n",
       "    </tr>\n",
       "    <tr>\n",
       "      <th>3</th>\n",
       "      <td>3.0</td>\n",
       "      <td>475.0</td>\n",
       "      <td>that's good</td>\n",
       "      <td>[]</td>\n",
       "      <td>[]</td>\n",
       "    </tr>\n",
       "    <tr>\n",
       "      <th>4</th>\n",
       "      <td>4.0</td>\n",
       "      <td>475.0</td>\n",
       "      <td>where are you from originally</td>\n",
       "      <td>[el, segundo, right, street]</td>\n",
       "      <td>[2246, 4302, 47, 827]</td>\n",
       "    </tr>\n",
       "  </tbody>\n",
       "</table>\n",
       "</div>"
      ],
      "text/plain": [
       "   index  personId                                           question  \\\n",
       "0    0.0     475.0  hi i'm ellie thanks for coming in today i was ...   \n",
       "1    1.0     475.0                                               okay   \n",
       "2    2.0     475.0                         so how are you doing today   \n",
       "3    3.0     475.0                                        that's good   \n",
       "4    4.0     475.0                      where are you from originally   \n",
       "\n",
       "                         answer               t_answer  \n",
       "0                         [yes]                   [39]  \n",
       "1                            []                     []  \n",
       "2                 [good, thank]              [16, 173]  \n",
       "3                            []                     []  \n",
       "4  [el, segundo, right, street]  [2246, 4302, 47, 827]  "
      ]
     },
     "execution_count": 15,
     "metadata": {
      "tags": []
     },
     "output_type": "execute_result"
    }
   ],
   "source": [
    "windows_size = 10\n",
    "tokenizer = Tokenizer(num_words=vocab_size)\n",
    "tokenizer.fit_on_texts(all_participants_mix['answer'])\n",
    "tokenizer.fit_on_sequences(all_participants_mix['answer'])\n",
    "\n",
    "all_participants_mix['t_answer'] = tokenizer.texts_to_sequences(all_participants_mix['answer'])\n",
    "all_participants_mix.head()"
   ]
  },
  {
   "cell_type": "markdown",
   "metadata": {
    "id": "u47-_XmirBQr",
    "colab_type": "text"
   },
   "source": [
    "Verificamo el diccionario creado por el tokenizer"
   ]
  },
  {
   "cell_type": "code",
   "execution_count": 0,
   "metadata": {
    "id": "MWT0xDoA2pYW",
    "colab_type": "code",
    "outputId": "f2b5118d-a9e0-4bb9-a73a-a691343517e0",
    "colab": {
     "base_uri": "https://localhost:8080/",
     "height": 34.0
    }
   },
   "outputs": [
    {
     "name": "stdout",
     "output_type": "stream",
     "text": [
      "69\n"
     ]
    }
   ],
   "source": [
    "word_index = tokenizer.word_index\n",
    "word_size = len(word_index)\n",
    "print(word_index[\"happy\"])"
   ]
  },
  {
   "cell_type": "markdown",
   "metadata": {
    "id": "7b2GriAtrQk4",
    "colab_type": "text"
   },
   "source": [
    "Generamos un nuevo dataset creando vectores de las palabras tokenizadas con un tamaño de ventana de 10 palabras"
   ]
  },
  {
   "cell_type": "code",
   "execution_count": 0,
   "metadata": {
    "id": "ZNDQBi-uxzbG",
    "colab_type": "code",
    "colab": {}
   },
   "outputs": [],
   "source": [
    "windows_size = 10\n",
    "cont = 0\n",
    "word_index = tokenizer\n",
    "phrases_lp = pd.DataFrame(columns=['personId','answer', 't_answer'])\n",
    "answers = all_participants_mix.groupby('personId').agg('sum', axis=1)\n",
    "\n",
    "for p in answers.iterrows():      \n",
    "    words = p[1][\"answer\"]\n",
    "    size = len(words)\n",
    "    word_tokens = p[1][\"t_answer\"]\n",
    " \n",
    "    for i in range(size):\n",
    "        sentence = words[i:min(i+windows_size,size)]  \n",
    "        tokens = word_tokens[i:min(i+windows_size,size)]  \n",
    "        phrases_lp.loc[cont] = [p[0], sentence, tokens]\n",
    "        cont = cont + 1"
   ]
  },
  {
   "cell_type": "markdown",
   "metadata": {
    "id": "tOXd7dyvrb9O",
    "colab_type": "text"
   },
   "source": [
    "Verificamos el contenido del nuevo dataset"
   ]
  },
  {
   "cell_type": "code",
   "execution_count": 0,
   "metadata": {
    "id": "Mx5sHZp5yqs2",
    "colab_type": "code",
    "outputId": "8bb8fd7b-9e9f-43bf-8ec2-5e2da490a7ec",
    "colab": {
     "base_uri": "https://localhost:8080/",
     "height": 204.0
    }
   },
   "outputs": [
    {
     "data": {
      "text/html": [
       "<div>\n",
       "<style scoped>\n",
       "    .dataframe tbody tr th:only-of-type {\n",
       "        vertical-align: middle;\n",
       "    }\n",
       "\n",
       "    .dataframe tbody tr th {\n",
       "        vertical-align: top;\n",
       "    }\n",
       "\n",
       "    .dataframe thead th {\n",
       "        text-align: right;\n",
       "    }\n",
       "</style>\n",
       "<table border=\"1\" class=\"dataframe\">\n",
       "  <thead>\n",
       "    <tr style=\"text-align: right;\">\n",
       "      <th></th>\n",
       "      <th>personId</th>\n",
       "      <th>answer</th>\n",
       "      <th>t_answer</th>\n",
       "    </tr>\n",
       "  </thead>\n",
       "  <tbody>\n",
       "    <tr>\n",
       "      <th>0</th>\n",
       "      <td>300.0</td>\n",
       "      <td>[good, atlanta, georgia, um, parent, um, love,...</td>\n",
       "      <td>[16, 1650, 2022, 1, 131, 1, 63, 5, 143, 5]</td>\n",
       "    </tr>\n",
       "    <tr>\n",
       "      <th>1</th>\n",
       "      <td>300.0</td>\n",
       "      <td>[atlanta, georgia, um, parent, um, love, like,...</td>\n",
       "      <td>[1650, 2022, 1, 131, 1, 63, 5, 143, 5, 337]</td>\n",
       "    </tr>\n",
       "    <tr>\n",
       "      <th>2</th>\n",
       "      <td>300.0</td>\n",
       "      <td>[georgia, um, parent, um, love, like, weather,...</td>\n",
       "      <td>[2022, 1, 131, 1, 63, 5, 143, 5, 337, 1]</td>\n",
       "    </tr>\n",
       "    <tr>\n",
       "      <th>3</th>\n",
       "      <td>300.0</td>\n",
       "      <td>[um, parent, um, love, like, weather, like, op...</td>\n",
       "      <td>[1, 131, 1, 63, 5, 143, 5, 337, 1, 39]</td>\n",
       "    </tr>\n",
       "    <tr>\n",
       "      <th>4</th>\n",
       "      <td>300.0</td>\n",
       "      <td>[parent, um, love, like, weather, like, opport...</td>\n",
       "      <td>[131, 1, 63, 5, 143, 5, 337, 1, 39, 1]</td>\n",
       "    </tr>\n",
       "  </tbody>\n",
       "</table>\n",
       "</div>"
      ],
      "text/plain": [
       "   personId                                             answer  \\\n",
       "0     300.0  [good, atlanta, georgia, um, parent, um, love,...   \n",
       "1     300.0  [atlanta, georgia, um, parent, um, love, like,...   \n",
       "2     300.0  [georgia, um, parent, um, love, like, weather,...   \n",
       "3     300.0  [um, parent, um, love, like, weather, like, op...   \n",
       "4     300.0  [parent, um, love, like, weather, like, opport...   \n",
       "\n",
       "                                      t_answer  \n",
       "0   [16, 1650, 2022, 1, 131, 1, 63, 5, 143, 5]  \n",
       "1  [1650, 2022, 1, 131, 1, 63, 5, 143, 5, 337]  \n",
       "2     [2022, 1, 131, 1, 63, 5, 143, 5, 337, 1]  \n",
       "3       [1, 131, 1, 63, 5, 143, 5, 337, 1, 39]  \n",
       "4       [131, 1, 63, 5, 143, 5, 337, 1, 39, 1]  "
      ]
     },
     "execution_count": 18,
     "metadata": {
      "tags": []
     },
     "output_type": "execute_result"
    }
   ],
   "source": [
    "phrases_lp.head()"
   ]
  },
  {
   "cell_type": "markdown",
   "metadata": {
    "id": "4-sUVdlQrgeZ",
    "colab_type": "text"
   },
   "source": [
    "En caso de existir frases de dimensión menor aplicamos padding para tener vectores uniformes"
   ]
  },
  {
   "cell_type": "code",
   "execution_count": 0,
   "metadata": {
    "id": "D8FZg-N891pg",
    "colab_type": "code",
    "outputId": "d2a343dc-6740-4c74-f4c2-d108365a53d0",
    "colab": {
     "base_uri": "https://localhost:8080/",
     "height": 204.0
    }
   },
   "outputs": [
    {
     "data": {
      "text/html": [
       "<div>\n",
       "<style scoped>\n",
       "    .dataframe tbody tr th:only-of-type {\n",
       "        vertical-align: middle;\n",
       "    }\n",
       "\n",
       "    .dataframe tbody tr th {\n",
       "        vertical-align: top;\n",
       "    }\n",
       "\n",
       "    .dataframe thead th {\n",
       "        text-align: right;\n",
       "    }\n",
       "</style>\n",
       "<table border=\"1\" class=\"dataframe\">\n",
       "  <thead>\n",
       "    <tr style=\"text-align: right;\">\n",
       "      <th></th>\n",
       "      <th>personId</th>\n",
       "      <th>answer</th>\n",
       "      <th>t_answer</th>\n",
       "    </tr>\n",
       "  </thead>\n",
       "  <tbody>\n",
       "    <tr>\n",
       "      <th>0</th>\n",
       "      <td>300.0</td>\n",
       "      <td>[good, atlanta, georgia, um, parent, um, love,...</td>\n",
       "      <td>[16, 1650, 2022, 1, 131, 1, 63, 5, 143, 5]</td>\n",
       "    </tr>\n",
       "    <tr>\n",
       "      <th>1</th>\n",
       "      <td>300.0</td>\n",
       "      <td>[atlanta, georgia, um, parent, um, love, like,...</td>\n",
       "      <td>[1650, 2022, 1, 131, 1, 63, 5, 143, 5, 337]</td>\n",
       "    </tr>\n",
       "    <tr>\n",
       "      <th>2</th>\n",
       "      <td>300.0</td>\n",
       "      <td>[georgia, um, parent, um, love, like, weather,...</td>\n",
       "      <td>[2022, 1, 131, 1, 63, 5, 143, 5, 337, 1]</td>\n",
       "    </tr>\n",
       "    <tr>\n",
       "      <th>3</th>\n",
       "      <td>300.0</td>\n",
       "      <td>[um, parent, um, love, like, weather, like, op...</td>\n",
       "      <td>[1, 131, 1, 63, 5, 143, 5, 337, 1, 39]</td>\n",
       "    </tr>\n",
       "    <tr>\n",
       "      <th>4</th>\n",
       "      <td>300.0</td>\n",
       "      <td>[parent, um, love, like, weather, like, opport...</td>\n",
       "      <td>[131, 1, 63, 5, 143, 5, 337, 1, 39, 1]</td>\n",
       "    </tr>\n",
       "  </tbody>\n",
       "</table>\n",
       "</div>"
      ],
      "text/plain": [
       "   personId                                             answer  \\\n",
       "0     300.0  [good, atlanta, georgia, um, parent, um, love,...   \n",
       "1     300.0  [atlanta, georgia, um, parent, um, love, like,...   \n",
       "2     300.0  [georgia, um, parent, um, love, like, weather,...   \n",
       "3     300.0  [um, parent, um, love, like, weather, like, op...   \n",
       "4     300.0  [parent, um, love, like, weather, like, opport...   \n",
       "\n",
       "                                      t_answer  \n",
       "0   [16, 1650, 2022, 1, 131, 1, 63, 5, 143, 5]  \n",
       "1  [1650, 2022, 1, 131, 1, 63, 5, 143, 5, 337]  \n",
       "2     [2022, 1, 131, 1, 63, 5, 143, 5, 337, 1]  \n",
       "3       [1, 131, 1, 63, 5, 143, 5, 337, 1, 39]  \n",
       "4       [131, 1, 63, 5, 143, 5, 337, 1, 39, 1]  "
      ]
     },
     "execution_count": 19,
     "metadata": {
      "tags": []
     },
     "output_type": "execute_result"
    }
   ],
   "source": [
    "phrases_lp[\"t_answer\"] = pad_sequences(phrases_lp[\"t_answer\"], value=0, padding=\"post\", maxlen=windows_size).tolist()\n",
    "phrases_lp.head()"
   ]
  },
  {
   "cell_type": "markdown",
   "metadata": {
    "colab_type": "text",
    "id": "Ao0X5PZrysKO"
   },
   "source": [
    "##Carga de resultados del cuestionario PHQ8 de los participantes"
   ]
  },
  {
   "cell_type": "markdown",
   "metadata": {
    "id": "b-LGdAn1EFJg",
    "colab_type": "text"
   },
   "source": [
    "Preparo una función para cargar los archivos correspondientes a las puntuaciones de cada persona respecto al questionario PHQ8, este método categoriza la variable Score, en 5 niveles de acuerdo al rango especificado en el trabajo [Validity of a Brief Depression Severity Measure](https://www.ncbi.nlm.nih.gov/pmc/articles/PMC1495268/)"
   ]
  },
  {
   "cell_type": "code",
   "execution_count": 0,
   "metadata": {
    "id": "kaDz89vRqkCv",
    "colab_type": "code",
    "colab": {}
   },
   "outputs": [],
   "source": [
    "def load_avec_dataset_file(path, score_column):\n",
    "  ds = pd.read_csv(path, sep=',')\n",
    "  ds['level'] = pd.cut(ds[score_column], bins=[-1,0,5,10,15,25], labels=[0,1,2,3,4])\n",
    "  ds['PHQ8_Score'] = ds[score_column]\n",
    "  ds['cat_level'] = keras.utils.to_categorical(ds['level'], num_classes).tolist()\n",
    "  ds = ds[['Participant_ID', 'level', 'cat_level', 'PHQ8_Score']]\n",
    "  ds = ds.astype({\"Participant_ID\": float, \"level\": int, 'PHQ8_Score': int})\n",
    "  return ds"
   ]
  },
  {
   "cell_type": "markdown",
   "metadata": {
    "id": "beflqiqnl0y4",
    "colab_type": "text"
   },
   "source": [
    "Cargo el dataset que contiene los resultados PHQ8 de todos los participantes, los datos han sido separados en archivos correspondientes a Train, Dev y Test."
   ]
  },
  {
   "cell_type": "code",
   "execution_count": 0,
   "metadata": {
    "id": "ZECsDuehlUnt",
    "colab_type": "code",
    "outputId": "48c265da-fb03-4686-b01b-07a4dad829d6",
    "colab": {
     "base_uri": "https://localhost:8080/",
     "height": 221.0
    }
   },
   "outputs": [
    {
     "name": "stdout",
     "output_type": "stream",
     "text": [
      "Longitud: entrenamiento= 107, validacion= 35, test= 47\n"
     ]
    },
    {
     "data": {
      "text/html": [
       "<div>\n",
       "<style scoped>\n",
       "    .dataframe tbody tr th:only-of-type {\n",
       "        vertical-align: middle;\n",
       "    }\n",
       "\n",
       "    .dataframe tbody tr th {\n",
       "        vertical-align: top;\n",
       "    }\n",
       "\n",
       "    .dataframe thead th {\n",
       "        text-align: right;\n",
       "    }\n",
       "</style>\n",
       "<table border=\"1\" class=\"dataframe\">\n",
       "  <thead>\n",
       "    <tr style=\"text-align: right;\">\n",
       "      <th></th>\n",
       "      <th>Participant_ID</th>\n",
       "      <th>level</th>\n",
       "      <th>cat_level</th>\n",
       "      <th>PHQ8_Score</th>\n",
       "    </tr>\n",
       "  </thead>\n",
       "  <tbody>\n",
       "    <tr>\n",
       "      <th>0</th>\n",
       "      <td>303.0</td>\n",
       "      <td>0</td>\n",
       "      <td>[1.0, 0.0, 0.0, 0.0, 0.0]</td>\n",
       "      <td>0</td>\n",
       "    </tr>\n",
       "    <tr>\n",
       "      <th>1</th>\n",
       "      <td>304.0</td>\n",
       "      <td>2</td>\n",
       "      <td>[0.0, 0.0, 1.0, 0.0, 0.0]</td>\n",
       "      <td>6</td>\n",
       "    </tr>\n",
       "    <tr>\n",
       "      <th>2</th>\n",
       "      <td>305.0</td>\n",
       "      <td>2</td>\n",
       "      <td>[0.0, 0.0, 1.0, 0.0, 0.0]</td>\n",
       "      <td>7</td>\n",
       "    </tr>\n",
       "    <tr>\n",
       "      <th>3</th>\n",
       "      <td>310.0</td>\n",
       "      <td>1</td>\n",
       "      <td>[0.0, 1.0, 0.0, 0.0, 0.0]</td>\n",
       "      <td>4</td>\n",
       "    </tr>\n",
       "    <tr>\n",
       "      <th>4</th>\n",
       "      <td>312.0</td>\n",
       "      <td>1</td>\n",
       "      <td>[0.0, 1.0, 0.0, 0.0, 0.0]</td>\n",
       "      <td>2</td>\n",
       "    </tr>\n",
       "  </tbody>\n",
       "</table>\n",
       "</div>"
      ],
      "text/plain": [
       "   Participant_ID  level                  cat_level  PHQ8_Score\n",
       "0           303.0      0  [1.0, 0.0, 0.0, 0.0, 0.0]           0\n",
       "1           304.0      2  [0.0, 0.0, 1.0, 0.0, 0.0]           6\n",
       "2           305.0      2  [0.0, 0.0, 1.0, 0.0, 0.0]           7\n",
       "3           310.0      1  [0.0, 1.0, 0.0, 0.0, 0.0]           4\n",
       "4           312.0      1  [0.0, 1.0, 0.0, 0.0, 0.0]           2"
      ]
     },
     "execution_count": 21,
     "metadata": {
      "tags": []
     },
     "output_type": "execute_result"
    }
   ],
   "source": [
    "train = load_avec_dataset_file('/content/drive/My Drive/Colab Notebooks/train_split_Depression_AVEC2017.csv', 'PHQ8_Score')\n",
    "dev = load_avec_dataset_file('/content/drive/My Drive/Colab Notebooks/dev_split_Depression_AVEC2017.csv', 'PHQ8_Score')\n",
    "test = load_avec_dataset_file('/content/drive/My Drive/Colab Notebooks/full_test_split.csv', 'PHQ_Score')\n",
    "print(\"Longitud: entrenamiento= {}, validacion= {}, test= {}\".format(len(train), len(dev), len(test)))\n",
    "train.head()"
   ]
  },
  {
   "cell_type": "markdown",
   "metadata": {
    "id": "sQlFLh-2GNUO",
    "colab_type": "text"
   },
   "source": [
    "Fusiono los datasets en uno solo"
   ]
  },
  {
   "cell_type": "code",
   "execution_count": 0,
   "metadata": {
    "id": "Z66uyop8sQTI",
    "colab_type": "code",
    "outputId": "c4399083-f34f-4b61-ff69-b9682cd5d7a9",
    "colab": {
     "base_uri": "https://localhost:8080/",
     "height": 34.0
    }
   },
   "outputs": [
    {
     "name": "stdout",
     "output_type": "stream",
     "text": [
      "Longitud total = 189\n"
     ]
    }
   ],
   "source": [
    "ds_total = pd.concat([train,dev,test])\n",
    "total_phq8 = len(ds_total)\n",
    "print(\"Longitud total = {}\".format(total_phq8))"
   ]
  },
  {
   "cell_type": "markdown",
   "metadata": {
    "id": "xGmRLdzTP8wp",
    "colab_type": "text"
   },
   "source": [
    "##Preparación de datos para el entrenamiento"
   ]
  },
  {
   "cell_type": "code",
   "execution_count": 0,
   "metadata": {
    "id": "_AIyzl0dJ7NS",
    "colab_type": "code",
    "outputId": "339d8fe9-dc18-45d9-8953-2ed1a84599d1",
    "colab": {
     "base_uri": "https://localhost:8080/",
     "height": 347.0
    }
   },
   "outputs": [
    {
     "data": {
      "image/png": "[encoded data removed]",
      "text/plain": [
       "<matplotlib.figure.Figure at 0x7fb3af156828>"
      ]
     },
     "metadata": {
      "tags": []
     },
     "output_type": "display_data"
    }
   ],
   "source": [
    " # Generamos una gráfica con las distribuciones del conjunto de entrenamiento\n",
    "bins=[-1,0,5,10,15,25]\n",
    "plt.hist(ds_total[\"PHQ8_Score\"], rwidth=0.6, bins=5)\n",
    "plt.show()\n"
   ]
  },
  {
   "cell_type": "markdown",
   "metadata": {
    "id": "vuna6ftMN00q",
    "colab_type": "text"
   },
   "source": [
    "En la gráfica se visualiza una clara mayoria en la categoria mild cuya puntuación PHQ8 es mayor que 0 y menor que 5"
   ]
  },
  {
   "cell_type": "markdown",
   "metadata": {
    "id": "AP_MEn_eOLa6",
    "colab_type": "text"
   },
   "source": [
    "\n",
    "####separación de datasets por puntaje PHQ8"
   ]
  },
  {
   "cell_type": "markdown",
   "metadata": {
    "id": "spbabvn7r7zg",
    "colab_type": "text"
   },
   "source": [
    "Función que separa los registros del dataset acorde el nivel de ansiedad"
   ]
  },
  {
   "cell_type": "code",
   "execution_count": 0,
   "metadata": {
    "id": "sFz6a306o1L5",
    "colab_type": "code",
    "colab": {}
   },
   "outputs": [],
   "source": [
    "def split_by_phq_level(ds):\n",
    "  none_ds = ds[ds['level']==0]\n",
    "  mild_ds = ds[ds['level']==1]\n",
    "  moderate_ds = ds[ds['level']==2]\n",
    "  moderate_severe_ds = ds[ds['level']==3]\n",
    "  severe_ds = ds[ds['level']==4]\n",
    "  return (none_ds, mild_ds, moderate_ds, moderate_severe_ds, severe_ds)\n"
   ]
  },
  {
   "cell_type": "code",
   "execution_count": 0,
   "metadata": {
    "id": "PteK8Eu7suPm",
    "colab_type": "code",
    "outputId": "c3ae2586-1f0c-4140-d66a-a17176532a7d",
    "colab": {
     "base_uri": "https://localhost:8080/",
     "height": 34.0
    }
   },
   "outputs": [
    {
     "name": "stdout",
     "output_type": "stream",
     "text": [
      "Cantidad por none_ds: 26, mild_ds: 70, moderate_ds 47, moderate_severe_ds: 24, severe_ds 22\n"
     ]
    }
   ],
   "source": [
    "none_ds, mild_ds, moderate_ds, moderate_severe_ds, severe_ds = split_by_phq_level(ds_total)\n",
    "print(\"Cantidad por none_ds: {}, mild_ds: {}, moderate_ds {}, moderate_severe_ds: {}, severe_ds {}\".format(len(none_ds), len(mild_ds), len(moderate_ds), len(moderate_severe_ds), len(severe_ds)))"
   ]
  },
  {
   "cell_type": "markdown",
   "metadata": {
    "id": "BJI2UalYOcrj",
    "colab_type": "text"
   },
   "source": [
    "####Distribución balanceada de los datos del conjunto de prueba"
   ]
  },
  {
   "cell_type": "markdown",
   "metadata": {
    "id": "2xhRr5etsE2H",
    "colab_type": "text"
   },
   "source": [
    "Generamos un dataset con un número de registros balanceado entre todos los niveles de ansiedad"
   ]
  },
  {
   "cell_type": "code",
   "execution_count": 0,
   "metadata": {
    "id": "qNQgeF7jbebW",
    "colab_type": "code",
    "colab": {}
   },
   "outputs": [],
   "source": [
    "b_none_ds = ds_total[ds_total['level']==0]\n",
    "b_mild_ds = ds_total[ds_total['level']==1].sample(26)\n",
    "b_moderate_ds = ds_total[ds_total['level']==2].sample(26)\n",
    "b_moderate_severe_ds = ds_total[ds_total['level']==3]\n",
    "b_severe_ds = ds_total[ds_total['level']==4]\n",
    "\n",
    "ds_total_b = pd.concat([b_none_ds, b_mild_ds, b_moderate_ds, b_moderate_severe_ds, b_severe_ds])"
   ]
  },
  {
   "cell_type": "markdown",
   "metadata": {
    "id": "FE09DzKksRhR",
    "colab_type": "text"
   },
   "source": [
    "Fusionamos el dataset de transcripciones con los resultados del test PHQ8"
   ]
  },
  {
   "cell_type": "code",
   "execution_count": 0,
   "metadata": {
    "id": "8KzwrRZd1SyX",
    "colab_type": "code",
    "colab": {}
   },
   "outputs": [],
   "source": [
    "ds_lp = pd.merge(ds_total, phrases_lp,left_on='Participant_ID', right_on='personId')\n",
    "ds_lp_b = pd.merge(ds_total_b, phrases_lp,left_on='Participant_ID', right_on='personId')"
   ]
  },
  {
   "cell_type": "markdown",
   "metadata": {
    "id": "ifgL5JxdOlTK",
    "colab_type": "text"
   },
   "source": [
    "####método para separar unificar los data sets por niveles, y distribuirlos en conjunto de entrenamiento, validación y pruebas"
   ]
  },
  {
   "cell_type": "code",
   "execution_count": 0,
   "metadata": {
    "id": "v6i6kE4jumbS",
    "colab_type": "code",
    "colab": {}
   },
   "outputs": [],
   "source": [
    "def distribute_instances(ds):\n",
    "    ds_shuffled = ds.sample(frac=1)\n",
    "    none_ds, mild_ds, moderate_ds, moderate_severe_ds, severe_ds = split_by_phq_level(ds_shuffled)\n",
    "    split = [70,14,16]\n",
    "    eq_ds = {}\n",
    "    prev_none = prev_mild = prev_moderate = prev_moderate_severe = prev_severe = 0\n",
    "\n",
    "    for p in split:\n",
    "      last_none = min(len(none_ds), prev_none + round(len(none_ds) * p/100))\n",
    "      last_mild = min(len(mild_ds), prev_mild + round(len(mild_ds) * p/100))\n",
    "      last_moderate = min(len(moderate_ds), prev_moderate + round(len(moderate_ds) * p/100))\n",
    "      last_moderate_severe = min(len(moderate_severe_ds), prev_moderate_severe + round(len(moderate_severe_ds) * p/100))\n",
    "      last_severe = min(len(severe_ds), prev_severe + round(len(severe_ds) * p/100))  \n",
    "      eq_ds[\"d\"+str(p)] = pd.concat([none_ds[prev_none: last_none], mild_ds[prev_mild: last_mild], moderate_ds[prev_moderate: last_moderate], moderate_severe_ds[prev_moderate_severe: last_moderate_severe], severe_ds[prev_severe: last_severe]])\n",
    "      prev_none = last_none\n",
    "      prev_mild = last_mild\n",
    "      prev_moderate = last_moderate\n",
    "      prev_moderate_severe = last_moderate_severe\n",
    "      prev_severe = last_severe  \n",
    "    return (eq_ds[\"d70\"], eq_ds[\"d14\"], eq_ds[\"d16\"])"
   ]
  },
  {
   "cell_type": "markdown",
   "metadata": {
    "id": "OkIcB-zSsfXQ",
    "colab_type": "text"
   },
   "source": [
    "Generación de conjuntos de entrenamiento, validación y prueba"
   ]
  },
  {
   "cell_type": "code",
   "execution_count": 0,
   "metadata": {
    "id": "BrlTUKFk1YjW",
    "colab_type": "code",
    "colab": {}
   },
   "outputs": [],
   "source": [
    "train_lp, dev_lp, test_lp = distribute_instances(ds_lp)\n",
    "train_lp_b, dev_lp_b, test_lp_b = distribute_instances(ds_lp_b)"
   ]
  },
  {
   "cell_type": "markdown",
   "metadata": {
    "id": "_DRL2akPmynC",
    "colab_type": "text"
   },
   "source": [
    "##Entrenamiento"
   ]
  },
  {
   "cell_type": "markdown",
   "metadata": {
    "id": "u-n0fZGCskqO",
    "colab_type": "text"
   },
   "source": [
    "Función auxiliar para la generación de la matriz de confusión"
   ]
  },
  {
   "cell_type": "code",
   "execution_count": 0,
   "metadata": {
    "id": "V7msqzlwujrc",
    "colab_type": "code",
    "colab": {}
   },
   "outputs": [],
   "source": [
    "def test_model(text, model):\n",
    "  print(text)\n",
    "  word_list = text_to_wordlist(text)\n",
    "  sequences = tokenizer.texts_to_sequences([word_list])\n",
    "  sequences_input = list(itertools.chain(*sequences))\n",
    "  sequences_input =  pad_sequences([sequences_input], value=0, padding=\"post\", maxlen=windows_size).tolist()\n",
    "  input_a = np.asarray(sequences_input)\n",
    "  pred = model.predict(input_a, batch_size=None, verbose=0, steps=None)\n",
    "  print(pred)\n",
    "  predicted_class = np.argmax(pred)\n",
    "  print(labels[predicted_class])"
   ]
  },
  {
   "cell_type": "code",
   "execution_count": 0,
   "metadata": {
    "id": "PJB1rHgttfnM",
    "colab_type": "code",
    "colab": {}
   },
   "outputs": [],
   "source": [
    "def confusion_matrix(model, x, y):\n",
    "  prediction = model.predict(x, batch_size=None, verbose=0, steps=None)\n",
    "  labels=['none','mild','moderate','moderately severe', 'severe']\n",
    "\n",
    "  max_prediction = np.argmax(prediction, axis=1)\n",
    "  max_actual = np.argmax(y, axis=1)\n",
    "\n",
    "  y_pred = pd.Categorical.from_codes(max_prediction, labels)\n",
    "  y_actu = pd.Categorical.from_codes(max_actual, labels)\n",
    "\n",
    "  return pd.crosstab(y_actu, y_pred)\n",
    "  "
   ]
  },
  {
   "cell_type": "markdown",
   "metadata": {
    "id": "fEabb04LPU5K",
    "colab_type": "text"
   },
   "source": [
    "####Modelo 1"
   ]
  },
  {
   "cell_type": "markdown",
   "metadata": {
    "id": "vpOJgqqyHbIq",
    "colab_type": "text"
   },
   "source": [
    "El primer modelo utiliza el modelo pre entrenado GLObalVEctor que consiste en vectores de 100 elementos que caracterizan para palabra del modelo"
   ]
  },
  {
   "cell_type": "markdown",
   "metadata": {
    "id": "UCEs0ofss7LE",
    "colab_type": "text"
   },
   "source": [
    "Cargamos los embeddings del modelo glove"
   ]
  },
  {
   "cell_type": "code",
   "execution_count": 0,
   "metadata": {
    "id": "8ghzHW1-BerH",
    "colab_type": "code",
    "colab": {}
   },
   "outputs": [],
   "source": [
    "embeddings_index = dict()\n",
    "f = open('/content/drive/My Drive/Colab Notebooks/glove.6B.100d.txt')\n",
    "for line in f:\n",
    "\tvalues = line.split()\n",
    "\tword = values[0]\n",
    "\tcoefs = np.asarray(values[1:], dtype='float32')\n",
    "\tembeddings_index[word] = coefs\n",
    "f.close()"
   ]
  },
  {
   "cell_type": "markdown",
   "metadata": {
    "id": "mInBpIv8tNcy",
    "colab_type": "text"
   },
   "source": [
    "Función que genera la matriz de embedding que se utilizará en el entrenamiento del modelo"
   ]
  },
  {
   "cell_type": "code",
   "execution_count": 0,
   "metadata": {
    "id": "4S1m8ubOBmQn",
    "colab_type": "code",
    "colab": {}
   },
   "outputs": [],
   "source": [
    "def fill_embedding_matrix(tokenizer):\n",
    "  vocab_size = len(tokenizer.word_index)\n",
    "  embedding_matrix = np.zeros((vocab_size+1, 100))\n",
    "  for word, i in tokenizer.word_index.items():\n",
    "    embedding_vector = embeddings_index.get(word)\n",
    "    if embedding_vector is not None:        \n",
    "      embedding_matrix[i] = embedding_vector\n",
    "  return embedding_matrix"
   ]
  },
  {
   "cell_type": "markdown",
   "metadata": {
    "id": "pFVzrJXvtW3e",
    "colab_type": "text"
   },
   "source": [
    "Generamos la matriz para el tokenizer utilizado para generar el dataset de entrenamiento"
   ]
  },
  {
   "cell_type": "code",
   "execution_count": 0,
   "metadata": {
    "id": "sfVGBc3qo3kj",
    "colab_type": "code",
    "colab": {}
   },
   "outputs": [],
   "source": [
    "vocab_size = len(tokenizer.word_index)\n",
    "embedding_matrix_lp = fill_embedding_matrix(tokenizer)"
   ]
  },
  {
   "cell_type": "markdown",
   "metadata": {
    "id": "TaihTt1Ati7Q",
    "colab_type": "text"
   },
   "source": [
    "Preparamos los arrays de entrada al modelo"
   ]
  },
  {
   "cell_type": "code",
   "execution_count": 0,
   "metadata": {
    "id": "I1vrHZcx9Su4",
    "colab_type": "code",
    "colab": {}
   },
   "outputs": [],
   "source": [
    "early_stopping = EarlyStopping(monitor='val_loss', patience=3)\n",
    "train_a = np.stack(train_lp['t_answer'], axis=0)\n",
    "dev_a = np.stack(dev_lp['t_answer'], axis=0)\n",
    "train_y = np.stack(train_lp['cat_level'], axis=0)\n",
    "dev_y = np.stack(dev_lp['cat_level'], axis=0)"
   ]
  },
  {
   "cell_type": "markdown",
   "metadata": {
    "id": "o9_t5O-vtpgU",
    "colab_type": "text"
   },
   "source": [
    "Verificamos las dimensiones de las entradas del modelo"
   ]
  },
  {
   "cell_type": "code",
   "execution_count": 0,
   "metadata": {
    "id": "IgEMjMqasT61",
    "colab_type": "code",
    "outputId": "59cbef37-27f8-4b57-c6e8-d0ba87dc38e1",
    "colab": {
     "base_uri": "https://localhost:8080/",
     "height": 68.0
    }
   },
   "outputs": [
    {
     "name": "stdout",
     "output_type": "stream",
     "text": [
      "(7374, 100)\n",
      "7373\n",
      "10\n"
     ]
    }
   ],
   "source": [
    "print(embedding_matrix_lp.shape)\n",
    "print(vocab_size)\n",
    "print(windows_size)"
   ]
  },
  {
   "cell_type": "markdown",
   "metadata": {
    "id": "mKKJvSqltvrG",
    "colab_type": "text"
   },
   "source": [
    "### Definición del modelo"
   ]
  },
  {
   "cell_type": "markdown",
   "metadata": {
    "id": "dx4I9Ti7t2Ru",
    "colab_type": "text"
   },
   "source": [
    "Generamos un modelo de embedding con LSTM, dos capas densas intermedias y una capa de salida softmax"
   ]
  },
  {
   "cell_type": "code",
   "execution_count": 0,
   "metadata": {
    "id": "A7JoZ_JurmNT",
    "colab_type": "code",
    "outputId": "32f6f87d-5806-4af8-c651-71c874204b69",
    "colab": {
     "base_uri": "https://localhost:8080/",
     "height": 408.0
    }
   },
   "outputs": [
    {
     "name": "stdout",
     "output_type": "stream",
     "text": [
      "_________________________________________________________________\n",
      "Layer (type)                 Output Shape              Param #   \n",
      "=================================================================\n",
      "input_1 (InputLayer)         (None, 10)                0         \n",
      "_________________________________________________________________\n",
      "embedding_1 (Embedding)      (None, 10, 100)           737400    \n",
      "_________________________________________________________________\n",
      "batch_normalization_1 (Batch (None, 10, 100)           400       \n",
      "_________________________________________________________________\n",
      "lstm_1 (LSTM)                (None, 10, 100)           80400     \n",
      "_________________________________________________________________\n",
      "dense_1 (Dense)              (None, 10, 256)           25856     \n",
      "_________________________________________________________________\n",
      "dense_2 (Dense)              (None, 10, 256)           65792     \n",
      "_________________________________________________________________\n",
      "flatten_1 (Flatten)          (None, 2560)              0         \n",
      "_________________________________________________________________\n",
      "dense_3 (Dense)              (None, 5)                 12805     \n",
      "=================================================================\n",
      "Total params: 922,653\n",
      "Trainable params: 185,053\n",
      "Non-trainable params: 737,600\n",
      "_________________________________________________________________\n"
     ]
    }
   ],
   "source": [
    "answer_inp = Input(shape=(windows_size, ))\n",
    "embedding_size_glove = 100\n",
    "answer_emb1 = Embedding(vocab_size+1, embedding_size_glove, weights=[embedding_matrix_lp], input_length=windows_size, trainable=False)(answer_inp)\n",
    "\n",
    "bt = BatchNormalization()(answer_emb1)\n",
    "lstm = LSTM(embedding_size_glove, return_sequences=True, dropout=0.2, recurrent_dropout=0.2)(bt)\n",
    "\n",
    "dense1 = Dense(units=256, activation=\"relu\")(lstm)\n",
    "dense2 = Dense(units=256, activation=\"relu\")(dense1)\n",
    "\n",
    "flatten = Flatten()(dense2)\n",
    "\n",
    "out = Dense(5,  activation='softmax')(flatten)\n",
    "\n",
    "model = Model(inputs=[answer_inp], outputs=[out])\n",
    "model.compile(optimizer=\"adam\", loss='categorical_crossentropy', metrics=['accuracy'])\n",
    "model.summary()"
   ]
  },
  {
   "cell_type": "markdown",
   "metadata": {
    "id": "-SXB8trcuJqO",
    "colab_type": "text"
   },
   "source": [
    "Entrenamiento del modelo"
   ]
  },
  {
   "cell_type": "code",
   "execution_count": 0,
   "metadata": {
    "id": "sgLgIZBDrkJu",
    "colab_type": "code",
    "outputId": "f79dcf47-24a4-43ce-d505-4ba7eef2a368",
    "colab": {
     "base_uri": "https://localhost:8080/",
     "height": 1054.0
    }
   },
   "outputs": [
    {
     "name": "stdout",
     "output_type": "stream",
     "text": [
      "Train on 99969 samples, validate on 19993 samples\n",
      "Epoch 1/30\n",
      "99969/99969 [==============================] - 71s 707us/step - loss: 1.4421 - acc: 0.3789 - val_loss: 1.3245 - val_acc: 0.4432\n",
      "Epoch 2/30\n",
      "99969/99969 [==============================] - 68s 684us/step - loss: 1.2629 - acc: 0.4732 - val_loss: 1.1118 - val_acc: 0.5548\n",
      "Epoch 3/30\n",
      "99969/99969 [==============================] - 69s 690us/step - loss: 1.1048 - acc: 0.5498 - val_loss: 0.9342 - val_acc: 0.6322\n",
      "Epoch 4/30\n",
      "99969/99969 [==============================] - 68s 684us/step - loss: 0.9946 - acc: 0.6031 - val_loss: 0.8174 - val_acc: 0.6834\n",
      "Epoch 5/30\n",
      "99969/99969 [==============================] - 69s 686us/step - loss: 0.9231 - acc: 0.6335 - val_loss: 0.7287 - val_acc: 0.7247\n",
      "Epoch 6/30\n",
      "99969/99969 [==============================] - 68s 685us/step - loss: 0.8561 - acc: 0.6621 - val_loss: 0.6669 - val_acc: 0.7566\n",
      "Epoch 7/30\n",
      "99969/99969 [==============================] - 69s 688us/step - loss: 0.8038 - acc: 0.6875 - val_loss: 0.6147 - val_acc: 0.7743\n",
      "Epoch 8/30\n",
      "99969/99969 [==============================] - 69s 685us/step - loss: 0.7586 - acc: 0.7061 - val_loss: 0.5628 - val_acc: 0.7966\n",
      "Epoch 9/30\n",
      "99969/99969 [==============================] - 67s 669us/step - loss: 0.7227 - acc: 0.7212 - val_loss: 0.5069 - val_acc: 0.8160\n",
      "Epoch 10/30\n",
      "99969/99969 [==============================] - 69s 687us/step - loss: 0.6900 - acc: 0.7347 - val_loss: 0.5047 - val_acc: 0.8153\n",
      "Epoch 11/30\n",
      "99969/99969 [==============================] - 69s 686us/step - loss: 0.6632 - acc: 0.7474 - val_loss: 0.4470 - val_acc: 0.8416\n",
      "Epoch 12/30\n",
      "99969/99969 [==============================] - 65s 651us/step - loss: 0.6293 - acc: 0.7601 - val_loss: 0.4183 - val_acc: 0.8520\n",
      "Epoch 13/30\n",
      "99969/99969 [==============================] - 65s 650us/step - loss: 0.6100 - acc: 0.7676 - val_loss: 0.3853 - val_acc: 0.8664\n",
      "Epoch 14/30\n",
      "99969/99969 [==============================] - 65s 648us/step - loss: 0.5949 - acc: 0.7740 - val_loss: 0.3626 - val_acc: 0.8734\n",
      "Epoch 15/30\n",
      "99969/99969 [==============================] - 66s 664us/step - loss: 0.5662 - acc: 0.7877 - val_loss: 0.3496 - val_acc: 0.8783\n",
      "Epoch 16/30\n",
      "99969/99969 [==============================] - 66s 665us/step - loss: 0.5507 - acc: 0.7919 - val_loss: 0.3206 - val_acc: 0.8915\n",
      "Epoch 17/30\n",
      "99969/99969 [==============================] - 67s 668us/step - loss: 0.5351 - acc: 0.7985 - val_loss: 0.3196 - val_acc: 0.8893\n",
      "Epoch 18/30\n",
      "99969/99969 [==============================] - 67s 667us/step - loss: 0.5158 - acc: 0.8063 - val_loss: 0.2998 - val_acc: 0.8969\n",
      "Epoch 19/30\n",
      "99969/99969 [==============================] - 67s 668us/step - loss: 0.5044 - acc: 0.8116 - val_loss: 0.2919 - val_acc: 0.9013\n",
      "Epoch 20/30\n",
      "99969/99969 [==============================] - 66s 665us/step - loss: 0.4893 - acc: 0.8181 - val_loss: 0.2816 - val_acc: 0.9040\n",
      "Epoch 21/30\n",
      "99969/99969 [==============================] - 67s 668us/step - loss: 0.4771 - acc: 0.8230 - val_loss: 0.2668 - val_acc: 0.9091\n",
      "Epoch 22/30\n",
      "99969/99969 [==============================] - 67s 667us/step - loss: 0.4644 - acc: 0.8260 - val_loss: 0.2455 - val_acc: 0.9206\n",
      "Epoch 23/30\n",
      "99969/99969 [==============================] - 67s 670us/step - loss: 0.4549 - acc: 0.8310 - val_loss: 0.2325 - val_acc: 0.9218\n",
      "Epoch 24/30\n",
      "99969/99969 [==============================] - 65s 654us/step - loss: 0.4359 - acc: 0.8386 - val_loss: 0.2270 - val_acc: 0.9250\n",
      "Epoch 25/30\n",
      "99969/99969 [==============================] - 66s 658us/step - loss: 0.4334 - acc: 0.8398 - val_loss: 0.2226 - val_acc: 0.9253\n",
      "Epoch 26/30\n",
      "99969/99969 [==============================] - 67s 665us/step - loss: 0.4267 - acc: 0.8425 - val_loss: 0.2113 - val_acc: 0.9288\n",
      "Epoch 27/30\n",
      "99969/99969 [==============================] - 67s 669us/step - loss: 0.4026 - acc: 0.8501 - val_loss: 0.2171 - val_acc: 0.9242\n",
      "Epoch 28/30\n",
      "99969/99969 [==============================] - 73s 733us/step - loss: 0.4101 - acc: 0.8477 - val_loss: 0.1953 - val_acc: 0.9356\n",
      "Epoch 29/30\n",
      "99969/99969 [==============================] - 69s 688us/step - loss: 0.3961 - acc: 0.8539 - val_loss: 0.2063 - val_acc: 0.9300\n",
      "Epoch 30/30\n",
      "99969/99969 [==============================] - 69s 686us/step - loss: 0.3881 - acc: 0.8565 - val_loss: 0.1954 - val_acc: 0.9338\n"
     ]
    }
   ],
   "source": [
    "model_glove_hist = model.fit([train_a], train_y, \\\n",
    "        validation_data=([dev_a], dev_y), \\\n",
    "        epochs=30, batch_size=64, shuffle=True, \\\n",
    "         callbacks=[early_stopping])"
   ]
  },
  {
   "cell_type": "markdown",
   "metadata": {
    "id": "mtQWmuojuS1l",
    "colab_type": "text"
   },
   "source": [
    "Revisión de la evolución de las funciones de pérdida y la precisión del modelo"
   ]
  },
  {
   "cell_type": "code",
   "execution_count": 0,
   "metadata": {
    "id": "I7PAI9VOuaXW",
    "colab_type": "code",
    "outputId": "e2b64590-600b-425d-de7e-da6689ed59d7",
    "colab": {
     "base_uri": "https://localhost:8080/",
     "height": 735.0
    }
   },
   "outputs": [
    {
     "data": {
      "image/png": "[encoded data removed]",
      "text/plain": [
       "<matplotlib.figure.Figure at 0x7fb3ac251a58>"
      ]
     },
     "metadata": {
      "tags": []
     },
     "output_type": "display_data"
    },
    {
     "data": {
      "image/png": "[encoded data removed]",
      "text/plain": [
       "<matplotlib.figure.Figure at 0x7fb3ac251ba8>"
      ]
     },
     "metadata": {
      "tags": []
     },
     "output_type": "display_data"
    }
   ],
   "source": [
    "plot_loss(model_glove_hist)\n",
    "plot_acc(model_glove_hist)"
   ]
  },
  {
   "cell_type": "markdown",
   "metadata": {
    "id": "wi8aWyeuuPHO",
    "colab_type": "text"
   },
   "source": [
    "Generación de la matriz de confusión para los datos de prueba"
   ]
  },
  {
   "cell_type": "code",
   "execution_count": 45,
   "metadata": {
    "id": "bX8NnL6xuPtf",
    "colab_type": "code",
    "outputId": "d308442f-372d-4bfc-c8db-79ce653a1918",
    "colab": {
     "base_uri": "https://localhost:8080/",
     "height": 235.0
    }
   },
   "outputs": [
    {
     "data": {
      "text/html": [
       "<div>\n",
       "<style scoped>\n",
       "    .dataframe tbody tr th:only-of-type {\n",
       "        vertical-align: middle;\n",
       "    }\n",
       "\n",
       "    .dataframe tbody tr th {\n",
       "        vertical-align: top;\n",
       "    }\n",
       "\n",
       "    .dataframe thead th {\n",
       "        text-align: right;\n",
       "    }\n",
       "</style>\n",
       "<table border=\"1\" class=\"dataframe\">\n",
       "  <thead>\n",
       "    <tr style=\"text-align: right;\">\n",
       "      <th>col_0</th>\n",
       "      <th>none</th>\n",
       "      <th>mild</th>\n",
       "      <th>moderate</th>\n",
       "      <th>moderately severe</th>\n",
       "      <th>severe</th>\n",
       "    </tr>\n",
       "    <tr>\n",
       "      <th>row_0</th>\n",
       "      <th></th>\n",
       "      <th></th>\n",
       "      <th></th>\n",
       "      <th></th>\n",
       "      <th></th>\n",
       "    </tr>\n",
       "  </thead>\n",
       "  <tbody>\n",
       "    <tr>\n",
       "      <th>none</th>\n",
       "      <td>3298</td>\n",
       "      <td>128</td>\n",
       "      <td>47</td>\n",
       "      <td>96</td>\n",
       "      <td>24</td>\n",
       "    </tr>\n",
       "    <tr>\n",
       "      <th>mild</th>\n",
       "      <td>72</td>\n",
       "      <td>7390</td>\n",
       "      <td>160</td>\n",
       "      <td>161</td>\n",
       "      <td>49</td>\n",
       "    </tr>\n",
       "    <tr>\n",
       "      <th>moderate</th>\n",
       "      <td>77</td>\n",
       "      <td>176</td>\n",
       "      <td>5735</td>\n",
       "      <td>151</td>\n",
       "      <td>21</td>\n",
       "    </tr>\n",
       "    <tr>\n",
       "      <th>moderately severe</th>\n",
       "      <td>9</td>\n",
       "      <td>41</td>\n",
       "      <td>23</td>\n",
       "      <td>2764</td>\n",
       "      <td>6</td>\n",
       "    </tr>\n",
       "    <tr>\n",
       "      <th>severe</th>\n",
       "      <td>21</td>\n",
       "      <td>75</td>\n",
       "      <td>45</td>\n",
       "      <td>70</td>\n",
       "      <td>2210</td>\n",
       "    </tr>\n",
       "  </tbody>\n",
       "</table>\n",
       "</div>"
      ],
      "text/plain": [
       "col_0              none  mild  moderate  moderately severe  severe\n",
       "row_0                                                             \n",
       "none               3298   128        47                 96      24\n",
       "mild                 72  7390       160                161      49\n",
       "moderate             77   176      5735                151      21\n",
       "moderately severe     9    41        23               2764       6\n",
       "severe               21    75        45                 70    2210"
      ]
     },
     "execution_count": 45,
     "metadata": {
      "tags": []
     },
     "output_type": "execute_result"
    }
   ],
   "source": [
    "test_a = np.stack(test_lp['t_answer'], axis=0)\n",
    "test_y = np.stack(test_lp['cat_level'], axis=0)\n",
    "df_confusion = confusion_matrix(model, test_a, test_y)\n",
    "df_confusion"
   ]
  },
  {
   "cell_type": "code",
   "execution_count": 44,
   "metadata": {
    "id": "6xt7iRZ2O7g8",
    "colab_type": "code",
    "outputId": "06346938-d168-4d77-c47b-5a83bd65737b",
    "colab": {
     "base_uri": "https://localhost:8080/",
     "height": 51.0
    }
   },
   "outputs": [
    {
     "name": "stdout",
     "output_type": "stream",
     "text": [
      "Test loss: 0.19361946122722712\n",
      "Test accuracy: 0.936452361153661\n"
     ]
    }
   ],
   "source": [
    "score = model.evaluate(test_a, test_y, verbose=0)\n",
    "print('Test loss:', score[0])\n",
    "print('Test accuracy:', score[1])"
   ]
  },
  {
   "cell_type": "code",
   "execution_count": 0,
   "metadata": {
    "id": "4Ft_-EDBRrfO",
    "colab_type": "code",
    "outputId": "6476709d-c34c-4b15-95b6-e5a24da34e33",
    "colab": {
     "base_uri": "https://localhost:8080/",
     "height": 221.0
    }
   },
   "outputs": [
    {
     "name": "stdout",
     "output_type": "stream",
     "text": [
      "All is going right with the party, I'm happy to know new people\n",
      "[[0.69936794 0.1169407  0.17538027 0.00344947 0.00486151]]\n",
      "none\n",
      "I want an ice cream and have some fries for lunch\n",
      "[[6.8399517e-05 9.9647409e-01 3.4284564e-03 1.4328405e-05 1.4767187e-05]]\n",
      "mild\n",
      "I'm afraid of lose my work, I don't have any money\n",
      "[[0.00329119 0.146804   0.18678905 0.06857509 0.59454066]]\n",
      "severe\n",
      "I'm worried about my future, I'm afroid of it\n",
      "[[0.02175163 0.03142028 0.39687786 0.47654995 0.07340028]]\n",
      "moderately severe\n"
     ]
    }
   ],
   "source": [
    "sen = \"All is going right with the party, I'm happy to know new people\"\n",
    "test_model(sen, model)\n",
    "sen = \"I want an ice cream and have some fries for lunch\"\n",
    "test_model(sen, model)\n",
    "sen = \"I'm afraid of lose my work, I don't have any money\"\n",
    "test_model(sen, model)\n",
    "sen = \"I'm worried about my future, I'm afroid of it\"\n",
    "test_model(sen, model)"
   ]
  },
  {
   "cell_type": "code",
   "execution_count": 0,
   "metadata": {
    "id": "qwgfCRtpQBXY",
    "colab_type": "code",
    "colab": {}
   },
   "outputs": [],
   "source": [
    "early_stopping = EarlyStopping(monitor='val_loss', patience=3)\n",
    "train_b_a = np.stack(train_lp_b['t_answer'], axis=0)\n",
    "dev_b_a = np.stack(dev_lp_b['t_answer'], axis=0)\n",
    "train_b_y = np.stack(train_lp_b['cat_level'], axis=0)\n",
    "dev_b_y = np.stack(dev_lp_b['cat_level'], axis=0)\n"
   ]
  },
  {
   "cell_type": "code",
   "execution_count": 47,
   "metadata": {
    "id": "pa-Vng-IQScA",
    "colab_type": "code",
    "outputId": "0150e8fa-f7d9-4bb1-ac05-43456f970ba4",
    "colab": {
     "base_uri": "https://localhost:8080/",
     "height": 510.0
    }
   },
   "outputs": [
    {
     "name": "stdout",
     "output_type": "stream",
     "text": [
      "Train on 64178 samples, validate on 12835 samples\n",
      "Epoch 1/30\n",
      "64178/64178 [==============================] - 43s 674us/step - loss: 0.4125 - acc: 0.8497 - val_loss: 0.0963 - val_acc: 0.9730\n",
      "Epoch 2/30\n",
      "64178/64178 [==============================] - 44s 679us/step - loss: 0.3488 - acc: 0.8742 - val_loss: 0.0760 - val_acc: 0.9804\n",
      "Epoch 3/30\n",
      "64178/64178 [==============================] - 44s 679us/step - loss: 0.3245 - acc: 0.8835 - val_loss: 0.0739 - val_acc: 0.9797\n",
      "Epoch 4/30\n",
      "64178/64178 [==============================] - 44s 679us/step - loss: 0.3035 - acc: 0.8903 - val_loss: 0.0717 - val_acc: 0.9789\n",
      "Epoch 5/30\n",
      "64178/64178 [==============================] - 43s 675us/step - loss: 0.2911 - acc: 0.8952 - val_loss: 0.0692 - val_acc: 0.9792\n",
      "Epoch 6/30\n",
      "64178/64178 [==============================] - 43s 675us/step - loss: 0.2768 - acc: 0.8991 - val_loss: 0.0637 - val_acc: 0.9815\n",
      "Epoch 7/30\n",
      "64178/64178 [==============================] - 43s 676us/step - loss: 0.2704 - acc: 0.9033 - val_loss: 0.0672 - val_acc: 0.9787\n",
      "Epoch 8/30\n",
      "64178/64178 [==============================] - 43s 672us/step - loss: 0.2576 - acc: 0.9078 - val_loss: 0.0599 - val_acc: 0.9807\n",
      "Epoch 9/30\n",
      "64178/64178 [==============================] - 43s 673us/step - loss: 0.2490 - acc: 0.9100 - val_loss: 0.0538 - val_acc: 0.9850\n",
      "Epoch 10/30\n",
      "64178/64178 [==============================] - 43s 677us/step - loss: 0.2446 - acc: 0.9134 - val_loss: 0.0574 - val_acc: 0.9839\n",
      "Epoch 11/30\n",
      "64178/64178 [==============================] - 43s 674us/step - loss: 0.2405 - acc: 0.9136 - val_loss: 0.0509 - val_acc: 0.9861\n",
      "Epoch 12/30\n",
      "64178/64178 [==============================] - 43s 672us/step - loss: 0.2199 - acc: 0.9220 - val_loss: 0.0581 - val_acc: 0.9808\n",
      "Epoch 13/30\n",
      "64178/64178 [==============================] - 43s 675us/step - loss: 0.2219 - acc: 0.9213 - val_loss: 0.0531 - val_acc: 0.9829\n",
      "Epoch 14/30\n",
      "64178/64178 [==============================] - 44s 679us/step - loss: 0.2207 - acc: 0.9214 - val_loss: 0.0552 - val_acc: 0.9826\n"
     ]
    }
   ],
   "source": [
    "model_glove_hist = model.fit([train_b_a], train_b_y, \\\n",
    "        validation_data=([dev_b_a], dev_b_y), \\\n",
    "        epochs=30, batch_size=64, shuffle=True, \\\n",
    "         callbacks=[early_stopping])"
   ]
  },
  {
   "cell_type": "code",
   "execution_count": 48,
   "metadata": {
    "id": "a4XJnc8eVTzh",
    "colab_type": "code",
    "outputId": "1f77e517-dbbe-435e-b13d-998e955a5861",
    "colab": {
     "base_uri": "https://localhost:8080/",
     "height": 735.0
    }
   },
   "outputs": [
    {
     "data": {
      "image/png": "[encoded data removed]",
      "text/plain": [
       "<matplotlib.figure.Figure at 0x7fb3a21b1f28>"
      ]
     },
     "metadata": {
      "tags": []
     },
     "output_type": "display_data"
    },
    {
     "data": {
      "image/png": "[encoded data removed]",
      "text/plain": [
       "<matplotlib.figure.Figure at 0x7fb3a1777668>"
      ]
     },
     "metadata": {
      "tags": []
     },
     "output_type": "display_data"
    }
   ],
   "source": [
    "plot_loss(model_glove_hist)\n",
    "plot_acc(model_glove_hist)"
   ]
  },
  {
   "cell_type": "code",
   "execution_count": 50,
   "metadata": {
    "id": "1HJbQmbJKPlx",
    "colab_type": "code",
    "colab": {
     "base_uri": "https://localhost:8080/",
     "height": 51.0
    },
    "outputId": "d1a7ca5b-72db-45ee-ec85-a98803431933"
   },
   "outputs": [
    {
     "name": "stdout",
     "output_type": "stream",
     "text": [
      "Test loss: 0.055366958752652934\n",
      "Test accuracy: 0.9832287973820562\n"
     ]
    }
   ],
   "source": [
    "score = model.evaluate(test_a, test_y, verbose=0)\n",
    "print('Test loss:', score[0])\n",
    "print('Test accuracy:', score[1])"
   ]
  },
  {
   "cell_type": "code",
   "execution_count": 49,
   "metadata": {
    "id": "wcYl9fPiS1EE",
    "colab_type": "code",
    "outputId": "92b45055-2d82-435a-d613-932167eddd3c",
    "colab": {
     "base_uri": "https://localhost:8080/",
     "height": 235.0
    }
   },
   "outputs": [
    {
     "data": {
      "text/html": [
       "<div>\n",
       "<style scoped>\n",
       "    .dataframe tbody tr th:only-of-type {\n",
       "        vertical-align: middle;\n",
       "    }\n",
       "\n",
       "    .dataframe tbody tr th {\n",
       "        vertical-align: top;\n",
       "    }\n",
       "\n",
       "    .dataframe thead th {\n",
       "        text-align: right;\n",
       "    }\n",
       "</style>\n",
       "<table border=\"1\" class=\"dataframe\">\n",
       "  <thead>\n",
       "    <tr style=\"text-align: right;\">\n",
       "      <th>col_0</th>\n",
       "      <th>none</th>\n",
       "      <th>mild</th>\n",
       "      <th>moderate</th>\n",
       "      <th>moderately severe</th>\n",
       "      <th>severe</th>\n",
       "    </tr>\n",
       "    <tr>\n",
       "      <th>row_0</th>\n",
       "      <th></th>\n",
       "      <th></th>\n",
       "      <th></th>\n",
       "      <th></th>\n",
       "      <th></th>\n",
       "    </tr>\n",
       "  </thead>\n",
       "  <tbody>\n",
       "    <tr>\n",
       "      <th>none</th>\n",
       "      <td>3501</td>\n",
       "      <td>28</td>\n",
       "      <td>16</td>\n",
       "      <td>37</td>\n",
       "      <td>11</td>\n",
       "    </tr>\n",
       "    <tr>\n",
       "      <th>mild</th>\n",
       "      <td>1</td>\n",
       "      <td>2825</td>\n",
       "      <td>7</td>\n",
       "      <td>13</td>\n",
       "      <td>6</td>\n",
       "    </tr>\n",
       "    <tr>\n",
       "      <th>moderate</th>\n",
       "      <td>8</td>\n",
       "      <td>24</td>\n",
       "      <td>2895</td>\n",
       "      <td>18</td>\n",
       "      <td>14</td>\n",
       "    </tr>\n",
       "    <tr>\n",
       "      <th>moderately severe</th>\n",
       "      <td>5</td>\n",
       "      <td>7</td>\n",
       "      <td>8</td>\n",
       "      <td>2816</td>\n",
       "      <td>7</td>\n",
       "    </tr>\n",
       "    <tr>\n",
       "      <th>severe</th>\n",
       "      <td>8</td>\n",
       "      <td>16</td>\n",
       "      <td>7</td>\n",
       "      <td>5</td>\n",
       "      <td>2385</td>\n",
       "    </tr>\n",
       "  </tbody>\n",
       "</table>\n",
       "</div>"
      ],
      "text/plain": [
       "col_0              none  mild  moderate  moderately severe  severe\n",
       "row_0                                                             \n",
       "none               3501    28        16                 37      11\n",
       "mild                  1  2825         7                 13       6\n",
       "moderate              8    24      2895                 18      14\n",
       "moderately severe     5     7         8               2816       7\n",
       "severe                8    16         7                  5    2385"
      ]
     },
     "execution_count": 49,
     "metadata": {
      "tags": []
     },
     "output_type": "execute_result"
    }
   ],
   "source": [
    "test_a = np.stack(test_lp_b['t_answer'], axis=0)\n",
    "test_y = np.stack(test_lp_b['cat_level'], axis=0)\n",
    "df_confusion = confusion_matrix(model, test_a, test_y)\n",
    "df_confusion"
   ]
  },
  {
   "cell_type": "markdown",
   "metadata": {
    "id": "aV48sjrVohcM",
    "colab_type": "text"
   },
   "source": [
    "Probamos el modelo con frases de diferente contenido"
   ]
  },
  {
   "cell_type": "code",
   "execution_count": 52,
   "metadata": {
    "id": "Hw8JQFxeTB5Z",
    "colab_type": "code",
    "outputId": "f74457de-7de2-4959-e97b-424bbdd3982e",
    "colab": {
     "base_uri": "https://localhost:8080/",
     "height": 221.0
    }
   },
   "outputs": [
    {
     "name": "stdout",
     "output_type": "stream",
     "text": [
      "All is going right with the party, I'm happy to know new people\n",
      "[[0.91757417 0.04163578 0.02437234 0.00603157 0.01038613]]\n",
      "none\n",
      "I want an ice cream and have some fries for lunch\n",
      "[[2.9371495e-05 9.8760903e-01 1.2255439e-02 8.2105880e-06 9.8008029e-05]]\n",
      "mild\n",
      "I'm afraid of lose my work, I don't have any money\n",
      "[[0.00625332 0.7135069  0.01681946 0.04589701 0.21752344]]\n",
      "mild\n",
      "I'm worried about my future, I'm afroid of it\n",
      "[[0.70848745 0.04342343 0.21481507 0.02298592 0.01028808]]\n",
      "none\n"
     ]
    }
   ],
   "source": [
    "sen = \"All is going right with the party, I'm happy to know new people\"\n",
    "test_model(sen, model)\n",
    "sen = \"I want an ice cream and have some fries for lunch\"\n",
    "test_model(sen, model)\n",
    "sen = \"I'm afraid of lose my work, I don't have any money\"\n",
    "test_model(sen, model)\n",
    "sen = \"I'm worried about my future, I'm afroid of it\"\n",
    "test_model(sen, model)"
   ]
  },
  {
   "cell_type": "markdown",
   "metadata": {
    "colab_type": "text",
    "id": "ODtz8kfszH-z"
   },
   "source": [
    "####Modelo 2"
   ]
  },
  {
   "cell_type": "markdown",
   "metadata": {
    "id": "xLsebIKdvhwT",
    "colab_type": "text"
   },
   "source": [
    "El primer modelo utiliza el modelo pre entrenado GLObalVEctor que consiste en vectores de 100 elementos que caracterizan para palabra del modelo"
   ]
  },
  {
   "cell_type": "markdown",
   "metadata": {
    "id": "yajMCYKFvqoR",
    "colab_type": "text"
   },
   "source": [
    "Cargamos el modelo de google news vectors negative mediante el uso de la libreria gensim"
   ]
  },
  {
   "cell_type": "code",
   "execution_count": 0,
   "metadata": {
    "id": "IUUw9Xw4tkha",
    "colab_type": "code",
    "colab": {}
   },
   "outputs": [],
   "source": [
    "word2vec = gensim.models.KeyedVectors.load_word2vec_format('/content/drive/My Drive/Colab Notebooks/GoogleNews-vectors-negative300.bin', binary=True)  "
   ]
  },
  {
   "cell_type": "markdown",
   "metadata": {
    "id": "cr3LwpZTvps8",
    "colab_type": "text"
   },
   "source": [
    "Función que genera la matriz de embedding con el tokenizer utilizado para generar el dataset de entrenamiento"
   ]
  },
  {
   "cell_type": "code",
   "execution_count": 0,
   "metadata": {
    "id": "JTqHtDfj5YDE",
    "colab_type": "code",
    "colab": {}
   },
   "outputs": [],
   "source": [
    "def fill_embedding_matrix_google(vocab_size, tokenizer):  \n",
    "  embedding_matrix = np.zeros((vocab_size+1, 300))  \n",
    "  for word, i in tokenizer.word_index.items():\n",
    "      if word in word2vec.vocab:        \n",
    "          embedding_matrix[i] = word2vec.word_vec(word)        \n",
    "  return embedding_matrix"
   ]
  },
  {
   "cell_type": "code",
   "execution_count": 0,
   "metadata": {
    "id": "4sdWyRGF1xJ-",
    "colab_type": "code",
    "colab": {}
   },
   "outputs": [],
   "source": [
    "embedding_matrix_gg = fill_embedding_matrix_google(vocab_size, tokenizer)"
   ]
  },
  {
   "cell_type": "markdown",
   "metadata": {
    "id": "M27NTIVQv4DB",
    "colab_type": "text"
   },
   "source": [
    ""
   ]
  },
  {
   "cell_type": "code",
   "execution_count": 0,
   "metadata": {
    "id": "sFIpGo1s6uc_",
    "colab_type": "code",
    "colab": {}
   },
   "outputs": [],
   "source": [
    "EMBEDDING_DIM = 300\n",
    "MAX_SEQUENCE_LENGTH = windows_size\n",
    "num_lstm = np.random.randint(175, 275)\n",
    "num_dense = np.random.randint(100, 150)\n",
    "rate_drop_lstm = 0.15 + np.random.rand() * 0.25\n",
    "rate_drop_dense = 0.15 + np.random.rand() * 0.25\n",
    "\n",
    "act = 'relu'\n",
    "\n",
    "STAMP = 'lstm_%d_%d_%.2f_%.2f'%(num_lstm, num_dense, rate_drop_lstm, \\\n",
    "        rate_drop_dense)\n",
    "\n",
    "embedding_layer = Embedding(vocab_size+1,\n",
    "        EMBEDDING_DIM,\n",
    "        weights=[embedding_matrix_gg],\n",
    "        input_length=MAX_SEQUENCE_LENGTH,\n",
    "        trainable=False)\n",
    "\n",
    "lstm_layer = LSTM(num_lstm, dropout=rate_drop_lstm, recurrent_dropout=rate_drop_lstm)\n",
    "\n",
    "answer_inp = Input(shape=(MAX_SEQUENCE_LENGTH,), dtype='int32')\n",
    "embedded_sequences_1 = embedding_layer(answer_inp)\n",
    "x1 = lstm_layer(embedded_sequences_1)\n",
    "\n",
    "merged = x1\n",
    "merged = Dropout(rate_drop_dense)(merged)\n",
    "merged = BatchNormalization()(merged)\n",
    "\n",
    "merged = Dense(num_dense, activation=act)(merged)\n",
    "merged = Dropout(rate_drop_dense)(merged)\n",
    "merged = BatchNormalization()(merged)\n",
    "\n",
    "out = Dense(5, activation='softmax')(merged)\n",
    "\n",
    "model_gg_1 = Model(inputs=[answer_inp], outputs=[out])\n",
    "model_gg_1.compile(optimizer=\"adam\", loss='categorical_crossentropy', metrics=['accuracy'])"
   ]
  },
  {
   "cell_type": "code",
   "execution_count": 0,
   "metadata": {
    "id": "fhEze8_Q7as2",
    "colab_type": "code",
    "outputId": "e1612b84-2acb-45a1-8f19-d605ae38681c",
    "colab": {
     "base_uri": "https://localhost:8080/",
     "height": 1054.0
    }
   },
   "outputs": [
    {
     "name": "stdout",
     "output_type": "stream",
     "text": [
      "Train on 65105 samples, validate on 13020 samples\n",
      "Epoch 1/30\n",
      "65105/65105 [==============================] - 45s 694us/step - loss: 1.6589 - acc: 0.2717 - val_loss: 1.5059 - val_acc: 0.3367\n",
      "Epoch 2/30\n",
      "65105/65105 [==============================] - 43s 668us/step - loss: 1.5138 - acc: 0.3286 - val_loss: 1.4690 - val_acc: 0.3624\n",
      "Epoch 3/30\n",
      "65105/65105 [==============================] - 43s 667us/step - loss: 1.4674 - acc: 0.3645 - val_loss: 1.3966 - val_acc: 0.4098\n",
      "Epoch 4/30\n",
      "65105/65105 [==============================] - 43s 668us/step - loss: 1.3740 - acc: 0.4226 - val_loss: 1.2622 - val_acc: 0.4768\n",
      "Epoch 5/30\n",
      "65105/65105 [==============================] - 43s 668us/step - loss: 1.2222 - acc: 0.5045 - val_loss: 1.0851 - val_acc: 0.5693\n",
      "Epoch 6/30\n",
      "65105/65105 [==============================] - 44s 668us/step - loss: 1.0535 - acc: 0.5853 - val_loss: 0.9070 - val_acc: 0.6552\n",
      "Epoch 7/30\n",
      "65105/65105 [==============================] - 43s 668us/step - loss: 0.8917 - acc: 0.6569 - val_loss: 0.7398 - val_acc: 0.7273\n",
      "Epoch 8/30\n",
      "65105/65105 [==============================] - 43s 665us/step - loss: 0.7531 - acc: 0.7178 - val_loss: 0.6040 - val_acc: 0.7833\n",
      "Epoch 9/30\n",
      "65105/65105 [==============================] - 43s 667us/step - loss: 0.6494 - acc: 0.7597 - val_loss: 0.4807 - val_acc: 0.8316\n",
      "Epoch 10/30\n",
      "65105/65105 [==============================] - 43s 668us/step - loss: 0.5565 - acc: 0.7962 - val_loss: 0.3893 - val_acc: 0.8615\n",
      "Epoch 11/30\n",
      "65105/65105 [==============================] - 43s 667us/step - loss: 0.4892 - acc: 0.8231 - val_loss: 0.3182 - val_acc: 0.8919\n",
      "Epoch 12/30\n",
      "65105/65105 [==============================] - 44s 668us/step - loss: 0.4253 - acc: 0.8460 - val_loss: 0.2660 - val_acc: 0.9071\n",
      "Epoch 13/30\n",
      "65105/65105 [==============================] - 43s 667us/step - loss: 0.3814 - acc: 0.8656 - val_loss: 0.2391 - val_acc: 0.9222\n",
      "Epoch 14/30\n",
      "65105/65105 [==============================] - 44s 668us/step - loss: 0.3402 - acc: 0.8776 - val_loss: 0.1915 - val_acc: 0.9336\n",
      "Epoch 15/30\n",
      "65105/65105 [==============================] - 43s 666us/step - loss: 0.3057 - acc: 0.8924 - val_loss: 0.1790 - val_acc: 0.9384\n",
      "Epoch 16/30\n",
      "65105/65105 [==============================] - 43s 666us/step - loss: 0.2783 - acc: 0.9029 - val_loss: 0.1583 - val_acc: 0.9479\n",
      "Epoch 17/30\n",
      "65105/65105 [==============================] - 43s 668us/step - loss: 0.2537 - acc: 0.9123 - val_loss: 0.1335 - val_acc: 0.9568\n",
      "Epoch 18/30\n",
      "65105/65105 [==============================] - 44s 670us/step - loss: 0.2393 - acc: 0.9176 - val_loss: 0.1217 - val_acc: 0.9608\n",
      "Epoch 19/30\n",
      "65105/65105 [==============================] - 43s 667us/step - loss: 0.2162 - acc: 0.9254 - val_loss: 0.1076 - val_acc: 0.9641\n",
      "Epoch 20/30\n",
      "65105/65105 [==============================] - 43s 666us/step - loss: 0.2081 - acc: 0.9282 - val_loss: 0.1016 - val_acc: 0.9660\n",
      "Epoch 21/30\n",
      "65105/65105 [==============================] - 43s 668us/step - loss: 0.1918 - acc: 0.9345 - val_loss: 0.0983 - val_acc: 0.9676\n",
      "Epoch 22/30\n",
      "65105/65105 [==============================] - 43s 666us/step - loss: 0.1817 - acc: 0.9387 - val_loss: 0.0876 - val_acc: 0.9721\n",
      "Epoch 23/30\n",
      "65105/65105 [==============================] - 43s 664us/step - loss: 0.1699 - acc: 0.9428 - val_loss: 0.0896 - val_acc: 0.9691\n",
      "Epoch 24/30\n",
      "65105/65105 [==============================] - 43s 666us/step - loss: 0.1633 - acc: 0.9451 - val_loss: 0.0770 - val_acc: 0.9754\n",
      "Epoch 25/30\n",
      "65105/65105 [==============================] - 43s 667us/step - loss: 0.1547 - acc: 0.9473 - val_loss: 0.0718 - val_acc: 0.9775\n",
      "Epoch 26/30\n",
      "65105/65105 [==============================] - 43s 668us/step - loss: 0.1510 - acc: 0.9489 - val_loss: 0.0599 - val_acc: 0.9810\n",
      "Epoch 27/30\n",
      "65105/65105 [==============================] - 43s 667us/step - loss: 0.1433 - acc: 0.9514 - val_loss: 0.0643 - val_acc: 0.9789\n",
      "Epoch 28/30\n",
      "65105/65105 [==============================] - 43s 667us/step - loss: 0.1327 - acc: 0.9547 - val_loss: 0.0649 - val_acc: 0.9794\n",
      "Epoch 29/30\n",
      "65105/65105 [==============================] - 43s 667us/step - loss: 0.1352 - acc: 0.9553 - val_loss: 0.0540 - val_acc: 0.9828\n",
      "Epoch 30/30\n",
      "65105/65105 [==============================] - 43s 668us/step - loss: 0.1252 - acc: 0.9580 - val_loss: 0.0566 - val_acc: 0.9806\n"
     ]
    }
   ],
   "source": [
    "early_stopping = EarlyStopping(monitor='val_loss', patience=10)\n",
    "bst_model_path = STAMP + '.google.h5'\n",
    "model_checkpoint = ModelCheckpoint(bst_model_path, save_best_only=True, save_weights_only=True)\n",
    "\n",
    "model_google_hist = model_gg_1.fit([train_b_a], train_b_y, \\\n",
    "        validation_data=([dev_b_a], dev_b_y), \\\n",
    "        epochs=30, batch_size=64, shuffle=True, \\\n",
    "         callbacks=[early_stopping, model_checkpoint])"
   ]
  },
  {
   "cell_type": "code",
   "execution_count": 0,
   "metadata": {
    "id": "EgK6JcQIvw5Z",
    "colab_type": "code",
    "outputId": "6ea65106-0279-4723-9fc8-2ab698d05fe1",
    "colab": {
     "base_uri": "https://localhost:8080/",
     "height": 221.0
    }
   },
   "outputs": [
    {
     "name": "stdout",
     "output_type": "stream",
     "text": [
      "All is going right with the party, I'm happy to know new people\n",
      "[[9.9917454e-01 5.5977824e-05 7.0043391e-04 5.8408415e-05 1.0548229e-05]]\n",
      "none\n",
      "I want an ice cream and have some fries for lunch\n",
      "[[1.9910915e-03 9.9590093e-01 1.2515798e-03 1.3596989e-04 7.2039827e-04]]\n",
      "mild\n",
      "I'm afraid of lose my work, I don't have any money\n",
      "[[9.4489747e-05 1.5762453e-04 2.2937744e-03 8.5062720e-02 9.1239142e-01]]\n",
      "severe\n",
      "I'm worried about my future, I'm afroid of it\n",
      "[[3.8276261e-04 1.9378921e-03 7.4735628e-03 3.2245439e-02 9.5796037e-01]]\n",
      "severe\n"
     ]
    }
   ],
   "source": [
    "sen = \"All is going right with the party, I'm happy to know new people\"\n",
    "test_model(sen, model_gg_1)\n",
    "sen = \"I want an ice cream and have some fries for lunch\"\n",
    "test_model(sen, model_gg_1)\n",
    "sen = \"I'm afraid of lose my work, I don't have any money\"\n",
    "test_model(sen, model_gg_1)\n",
    "sen = \"I'm worried about my future, I'm afroid of it\"\n",
    "test_model(sen, model_gg_1)"
   ]
  },
  {
   "cell_type": "markdown",
   "metadata": {
    "id": "wDYXdwFDwMpn",
    "colab_type": "text"
   },
   "source": [
    "### Modelo 3"
   ]
  },
  {
   "cell_type": "code",
   "execution_count": 0,
   "metadata": {
    "id": "7S9RYBzc8iva",
    "colab_type": "code",
    "colab": {}
   },
   "outputs": [],
   "source": [
    "EMBEDDING_DIM = 100\n",
    "MAX_SEQUENCE_LENGTH = windows_size\n",
    "\n",
    "num_lstm = np.random.randint(175, 275)\n",
    "num_dense = np.random.randint(100, 150)\n",
    "rate_drop_lstm = 0.15 + np.random.rand() * 0.25\n",
    "rate_drop_dense = 0.15 + np.random.rand() * 0.25\n",
    "\n",
    "act = 'relu'\n",
    "\n",
    "STAMP = 'lstm_%d_%d_%.2f_%.2f'%(num_lstm, num_dense, rate_drop_lstm, \\\n",
    "        rate_drop_dense)\n",
    "\n",
    "embedding_layer = Embedding(vocab_size+1,\n",
    "        EMBEDDING_DIM,\n",
    "        weights=[embedding_matrix_lp],\n",
    "        input_length=MAX_SEQUENCE_LENGTH,\n",
    "        trainable=False)\n",
    "\n",
    "lstm_layer1 = LSTM(num_lstm, return_sequences= True, dropout=rate_drop_lstm, recurrent_dropout=rate_drop_lstm) \n",
    "lstm_layer2 = LSTM(num_lstm, dropout=rate_drop_lstm, recurrent_dropout=rate_drop_lstm)\n",
    "\n",
    "sequence_1_input = Input(shape=(MAX_SEQUENCE_LENGTH,), dtype='int32')\n",
    "embedded_sequences_1 = embedding_layer(sequence_1_input)\n",
    "x1 = lstm_layer1(embedded_sequences_1)\n",
    "merged = lstm_layer2(x1)\n",
    "\n",
    "merged = Dropout(rate_drop_dense)(merged)\n",
    "merged = BatchNormalization()(merged)\n",
    "\n",
    "preds = Dense(5, activation='softmax')(merged)\n",
    "\n",
    "model_gg_2 = Model(inputs=[sequence_1_input], \\\n",
    "        outputs=preds)\n",
    "\n",
    "model_gg_2.compile(loss='categorical_crossentropy',\n",
    "        optimizer='nadam',\n",
    "        metrics=['acc'])  "
   ]
  },
  {
   "cell_type": "code",
   "execution_count": 54,
   "metadata": {
    "id": "Xm0kuf9kHC95",
    "colab_type": "code",
    "outputId": "20f73694-cd33-4b48-dd48-5ad13d89b8a1",
    "colab": {
     "base_uri": "https://localhost:8080/",
     "height": 1054.0
    }
   },
   "outputs": [
    {
     "name": "stdout",
     "output_type": "stream",
     "text": [
      "Train on 64178 samples, validate on 12835 samples\n",
      "Epoch 1/30\n",
      "64178/64178 [==============================] - 80s 1ms/step - loss: 1.6505 - acc: 0.2514 - val_loss: 1.5817 - val_acc: 0.2547\n",
      "Epoch 2/30\n",
      "64178/64178 [==============================] - 78s 1ms/step - loss: 1.5415 - acc: 0.3119 - val_loss: 1.4637 - val_acc: 0.3684\n",
      "Epoch 3/30\n",
      "64178/64178 [==============================] - 78s 1ms/step - loss: 1.4276 - acc: 0.3894 - val_loss: 1.2763 - val_acc: 0.4779\n",
      "Epoch 4/30\n",
      "64178/64178 [==============================] - 78s 1ms/step - loss: 1.2642 - acc: 0.4838 - val_loss: 1.0798 - val_acc: 0.5710\n",
      "Epoch 5/30\n",
      "64178/64178 [==============================] - 78s 1ms/step - loss: 1.1047 - acc: 0.5647 - val_loss: 0.8821 - val_acc: 0.6647\n",
      "Epoch 6/30\n",
      "64178/64178 [==============================] - 78s 1ms/step - loss: 0.9725 - acc: 0.6255 - val_loss: 0.7400 - val_acc: 0.7301\n",
      "Epoch 7/30\n",
      "64178/64178 [==============================] - 78s 1ms/step - loss: 0.8786 - acc: 0.6638 - val_loss: 0.6313 - val_acc: 0.7669\n",
      "Epoch 8/30\n",
      "64178/64178 [==============================] - 78s 1ms/step - loss: 0.8069 - acc: 0.6960 - val_loss: 0.5330 - val_acc: 0.8079\n",
      "Epoch 9/30\n",
      "64178/64178 [==============================] - 78s 1ms/step - loss: 0.7500 - acc: 0.7193 - val_loss: 0.4701 - val_acc: 0.8342\n",
      "Epoch 10/30\n",
      "64178/64178 [==============================] - 78s 1ms/step - loss: 0.7033 - acc: 0.7365 - val_loss: 0.4403 - val_acc: 0.8479\n",
      "Epoch 11/30\n",
      "64178/64178 [==============================] - 78s 1ms/step - loss: 0.6713 - acc: 0.7528 - val_loss: 0.3957 - val_acc: 0.8653\n",
      "Epoch 12/30\n",
      "64178/64178 [==============================] - 78s 1ms/step - loss: 0.6448 - acc: 0.7624 - val_loss: 0.3670 - val_acc: 0.8778\n",
      "Epoch 13/30\n",
      "64178/64178 [==============================] - 78s 1ms/step - loss: 0.6142 - acc: 0.7732 - val_loss: 0.3322 - val_acc: 0.8905\n",
      "Epoch 14/30\n",
      "64178/64178 [==============================] - 78s 1ms/step - loss: 0.5930 - acc: 0.7822 - val_loss: 0.3160 - val_acc: 0.8942\n",
      "Epoch 15/30\n",
      "64178/64178 [==============================] - 78s 1ms/step - loss: 0.5715 - acc: 0.7931 - val_loss: 0.2965 - val_acc: 0.9018\n",
      "Epoch 16/30\n",
      "64178/64178 [==============================] - 78s 1ms/step - loss: 0.5588 - acc: 0.7955 - val_loss: 0.2800 - val_acc: 0.9077\n",
      "Epoch 17/30\n",
      "64178/64178 [==============================] - 78s 1ms/step - loss: 0.5373 - acc: 0.8050 - val_loss: 0.2602 - val_acc: 0.9148\n",
      "Epoch 18/30\n",
      "64178/64178 [==============================] - 77s 1ms/step - loss: 0.5253 - acc: 0.8093 - val_loss: 0.2420 - val_acc: 0.9190\n",
      "Epoch 19/30\n",
      "64178/64178 [==============================] - 78s 1ms/step - loss: 0.5129 - acc: 0.8143 - val_loss: 0.2363 - val_acc: 0.9240\n",
      "Epoch 20/30\n",
      "64178/64178 [==============================] - 78s 1ms/step - loss: 0.5005 - acc: 0.8187 - val_loss: 0.2209 - val_acc: 0.9296\n",
      "Epoch 21/30\n",
      "64178/64178 [==============================] - 78s 1ms/step - loss: 0.4892 - acc: 0.8228 - val_loss: 0.2201 - val_acc: 0.9279\n",
      "Epoch 22/30\n",
      "64178/64178 [==============================] - 78s 1ms/step - loss: 0.4849 - acc: 0.8257 - val_loss: 0.2038 - val_acc: 0.9350\n",
      "Epoch 23/30\n",
      "64178/64178 [==============================] - 78s 1ms/step - loss: 0.4772 - acc: 0.8280 - val_loss: 0.1981 - val_acc: 0.9370\n",
      "Epoch 24/30\n",
      "64178/64178 [==============================] - 78s 1ms/step - loss: 0.4646 - acc: 0.8322 - val_loss: 0.1956 - val_acc: 0.9372\n",
      "Epoch 25/30\n",
      "64178/64178 [==============================] - 77s 1ms/step - loss: 0.4617 - acc: 0.8357 - val_loss: 0.1861 - val_acc: 0.9406\n",
      "Epoch 26/30\n",
      "64178/64178 [==============================] - 76s 1ms/step - loss: 0.4601 - acc: 0.8360 - val_loss: 0.1718 - val_acc: 0.9477\n",
      "Epoch 27/30\n",
      "64178/64178 [==============================] - 76s 1ms/step - loss: 0.4441 - acc: 0.8415 - val_loss: 0.1779 - val_acc: 0.9457\n",
      "Epoch 28/30\n",
      "64178/64178 [==============================] - 76s 1ms/step - loss: 0.4424 - acc: 0.8425 - val_loss: 0.1712 - val_acc: 0.9472\n",
      "Epoch 29/30\n",
      "64178/64178 [==============================] - 76s 1ms/step - loss: 0.4400 - acc: 0.8430 - val_loss: 0.1634 - val_acc: 0.9483\n",
      "Epoch 30/30\n",
      "64178/64178 [==============================] - 76s 1ms/step - loss: 0.4290 - acc: 0.8473 - val_loss: 0.1539 - val_acc: 0.9511\n"
     ]
    }
   ],
   "source": [
    "early_stopping = EarlyStopping(monitor='val_loss', patience=10)\n",
    "bst_model_path = STAMP + '.google2.h5'\n",
    "model_checkpoint = ModelCheckpoint(bst_model_path, save_best_only=True, save_weights_only=True)\n",
    "\n",
    "model_google_hist = model_gg_2.fit([train_b_a], train_b_y, \\\n",
    "        validation_data=([dev_b_a], dev_b_y), \\\n",
    "        epochs=30, batch_size=64, shuffle=True, \\\n",
    "         callbacks=[early_stopping, model_checkpoint])"
   ]
  },
  {
   "cell_type": "code",
   "execution_count": 55,
   "metadata": {
    "id": "qemogdk_PjGG",
    "colab_type": "code",
    "outputId": "72ff4f2c-c87c-463d-c1a7-ff58f6c9fcf1",
    "colab": {
     "base_uri": "https://localhost:8080/",
     "height": 221.0
    }
   },
   "outputs": [
    {
     "name": "stdout",
     "output_type": "stream",
     "text": [
      "All is going right with the party, I'm happy to know new people\n",
      "[[0.96240765 0.00927616 0.02295653 0.00381057 0.00154902]]\n",
      "none\n",
      "I want an ice cream and have some fries for lunch\n",
      "[[7.1605165e-03 9.8389721e-01 8.6737942e-04 1.8937162e-03 6.1811777e-03]]\n",
      "mild\n",
      "I'm afraid of lose my work, I don't have any money\n",
      "[[0.03731487 0.01673353 0.19901645 0.01510117 0.73183405]]\n",
      "severe\n",
      "I'm worried about my future, I'm afroid of it\n",
      "[[0.02280828 0.00130085 0.94699836 0.01692226 0.01197031]]\n",
      "moderate\n"
     ]
    }
   ],
   "source": [
    "sen = \"All is going right with the party, I'm happy to know new people\"\n",
    "test_model(sen, model_gg_2)\n",
    "sen = \"I want an ice cream and have some fries for lunch\"\n",
    "test_model(sen, model_gg_2)\n",
    "sen = \"I'm afraid of lose my work, I don't have any money\"\n",
    "test_model(sen, model_gg_2)\n",
    "sen = \"I'm worried about my future, I'm afroid of it\"\n",
    "test_model(sen, model_gg_2)"
   ]
  },
  {
   "cell_type": "markdown",
   "metadata": {
    "id": "PDGhSyASwS0T",
    "colab_type": "text"
   },
   "source": [
    "### Modelo 4"
   ]
  },
  {
   "cell_type": "code",
   "execution_count": 0,
   "metadata": {
    "id": "xWMTIwJwA1x5",
    "colab_type": "code",
    "outputId": "37bdd55f-3a23-470b-be7e-0db32d784269",
    "colab": {
     "base_uri": "https://localhost:8080/",
     "height": 476.0
    }
   },
   "outputs": [
    {
     "name": "stdout",
     "output_type": "stream",
     "text": [
      "__________________________________________________________________________________________________\n",
      "Layer (type)                    Output Shape         Param #     Connected to                     \n",
      "==================================================================================================\n",
      "input_13 (InputLayer)           (None, 10)           0                                            \n",
      "__________________________________________________________________________________________________\n",
      "embedding_11 (Embedding)        (None, 10, 100)      737400      input_13[0][0]                   \n",
      "__________________________________________________________________________________________________\n",
      "lstm_17 (LSTM)                  (None, 265)          387960      embedding_11[0][0]               \n",
      "__________________________________________________________________________________________________\n",
      "dropout_8 (Dropout)             (None, 265)          0           lstm_17[0][0]                    \n",
      "__________________________________________________________________________________________________\n",
      "batch_normalization_10 (BatchNo (None, 265)          1060        dropout_8[0][0]                  \n",
      "__________________________________________________________________________________________________\n",
      "dense_15 (Dense)                (None, 141)          37506       batch_normalization_10[0][0]     \n",
      "__________________________________________________________________________________________________\n",
      "dropout_9 (Dropout)             (None, 141)          0           dense_15[0][0]                   \n",
      "__________________________________________________________________________________________________\n",
      "batch_normalization_11 (BatchNo (None, 141)          564         dropout_9[0][0]                  \n",
      "__________________________________________________________________________________________________\n",
      "dense_16 (Dense)                (None, 5)            710         batch_normalization_11[0][0]     \n",
      "__________________________________________________________________________________________________\n",
      "dense_17 (Dense)                (None, 1)            142         batch_normalization_11[0][0]     \n",
      "==================================================================================================\n",
      "Total params: 1,165,342\n",
      "Trainable params: 427,130\n",
      "Non-trainable params: 738,212\n",
      "__________________________________________________________________________________________________\n"
     ]
    }
   ],
   "source": [
    "num_lstm = np.random.randint(175, 275)\n",
    "num_dense = np.random.randint(100, 150)\n",
    "rate_drop_lstm = 0.15 + np.random.rand() * 0.25\n",
    "rate_drop_dense = 0.15 + np.random.rand() * 0.25\n",
    "act = 'relu'\n",
    "\n",
    "embedding_layer = Embedding(vocab_size+1,\n",
    "        EMBEDDING_DIM,\n",
    "        weights=[embedding_matrix_lp],\n",
    "        input_length=MAX_SEQUENCE_LENGTH,\n",
    "        trainable=False)\n",
    "lstm_layer = LSTM(num_lstm, dropout=rate_drop_lstm, recurrent_dropout=rate_drop_lstm)\n",
    "\n",
    "sequence_1_input = Input(shape=(MAX_SEQUENCE_LENGTH,), dtype='int32')\n",
    "embedded_sequences_1 = embedding_layer(sequence_1_input)\n",
    "x1 = lstm_layer(embedded_sequences_1)\n",
    "\n",
    "merged = Dropout(rate_drop_dense)(x1)\n",
    "merged = BatchNormalization()(merged)\n",
    "\n",
    "merged = Dense(num_dense, activation=act)(merged)\n",
    "merged = Dropout(rate_drop_dense)(merged)\n",
    "merged = BatchNormalization()(merged)\n",
    "\n",
    "preds_1 = Dense(5, activation='softmax')(merged)\n",
    "preds_2 = Dense(1, activation='sigmoid')(merged)\n",
    "\n",
    "model = Model(inputs=[sequence_1_input], \\\n",
    "        outputs=[preds_1, preds_2])\n",
    "\n",
    "model.compile(loss=['categorical_crossentropy', 'mean_squared_error'],\n",
    "        optimizer='nadam', loss_weights=[1., 0.2],\n",
    "        metrics=['acc'])\n",
    "\n",
    "model.summary()"
   ]
  },
  {
   "cell_type": "code",
   "execution_count": 0,
   "metadata": {
    "id": "kwjW1D6WRGHE",
    "colab_type": "code",
    "colab": {}
   },
   "outputs": [],
   "source": [
    "train_phq_score = train_lp_b['PHQ8_Score'] \n",
    "dev_phq_score = dev_lp_b['PHQ8_Score'] \n",
    "test_phq_score = test_lp_b['PHQ8_Score'] "
   ]
  },
  {
   "cell_type": "code",
   "execution_count": 0,
   "metadata": {
    "id": "jmAwkB1oBgHt",
    "colab_type": "code",
    "outputId": "c904c10b-f8a2-44d2-d14f-8ca86ae96778",
    "colab": {
     "base_uri": "https://localhost:8080/",
     "height": 1074.0
    }
   },
   "outputs": [
    {
     "name": "stdout",
     "output_type": "stream",
     "text": [
      "Train on 66771 samples, validate on 13354 samples\n",
      "Epoch 1/30\n",
      "66771/66771 [==============================] - 51s 767us/step - loss: 19.1457 - dense_16_loss: 1.6423 - dense_17_loss: 87.5170 - dense_16_acc: 0.2572 - dense_17_acc: 0.0237 - val_loss: 19.0494 - val_dense_16_loss: 1.5619 - val_dense_17_loss: 87.4372 - val_dense_16_acc: 0.2885 - val_dense_17_acc: 0.0207\n",
      "Epoch 2/30\n",
      "66771/66771 [==============================] - 49s 729us/step - loss: 18.9756 - dense_16_loss: 1.5501 - dense_17_loss: 87.1278 - dense_16_acc: 0.3012 - dense_17_acc: 0.0198 - val_loss: 18.9897 - val_dense_16_loss: 1.5024 - val_dense_17_loss: 87.4365 - val_dense_16_acc: 0.3388 - val_dense_17_acc: 0.0207\n",
      "Epoch 3/30\n",
      "66771/66771 [==============================] - 48s 718us/step - loss: 18.9106 - dense_16_loss: 1.4853 - dense_17_loss: 87.1265 - dense_16_acc: 0.3526 - dense_17_acc: 0.0198 - val_loss: 18.8752 - val_dense_16_loss: 1.3879 - val_dense_17_loss: 87.4364 - val_dense_16_acc: 0.4206 - val_dense_17_acc: 0.0207\n",
      "Epoch 4/30\n",
      "66771/66771 [==============================] - 49s 734us/step - loss: 18.8163 - dense_16_loss: 1.3910 - dense_17_loss: 87.1262 - dense_16_acc: 0.4130 - dense_17_acc: 0.0198 - val_loss: 18.7390 - val_dense_16_loss: 1.2517 - val_dense_17_loss: 87.4364 - val_dense_16_acc: 0.4955 - val_dense_17_acc: 0.0207\n",
      "Epoch 5/30\n",
      "66771/66771 [==============================] - 48s 713us/step - loss: 18.6947 - dense_16_loss: 1.2695 - dense_17_loss: 87.1261 - dense_16_acc: 0.4819 - dense_17_acc: 0.0198 - val_loss: 18.5712 - val_dense_16_loss: 1.0839 - val_dense_17_loss: 87.4363 - val_dense_16_acc: 0.5788 - val_dense_17_acc: 0.0207\n",
      "Epoch 6/30\n",
      "66771/66771 [==============================] - 47s 703us/step - loss: 18.5704 - dense_16_loss: 1.1452 - dense_17_loss: 87.1260 - dense_16_acc: 0.5461 - dense_17_acc: 0.0198 - val_loss: 18.3976 - val_dense_16_loss: 0.9103 - val_dense_17_loss: 87.4362 - val_dense_16_acc: 0.6551 - val_dense_17_acc: 0.0207\n",
      "Epoch 7/30\n",
      "66771/66771 [==============================] - 48s 715us/step - loss: 18.4619 - dense_16_loss: 1.0368 - dense_17_loss: 87.1259 - dense_16_acc: 0.5970 - dense_17_acc: 0.0198 - val_loss: 18.2712 - val_dense_16_loss: 0.7840 - val_dense_17_loss: 87.4362 - val_dense_16_acc: 0.7187 - val_dense_17_acc: 0.0207\n",
      "Epoch 8/30\n",
      "66771/66771 [==============================] - 47s 703us/step - loss: 18.3752 - dense_16_loss: 0.9500 - dense_17_loss: 87.1258 - dense_16_acc: 0.6366 - dense_17_acc: 0.0198 - val_loss: 18.1574 - val_dense_16_loss: 0.6702 - val_dense_17_loss: 87.4361 - val_dense_16_acc: 0.7619 - val_dense_17_acc: 0.0207\n",
      "Epoch 9/30\n",
      "66771/66771 [==============================] - 47s 702us/step - loss: 18.3050 - dense_16_loss: 0.8798 - dense_17_loss: 87.1258 - dense_16_acc: 0.6682 - dense_17_acc: 0.0198 - val_loss: 18.0858 - val_dense_16_loss: 0.5986 - val_dense_17_loss: 87.4361 - val_dense_16_acc: 0.7882 - val_dense_17_acc: 0.0207\n",
      "Epoch 10/30\n",
      "66771/66771 [==============================] - 47s 702us/step - loss: 18.2494 - dense_16_loss: 0.8243 - dense_17_loss: 87.1257 - dense_16_acc: 0.6921 - dense_17_acc: 0.0198 - val_loss: 18.0270 - val_dense_16_loss: 0.5398 - val_dense_17_loss: 87.4361 - val_dense_16_acc: 0.8150 - val_dense_17_acc: 0.0207\n",
      "Epoch 11/30\n",
      "66771/66771 [==============================] - 48s 715us/step - loss: 18.2060 - dense_16_loss: 0.7808 - dense_17_loss: 87.1256 - dense_16_acc: 0.7087 - dense_17_acc: 0.0198 - val_loss: 17.9639 - val_dense_16_loss: 0.4766 - val_dense_17_loss: 87.4361 - val_dense_16_acc: 0.8341 - val_dense_17_acc: 0.0207\n",
      "Epoch 12/30\n",
      "66771/66771 [==============================] - 47s 699us/step - loss: 18.1796 - dense_16_loss: 0.7545 - dense_17_loss: 87.1256 - dense_16_acc: 0.7218 - dense_17_acc: 0.0198 - val_loss: 17.9436 - val_dense_16_loss: 0.4564 - val_dense_17_loss: 87.4361 - val_dense_16_acc: 0.8430 - val_dense_17_acc: 0.0207\n",
      "Epoch 13/30\n",
      "66771/66771 [==============================] - 48s 712us/step - loss: 18.1474 - dense_16_loss: 0.7223 - dense_17_loss: 87.1254 - dense_16_acc: 0.7336 - dense_17_acc: 0.0199 - val_loss: 17.9107 - val_dense_16_loss: 0.4239 - val_dense_17_loss: 87.4337 - val_dense_16_acc: 0.8548 - val_dense_17_acc: 0.0208\n",
      "Epoch 14/30\n",
      "66771/66771 [==============================] - 46s 690us/step - loss: 18.1191 - dense_16_loss: 0.6981 - dense_17_loss: 87.1049 - dense_16_acc: 0.7435 - dense_17_acc: 0.0573 - val_loss: 17.8781 - val_dense_16_loss: 0.4070 - val_dense_17_loss: 87.3554 - val_dense_16_acc: 0.8633 - val_dense_17_acc: 0.0944\n",
      "Epoch 15/30\n",
      "66771/66771 [==============================] - 47s 697us/step - loss: 18.1052 - dense_16_loss: 0.6859 - dense_17_loss: 87.0962 - dense_16_acc: 0.7494 - dense_17_acc: 0.0659 - val_loss: 17.8534 - val_dense_16_loss: 0.3810 - val_dense_17_loss: 87.3622 - val_dense_16_acc: 0.8735 - val_dense_17_acc: 0.0872\n",
      "Epoch 16/30\n",
      "66771/66771 [==============================] - 47s 703us/step - loss: 18.0874 - dense_16_loss: 0.6687 - dense_17_loss: 87.0934 - dense_16_acc: 0.7569 - dense_17_acc: 0.0679 - val_loss: 17.8474 - val_dense_16_loss: 0.3739 - val_dense_17_loss: 87.3674 - val_dense_16_acc: 0.8780 - val_dense_17_acc: 0.0814\n",
      "Epoch 17/30\n",
      "66771/66771 [==============================] - 48s 713us/step - loss: 18.0711 - dense_16_loss: 0.6533 - dense_17_loss: 87.0887 - dense_16_acc: 0.7627 - dense_17_acc: 0.0760 - val_loss: 17.8170 - val_dense_16_loss: 0.3528 - val_dense_17_loss: 87.3214 - val_dense_16_acc: 0.8816 - val_dense_17_acc: 0.1323\n",
      "Epoch 18/30\n",
      "66771/66771 [==============================] - 47s 702us/step - loss: 18.0549 - dense_16_loss: 0.6370 - dense_17_loss: 87.0894 - dense_16_acc: 0.7696 - dense_17_acc: 0.0713 - val_loss: 17.7948 - val_dense_16_loss: 0.3288 - val_dense_17_loss: 87.3297 - val_dense_16_acc: 0.8976 - val_dense_17_acc: 0.1234\n",
      "Epoch 19/30\n",
      "66771/66771 [==============================] - 47s 702us/step - loss: 18.0407 - dense_16_loss: 0.6244 - dense_17_loss: 87.0813 - dense_16_acc: 0.7743 - dense_17_acc: 0.0840 - val_loss: 17.7784 - val_dense_16_loss: 0.3170 - val_dense_17_loss: 87.3074 - val_dense_16_acc: 0.8965 - val_dense_17_acc: 0.1459\n",
      "Epoch 20/30\n",
      "66771/66771 [==============================] - 47s 705us/step - loss: 18.0408 - dense_16_loss: 0.6244 - dense_17_loss: 87.0817 - dense_16_acc: 0.7770 - dense_17_acc: 0.0830 - val_loss: 17.7916 - val_dense_16_loss: 0.3257 - val_dense_17_loss: 87.3294 - val_dense_16_acc: 0.8933 - val_dense_17_acc: 0.1209\n",
      "Epoch 21/30\n",
      "66771/66771 [==============================] - 46s 696us/step - loss: 18.0264 - dense_16_loss: 0.6102 - dense_17_loss: 87.0810 - dense_16_acc: 0.7819 - dense_17_acc: 0.0843 - val_loss: 17.7823 - val_dense_16_loss: 0.3173 - val_dense_17_loss: 87.3250 - val_dense_16_acc: 0.8980 - val_dense_17_acc: 0.1251\n",
      "Epoch 22/30\n",
      "66771/66771 [==============================] - 46s 694us/step - loss: 18.0282 - dense_16_loss: 0.6121 - dense_17_loss: 87.0806 - dense_16_acc: 0.7809 - dense_17_acc: 0.0860 - val_loss: 17.7565 - val_dense_16_loss: 0.2942 - val_dense_17_loss: 87.3115 - val_dense_16_acc: 0.9032 - val_dense_17_acc: 0.1495\n",
      "Epoch 23/30\n",
      "66771/66771 [==============================] - 47s 698us/step - loss: 18.0135 - dense_16_loss: 0.5983 - dense_17_loss: 87.0759 - dense_16_acc: 0.7861 - dense_17_acc: 0.0905 - val_loss: 17.7536 - val_dense_16_loss: 0.2888 - val_dense_17_loss: 87.3238 - val_dense_16_acc: 0.9090 - val_dense_17_acc: 0.1248\n",
      "Epoch 24/30\n",
      "66771/66771 [==============================] - 48s 714us/step - loss: 18.0108 - dense_16_loss: 0.5962 - dense_17_loss: 87.0727 - dense_16_acc: 0.7890 - dense_17_acc: 0.0932 - val_loss: 17.7428 - val_dense_16_loss: 0.2819 - val_dense_17_loss: 87.3044 - val_dense_16_acc: 0.9098 - val_dense_17_acc: 0.1506\n",
      "Epoch 25/30\n",
      "66771/66771 [==============================] - 46s 693us/step - loss: 18.0002 - dense_16_loss: 0.5861 - dense_17_loss: 87.0703 - dense_16_acc: 0.7903 - dense_17_acc: 0.0975 - val_loss: 17.7262 - val_dense_16_loss: 0.2641 - val_dense_17_loss: 87.3106 - val_dense_16_acc: 0.9148 - val_dense_17_acc: 0.1408\n",
      "Epoch 26/30\n",
      "66771/66771 [==============================] - 47s 702us/step - loss: 17.9947 - dense_16_loss: 0.5805 - dense_17_loss: 87.0709 - dense_16_acc: 0.7921 - dense_17_acc: 0.0922 - val_loss: 17.7262 - val_dense_16_loss: 0.2640 - val_dense_17_loss: 87.3111 - val_dense_16_acc: 0.9148 - val_dense_17_acc: 0.1397\n",
      "Epoch 27/30\n",
      "66771/66771 [==============================] - 47s 697us/step - loss: 17.9927 - dense_16_loss: 0.5784 - dense_17_loss: 87.0717 - dense_16_acc: 0.7945 - dense_17_acc: 0.0946 - val_loss: 17.7102 - val_dense_16_loss: 0.2518 - val_dense_17_loss: 87.2922 - val_dense_16_acc: 0.9231 - val_dense_17_acc: 0.1626\n",
      "Epoch 28/30\n",
      "66771/66771 [==============================] - 46s 687us/step - loss: 17.9923 - dense_16_loss: 0.5782 - dense_17_loss: 87.0703 - dense_16_acc: 0.7950 - dense_17_acc: 0.0964 - val_loss: 17.7335 - val_dense_16_loss: 0.2748 - val_dense_17_loss: 87.2935 - val_dense_16_acc: 0.9096 - val_dense_17_acc: 0.1653\n",
      "Epoch 29/30\n",
      "66771/66771 [==============================] - 46s 685us/step - loss: 17.9787 - dense_16_loss: 0.5653 - dense_17_loss: 87.0671 - dense_16_acc: 0.7981 - dense_17_acc: 0.0997 - val_loss: 17.7230 - val_dense_16_loss: 0.2619 - val_dense_17_loss: 87.3056 - val_dense_16_acc: 0.9164 - val_dense_17_acc: 0.1516\n",
      "Epoch 30/30\n",
      "66771/66771 [==============================] - 46s 695us/step - loss: 17.9736 - dense_16_loss: 0.5605 - dense_17_loss: 87.0658 - dense_16_acc: 0.8023 - dense_17_acc: 0.1001 - val_loss: 17.6953 - val_dense_16_loss: 0.2344 - val_dense_17_loss: 87.3045 - val_dense_16_acc: 0.9281 - val_dense_17_acc: 0.1493\n"
     ]
    }
   ],
   "source": [
    "early_stopping =EarlyStopping(monitor='val_loss', patience=3)\n",
    "bst_model_path = STAMP + '.twolosses.h5'\n",
    "model_checkpoint = ModelCheckpoint(bst_model_path, save_best_only=True, save_weights_only=True)\n",
    "\n",
    "hist = model.fit([train_b_a], [train_b_y, train_phq_score], \\\n",
    "        validation_data=([dev_b_a], [dev_b_y, dev_phq_score]), \\\n",
    "        epochs=30, batch_size=64, shuffle=True, callbacks=[early_stopping])"
   ]
  },
  {
   "cell_type": "code",
   "execution_count": 0,
   "metadata": {
    "id": "gycwvZgLX4HP",
    "colab_type": "code",
    "colab": {}
   },
   "outputs": [],
   "source": [
    "def test_model_1(text, model):\n",
    "  print(text)\n",
    "  word_list = text_to_wordlist(text)\n",
    "  sequences = tokenizer.texts_to_sequences([word_list])\n",
    "  sequentes_input = list(itertools.chain(*sequences))\n",
    "  sequentes_input =  pad_sequences([sequentes_input], value=0, padding=\"post\", maxlen=windows_size).tolist()\n",
    "  input_a = np.asarray(sequentes_input)\n",
    "  pred = model.predict(input_a, batch_size=None, verbose=0, steps=None)\n",
    "  print(pred)\n",
    "  predicted_class = np.argmax(pred[0])\n",
    "  print(labels[predicted_class])"
   ]
  },
  {
   "cell_type": "code",
   "execution_count": 58,
   "metadata": {
    "id": "6dKARjI8XrPh",
    "colab_type": "code",
    "outputId": "dd83c272-b4b0-4130-f9d8-1011dd72f680",
    "colab": {
     "base_uri": "https://localhost:8080/",
     "height": 221.0
    }
   },
   "outputs": [
    {
     "name": "stdout",
     "output_type": "stream",
     "text": [
      "All is going right with the party, I'm happy to know new people\n",
      "[[0.91757417 0.04163578 0.02437234 0.00603157 0.01038613]]\n",
      "none\n",
      "I want an ice cream and have some fries for lunch\n",
      "[[2.9371495e-05 9.8760903e-01 1.2255439e-02 8.2105880e-06 9.8008029e-05]]\n",
      "mild\n",
      "I'm afraid of lose my work, I don't have any money\n",
      "[[0.00625332 0.7135069  0.01681946 0.04589701 0.21752344]]\n",
      "mild\n",
      "I'm worried about my future, I'm afraid of it\n",
      "[[0.00097065 0.8856027  0.0748821  0.0059364  0.03260815]]\n",
      "mild\n"
     ]
    }
   ],
   "source": [
    "sen = \"All is going right with the party, I'm happy to know new people\"\n",
    "test_model_1(sen, model)\n",
    "sen = \"I want an ice cream and have some fries for lunch\"\n",
    "test_model_1(sen, model)\n",
    "sen = \"I'm afraid of lose my work, I don't have any money\"\n",
    "test_model_1(sen, model)\n",
    "sen = \"I'm worried about my future, I'm afraid of it\"\n",
    "test_model_1(sen, model)"
   ]
  }
 ],
 "metadata": {
  "colab": {
   "name": "AAAnxiety training notebook.ipynb",
   "version": "0.3.2",
   "provenance": [],
   "collapsed_sections": []
  },
  "kernelspec": {
   "name": "python3",
   "display_name": "Python 3"
  },
  "accelerator": "GPU"
 },
 "nbformat": 4,
 "nbformat_minor": 0
}
